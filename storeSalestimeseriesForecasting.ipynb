{
 "cells": [
  {
   "cell_type": "markdown",
   "id": "a79812f3",
   "metadata": {
    "papermill": {
     "duration": 0.01729,
     "end_time": "2024-03-18T14:58:46.848643",
     "exception": false,
     "start_time": "2024-03-18T14:58:46.831353",
     "status": "completed"
    },
    "tags": []
   },
   "source": [
    "## Import Important Liberary"
   ]
  },
  {
   "cell_type": "code",
   "execution_count": 1,
   "id": "5e919256",
   "metadata": {
    "execution": {
     "iopub.execute_input": "2024-03-18T14:58:46.883901Z",
     "iopub.status.busy": "2024-03-18T14:58:46.883366Z",
     "iopub.status.idle": "2024-03-18T14:58:49.585368Z",
     "shell.execute_reply": "2024-03-18T14:58:49.582302Z"
    },
    "papermill": {
     "duration": 2.723677,
     "end_time": "2024-03-18T14:58:49.588691",
     "exception": false,
     "start_time": "2024-03-18T14:58:46.865014",
     "status": "completed"
    },
    "tags": []
   },
   "outputs": [],
   "source": [
    "import pandas as pd\n",
    "import numpy as np\n",
    "from sklearn.preprocessing import LabelEncoder\n",
    "\n",
    "\n",
    "import os\n",
    "for dirname, _, filenames in os.walk('/kaggle/input'):\n",
    "    for filename in filenames:\n",
    "        print(os.path.join(dirname, filename))"
   ]
  },
  {
   "cell_type": "markdown",
   "id": "bc39a73f",
   "metadata": {
    "papermill": {
     "duration": 0.016263,
     "end_time": "2024-03-18T14:58:49.621776",
     "exception": false,
     "start_time": "2024-03-18T14:58:49.605513",
     "status": "completed"
    },
    "tags": []
   },
   "source": [
    "## Read Data"
   ]
  },
  {
   "cell_type": "code",
   "execution_count": 2,
   "id": "5d9a5ac4",
   "metadata": {
    "execution": {
     "iopub.execute_input": "2024-03-18T14:58:49.661225Z",
     "iopub.status.busy": "2024-03-18T14:58:49.660103Z",
     "iopub.status.idle": "2024-03-18T14:58:54.031653Z",
     "shell.execute_reply": "2024-03-18T14:58:54.029613Z"
    },
    "papermill": {
     "duration": 4.397681,
     "end_time": "2024-03-18T14:58:54.036161",
     "exception": false,
     "start_time": "2024-03-18T14:58:49.638480",
     "status": "completed"
    },
    "tags": []
   },
   "outputs": [],
   "source": [
    "train_data = pd.read_csv(\"/data/Sales_Forecasting/train.csv\")\n",
    "X_test = pd.read_csv(\"/data/Sales_Forecasting/test.csv\")\n",
    "y_test = pd.read_csv(\"/data/Sales_Forecasting/sample_submission.csv\")\n",
    "oil_df = pd.read_csv(\"/data/Sales_Forecasting/oil.csv\")\n",
    "stores_df = pd.read_csv(\"/data/Sales_Forecasting/stores.csv\")\n",
    "holidays_events_df = pd.read_csv(\"/data/Sales_Forecasting/holidays_events.csv\")\n",
    "transactions_df = pd.read_csv(\"/data/Sales_Forecasting/transactions.csv\")\n"
   ]
  },
  {
   "cell_type": "markdown",
   "id": "0d80a9dd",
   "metadata": {
    "papermill": {
     "duration": 0.01915,
     "end_time": "2024-03-18T14:58:54.074064",
     "exception": false,
     "start_time": "2024-03-18T14:58:54.054914",
     "status": "completed"
    },
    "tags": []
   },
   "source": [
    "## Data Exploring"
   ]
  },
  {
   "cell_type": "code",
   "execution_count": 3,
   "id": "101c3e34",
   "metadata": {
    "execution": {
     "iopub.execute_input": "2024-03-18T14:58:54.114086Z",
     "iopub.status.busy": "2024-03-18T14:58:54.113575Z",
     "iopub.status.idle": "2024-03-18T14:58:54.145155Z",
     "shell.execute_reply": "2024-03-18T14:58:54.143352Z"
    },
    "papermill": {
     "duration": 0.055268,
     "end_time": "2024-03-18T14:58:54.148990",
     "exception": false,
     "start_time": "2024-03-18T14:58:54.093722",
     "status": "completed"
    },
    "tags": []
   },
   "outputs": [
    {
     "data": {
      "text/html": [
       "<div>\n",
       "<style scoped>\n",
       "    .dataframe tbody tr th:only-of-type {\n",
       "        vertical-align: middle;\n",
       "    }\n",
       "\n",
       "    .dataframe tbody tr th {\n",
       "        vertical-align: top;\n",
       "    }\n",
       "\n",
       "    .dataframe thead th {\n",
       "        text-align: right;\n",
       "    }\n",
       "</style>\n",
       "<table border=\"1\" class=\"dataframe\">\n",
       "  <thead>\n",
       "    <tr style=\"text-align: right;\">\n",
       "      <th></th>\n",
       "      <th>id</th>\n",
       "      <th>date</th>\n",
       "      <th>store_nbr</th>\n",
       "      <th>family</th>\n",
       "      <th>sales</th>\n",
       "      <th>onpromotion</th>\n",
       "    </tr>\n",
       "  </thead>\n",
       "  <tbody>\n",
       "    <tr>\n",
       "      <th>0</th>\n",
       "      <td>0</td>\n",
       "      <td>2013-01-01</td>\n",
       "      <td>1</td>\n",
       "      <td>AUTOMOTIVE</td>\n",
       "      <td>0.0</td>\n",
       "      <td>0</td>\n",
       "    </tr>\n",
       "    <tr>\n",
       "      <th>1</th>\n",
       "      <td>1</td>\n",
       "      <td>2013-01-01</td>\n",
       "      <td>1</td>\n",
       "      <td>BABY CARE</td>\n",
       "      <td>0.0</td>\n",
       "      <td>0</td>\n",
       "    </tr>\n",
       "    <tr>\n",
       "      <th>2</th>\n",
       "      <td>2</td>\n",
       "      <td>2013-01-01</td>\n",
       "      <td>1</td>\n",
       "      <td>BEAUTY</td>\n",
       "      <td>0.0</td>\n",
       "      <td>0</td>\n",
       "    </tr>\n",
       "    <tr>\n",
       "      <th>3</th>\n",
       "      <td>3</td>\n",
       "      <td>2013-01-01</td>\n",
       "      <td>1</td>\n",
       "      <td>BEVERAGES</td>\n",
       "      <td>0.0</td>\n",
       "      <td>0</td>\n",
       "    </tr>\n",
       "    <tr>\n",
       "      <th>4</th>\n",
       "      <td>4</td>\n",
       "      <td>2013-01-01</td>\n",
       "      <td>1</td>\n",
       "      <td>BOOKS</td>\n",
       "      <td>0.0</td>\n",
       "      <td>0</td>\n",
       "    </tr>\n",
       "  </tbody>\n",
       "</table>\n",
       "</div>"
      ],
      "text/plain": [
       "   id        date  store_nbr      family  sales  onpromotion\n",
       "0   0  2013-01-01          1  AUTOMOTIVE    0.0            0\n",
       "1   1  2013-01-01          1   BABY CARE    0.0            0\n",
       "2   2  2013-01-01          1      BEAUTY    0.0            0\n",
       "3   3  2013-01-01          1   BEVERAGES    0.0            0\n",
       "4   4  2013-01-01          1       BOOKS    0.0            0"
      ]
     },
     "execution_count": 3,
     "metadata": {},
     "output_type": "execute_result"
    }
   ],
   "source": [
    "train_data.head()"
   ]
  },
  {
   "cell_type": "code",
   "execution_count": 4,
   "id": "d898e30e",
   "metadata": {
    "execution": {
     "iopub.execute_input": "2024-03-18T14:58:54.187506Z",
     "iopub.status.busy": "2024-03-18T14:58:54.186943Z",
     "iopub.status.idle": "2024-03-18T14:58:54.204013Z",
     "shell.execute_reply": "2024-03-18T14:58:54.202574Z"
    },
    "papermill": {
     "duration": 0.039043,
     "end_time": "2024-03-18T14:58:54.207037",
     "exception": false,
     "start_time": "2024-03-18T14:58:54.167994",
     "status": "completed"
    },
    "tags": []
   },
   "outputs": [
    {
     "data": {
      "text/html": [
       "<div>\n",
       "<style scoped>\n",
       "    .dataframe tbody tr th:only-of-type {\n",
       "        vertical-align: middle;\n",
       "    }\n",
       "\n",
       "    .dataframe tbody tr th {\n",
       "        vertical-align: top;\n",
       "    }\n",
       "\n",
       "    .dataframe thead th {\n",
       "        text-align: right;\n",
       "    }\n",
       "</style>\n",
       "<table border=\"1\" class=\"dataframe\">\n",
       "  <thead>\n",
       "    <tr style=\"text-align: right;\">\n",
       "      <th></th>\n",
       "      <th>id</th>\n",
       "      <th>date</th>\n",
       "      <th>store_nbr</th>\n",
       "      <th>family</th>\n",
       "      <th>onpromotion</th>\n",
       "    </tr>\n",
       "  </thead>\n",
       "  <tbody>\n",
       "    <tr>\n",
       "      <th>0</th>\n",
       "      <td>3000888</td>\n",
       "      <td>2017-08-16</td>\n",
       "      <td>1</td>\n",
       "      <td>AUTOMOTIVE</td>\n",
       "      <td>0</td>\n",
       "    </tr>\n",
       "    <tr>\n",
       "      <th>1</th>\n",
       "      <td>3000889</td>\n",
       "      <td>2017-08-16</td>\n",
       "      <td>1</td>\n",
       "      <td>BABY CARE</td>\n",
       "      <td>0</td>\n",
       "    </tr>\n",
       "    <tr>\n",
       "      <th>2</th>\n",
       "      <td>3000890</td>\n",
       "      <td>2017-08-16</td>\n",
       "      <td>1</td>\n",
       "      <td>BEAUTY</td>\n",
       "      <td>2</td>\n",
       "    </tr>\n",
       "    <tr>\n",
       "      <th>3</th>\n",
       "      <td>3000891</td>\n",
       "      <td>2017-08-16</td>\n",
       "      <td>1</td>\n",
       "      <td>BEVERAGES</td>\n",
       "      <td>20</td>\n",
       "    </tr>\n",
       "    <tr>\n",
       "      <th>4</th>\n",
       "      <td>3000892</td>\n",
       "      <td>2017-08-16</td>\n",
       "      <td>1</td>\n",
       "      <td>BOOKS</td>\n",
       "      <td>0</td>\n",
       "    </tr>\n",
       "  </tbody>\n",
       "</table>\n",
       "</div>"
      ],
      "text/plain": [
       "        id        date  store_nbr      family  onpromotion\n",
       "0  3000888  2017-08-16          1  AUTOMOTIVE            0\n",
       "1  3000889  2017-08-16          1   BABY CARE            0\n",
       "2  3000890  2017-08-16          1      BEAUTY            2\n",
       "3  3000891  2017-08-16          1   BEVERAGES           20\n",
       "4  3000892  2017-08-16          1       BOOKS            0"
      ]
     },
     "execution_count": 4,
     "metadata": {},
     "output_type": "execute_result"
    }
   ],
   "source": [
    "X_test.head()"
   ]
  },
  {
   "cell_type": "code",
   "execution_count": 5,
   "id": "25d3d8c4",
   "metadata": {
    "execution": {
     "iopub.execute_input": "2024-03-18T14:58:54.246379Z",
     "iopub.status.busy": "2024-03-18T14:58:54.245796Z",
     "iopub.status.idle": "2024-03-18T14:58:54.259802Z",
     "shell.execute_reply": "2024-03-18T14:58:54.258316Z"
    },
    "papermill": {
     "duration": 0.038165,
     "end_time": "2024-03-18T14:58:54.262637",
     "exception": false,
     "start_time": "2024-03-18T14:58:54.224472",
     "status": "completed"
    },
    "tags": []
   },
   "outputs": [
    {
     "data": {
      "text/html": [
       "<div>\n",
       "<style scoped>\n",
       "    .dataframe tbody tr th:only-of-type {\n",
       "        vertical-align: middle;\n",
       "    }\n",
       "\n",
       "    .dataframe tbody tr th {\n",
       "        vertical-align: top;\n",
       "    }\n",
       "\n",
       "    .dataframe thead th {\n",
       "        text-align: right;\n",
       "    }\n",
       "</style>\n",
       "<table border=\"1\" class=\"dataframe\">\n",
       "  <thead>\n",
       "    <tr style=\"text-align: right;\">\n",
       "      <th></th>\n",
       "      <th>date</th>\n",
       "      <th>dcoilwtico</th>\n",
       "    </tr>\n",
       "  </thead>\n",
       "  <tbody>\n",
       "    <tr>\n",
       "      <th>0</th>\n",
       "      <td>2013-01-01</td>\n",
       "      <td>NaN</td>\n",
       "    </tr>\n",
       "    <tr>\n",
       "      <th>1</th>\n",
       "      <td>2013-01-02</td>\n",
       "      <td>93.14</td>\n",
       "    </tr>\n",
       "    <tr>\n",
       "      <th>2</th>\n",
       "      <td>2013-01-03</td>\n",
       "      <td>92.97</td>\n",
       "    </tr>\n",
       "    <tr>\n",
       "      <th>3</th>\n",
       "      <td>2013-01-04</td>\n",
       "      <td>93.12</td>\n",
       "    </tr>\n",
       "    <tr>\n",
       "      <th>4</th>\n",
       "      <td>2013-01-07</td>\n",
       "      <td>93.20</td>\n",
       "    </tr>\n",
       "  </tbody>\n",
       "</table>\n",
       "</div>"
      ],
      "text/plain": [
       "         date  dcoilwtico\n",
       "0  2013-01-01         NaN\n",
       "1  2013-01-02       93.14\n",
       "2  2013-01-03       92.97\n",
       "3  2013-01-04       93.12\n",
       "4  2013-01-07       93.20"
      ]
     },
     "execution_count": 5,
     "metadata": {},
     "output_type": "execute_result"
    }
   ],
   "source": [
    "oil_df.head()"
   ]
  },
  {
   "cell_type": "code",
   "execution_count": 6,
   "id": "aec6b0ab",
   "metadata": {
    "execution": {
     "iopub.execute_input": "2024-03-18T14:58:54.299612Z",
     "iopub.status.busy": "2024-03-18T14:58:54.299084Z",
     "iopub.status.idle": "2024-03-18T14:58:54.313136Z",
     "shell.execute_reply": "2024-03-18T14:58:54.312121Z"
    },
    "papermill": {
     "duration": 0.035344,
     "end_time": "2024-03-18T14:58:54.315339",
     "exception": false,
     "start_time": "2024-03-18T14:58:54.279995",
     "status": "completed"
    },
    "tags": []
   },
   "outputs": [
    {
     "data": {
      "text/html": [
       "<div>\n",
       "<style scoped>\n",
       "    .dataframe tbody tr th:only-of-type {\n",
       "        vertical-align: middle;\n",
       "    }\n",
       "\n",
       "    .dataframe tbody tr th {\n",
       "        vertical-align: top;\n",
       "    }\n",
       "\n",
       "    .dataframe thead th {\n",
       "        text-align: right;\n",
       "    }\n",
       "</style>\n",
       "<table border=\"1\" class=\"dataframe\">\n",
       "  <thead>\n",
       "    <tr style=\"text-align: right;\">\n",
       "      <th></th>\n",
       "      <th>store_nbr</th>\n",
       "      <th>city</th>\n",
       "      <th>state</th>\n",
       "      <th>type</th>\n",
       "      <th>cluster</th>\n",
       "    </tr>\n",
       "  </thead>\n",
       "  <tbody>\n",
       "    <tr>\n",
       "      <th>0</th>\n",
       "      <td>1</td>\n",
       "      <td>Quito</td>\n",
       "      <td>Pichincha</td>\n",
       "      <td>D</td>\n",
       "      <td>13</td>\n",
       "    </tr>\n",
       "    <tr>\n",
       "      <th>1</th>\n",
       "      <td>2</td>\n",
       "      <td>Quito</td>\n",
       "      <td>Pichincha</td>\n",
       "      <td>D</td>\n",
       "      <td>13</td>\n",
       "    </tr>\n",
       "    <tr>\n",
       "      <th>2</th>\n",
       "      <td>3</td>\n",
       "      <td>Quito</td>\n",
       "      <td>Pichincha</td>\n",
       "      <td>D</td>\n",
       "      <td>8</td>\n",
       "    </tr>\n",
       "    <tr>\n",
       "      <th>3</th>\n",
       "      <td>4</td>\n",
       "      <td>Quito</td>\n",
       "      <td>Pichincha</td>\n",
       "      <td>D</td>\n",
       "      <td>9</td>\n",
       "    </tr>\n",
       "    <tr>\n",
       "      <th>4</th>\n",
       "      <td>5</td>\n",
       "      <td>Santo Domingo</td>\n",
       "      <td>Santo Domingo de los Tsachilas</td>\n",
       "      <td>D</td>\n",
       "      <td>4</td>\n",
       "    </tr>\n",
       "  </tbody>\n",
       "</table>\n",
       "</div>"
      ],
      "text/plain": [
       "   store_nbr           city                           state type  cluster\n",
       "0          1          Quito                       Pichincha    D       13\n",
       "1          2          Quito                       Pichincha    D       13\n",
       "2          3          Quito                       Pichincha    D        8\n",
       "3          4          Quito                       Pichincha    D        9\n",
       "4          5  Santo Domingo  Santo Domingo de los Tsachilas    D        4"
      ]
     },
     "execution_count": 6,
     "metadata": {},
     "output_type": "execute_result"
    }
   ],
   "source": [
    "stores_df.head()"
   ]
  },
  {
   "cell_type": "code",
   "execution_count": 7,
   "id": "bd610aed",
   "metadata": {
    "execution": {
     "iopub.execute_input": "2024-03-18T14:58:54.354167Z",
     "iopub.status.busy": "2024-03-18T14:58:54.353664Z",
     "iopub.status.idle": "2024-03-18T14:58:54.369469Z",
     "shell.execute_reply": "2024-03-18T14:58:54.368085Z"
    },
    "papermill": {
     "duration": 0.039081,
     "end_time": "2024-03-18T14:58:54.372124",
     "exception": false,
     "start_time": "2024-03-18T14:58:54.333043",
     "status": "completed"
    },
    "tags": []
   },
   "outputs": [
    {
     "data": {
      "text/html": [
       "<div>\n",
       "<style scoped>\n",
       "    .dataframe tbody tr th:only-of-type {\n",
       "        vertical-align: middle;\n",
       "    }\n",
       "\n",
       "    .dataframe tbody tr th {\n",
       "        vertical-align: top;\n",
       "    }\n",
       "\n",
       "    .dataframe thead th {\n",
       "        text-align: right;\n",
       "    }\n",
       "</style>\n",
       "<table border=\"1\" class=\"dataframe\">\n",
       "  <thead>\n",
       "    <tr style=\"text-align: right;\">\n",
       "      <th></th>\n",
       "      <th>date</th>\n",
       "      <th>type</th>\n",
       "      <th>locale</th>\n",
       "      <th>locale_name</th>\n",
       "      <th>description</th>\n",
       "      <th>transferred</th>\n",
       "    </tr>\n",
       "  </thead>\n",
       "  <tbody>\n",
       "    <tr>\n",
       "      <th>0</th>\n",
       "      <td>2012-03-02</td>\n",
       "      <td>Holiday</td>\n",
       "      <td>Local</td>\n",
       "      <td>Manta</td>\n",
       "      <td>Fundacion de Manta</td>\n",
       "      <td>False</td>\n",
       "    </tr>\n",
       "    <tr>\n",
       "      <th>1</th>\n",
       "      <td>2012-04-01</td>\n",
       "      <td>Holiday</td>\n",
       "      <td>Regional</td>\n",
       "      <td>Cotopaxi</td>\n",
       "      <td>Provincializacion de Cotopaxi</td>\n",
       "      <td>False</td>\n",
       "    </tr>\n",
       "    <tr>\n",
       "      <th>2</th>\n",
       "      <td>2012-04-12</td>\n",
       "      <td>Holiday</td>\n",
       "      <td>Local</td>\n",
       "      <td>Cuenca</td>\n",
       "      <td>Fundacion de Cuenca</td>\n",
       "      <td>False</td>\n",
       "    </tr>\n",
       "    <tr>\n",
       "      <th>3</th>\n",
       "      <td>2012-04-14</td>\n",
       "      <td>Holiday</td>\n",
       "      <td>Local</td>\n",
       "      <td>Libertad</td>\n",
       "      <td>Cantonizacion de Libertad</td>\n",
       "      <td>False</td>\n",
       "    </tr>\n",
       "    <tr>\n",
       "      <th>4</th>\n",
       "      <td>2012-04-21</td>\n",
       "      <td>Holiday</td>\n",
       "      <td>Local</td>\n",
       "      <td>Riobamba</td>\n",
       "      <td>Cantonizacion de Riobamba</td>\n",
       "      <td>False</td>\n",
       "    </tr>\n",
       "  </tbody>\n",
       "</table>\n",
       "</div>"
      ],
      "text/plain": [
       "         date     type    locale locale_name                    description  \\\n",
       "0  2012-03-02  Holiday     Local       Manta             Fundacion de Manta   \n",
       "1  2012-04-01  Holiday  Regional    Cotopaxi  Provincializacion de Cotopaxi   \n",
       "2  2012-04-12  Holiday     Local      Cuenca            Fundacion de Cuenca   \n",
       "3  2012-04-14  Holiday     Local    Libertad      Cantonizacion de Libertad   \n",
       "4  2012-04-21  Holiday     Local    Riobamba      Cantonizacion de Riobamba   \n",
       "\n",
       "   transferred  \n",
       "0        False  \n",
       "1        False  \n",
       "2        False  \n",
       "3        False  \n",
       "4        False  "
      ]
     },
     "execution_count": 7,
     "metadata": {},
     "output_type": "execute_result"
    }
   ],
   "source": [
    "holidays_events_df.head()"
   ]
  },
  {
   "cell_type": "code",
   "execution_count": 8,
   "id": "ca540624",
   "metadata": {
    "execution": {
     "iopub.execute_input": "2024-03-18T14:58:54.410554Z",
     "iopub.status.busy": "2024-03-18T14:58:54.409837Z",
     "iopub.status.idle": "2024-03-18T14:58:54.423611Z",
     "shell.execute_reply": "2024-03-18T14:58:54.422192Z"
    },
    "papermill": {
     "duration": 0.036539,
     "end_time": "2024-03-18T14:58:54.426530",
     "exception": false,
     "start_time": "2024-03-18T14:58:54.389991",
     "status": "completed"
    },
    "tags": []
   },
   "outputs": [
    {
     "data": {
      "text/html": [
       "<div>\n",
       "<style scoped>\n",
       "    .dataframe tbody tr th:only-of-type {\n",
       "        vertical-align: middle;\n",
       "    }\n",
       "\n",
       "    .dataframe tbody tr th {\n",
       "        vertical-align: top;\n",
       "    }\n",
       "\n",
       "    .dataframe thead th {\n",
       "        text-align: right;\n",
       "    }\n",
       "</style>\n",
       "<table border=\"1\" class=\"dataframe\">\n",
       "  <thead>\n",
       "    <tr style=\"text-align: right;\">\n",
       "      <th></th>\n",
       "      <th>date</th>\n",
       "      <th>store_nbr</th>\n",
       "      <th>transactions</th>\n",
       "    </tr>\n",
       "  </thead>\n",
       "  <tbody>\n",
       "    <tr>\n",
       "      <th>0</th>\n",
       "      <td>2013-01-01</td>\n",
       "      <td>25</td>\n",
       "      <td>770</td>\n",
       "    </tr>\n",
       "    <tr>\n",
       "      <th>1</th>\n",
       "      <td>2013-01-02</td>\n",
       "      <td>1</td>\n",
       "      <td>2111</td>\n",
       "    </tr>\n",
       "    <tr>\n",
       "      <th>2</th>\n",
       "      <td>2013-01-02</td>\n",
       "      <td>2</td>\n",
       "      <td>2358</td>\n",
       "    </tr>\n",
       "    <tr>\n",
       "      <th>3</th>\n",
       "      <td>2013-01-02</td>\n",
       "      <td>3</td>\n",
       "      <td>3487</td>\n",
       "    </tr>\n",
       "    <tr>\n",
       "      <th>4</th>\n",
       "      <td>2013-01-02</td>\n",
       "      <td>4</td>\n",
       "      <td>1922</td>\n",
       "    </tr>\n",
       "  </tbody>\n",
       "</table>\n",
       "</div>"
      ],
      "text/plain": [
       "         date  store_nbr  transactions\n",
       "0  2013-01-01         25           770\n",
       "1  2013-01-02          1          2111\n",
       "2  2013-01-02          2          2358\n",
       "3  2013-01-02          3          3487\n",
       "4  2013-01-02          4          1922"
      ]
     },
     "execution_count": 8,
     "metadata": {},
     "output_type": "execute_result"
    }
   ],
   "source": [
    "transactions_df.head()"
   ]
  },
  {
   "cell_type": "code",
   "execution_count": 9,
   "id": "9bb18506",
   "metadata": {
    "execution": {
     "iopub.execute_input": "2024-03-18T14:58:54.467353Z",
     "iopub.status.busy": "2024-03-18T14:58:54.466803Z",
     "iopub.status.idle": "2024-03-18T14:58:54.475776Z",
     "shell.execute_reply": "2024-03-18T14:58:54.474301Z"
    },
    "papermill": {
     "duration": 0.032577,
     "end_time": "2024-03-18T14:58:54.479240",
     "exception": false,
     "start_time": "2024-03-18T14:58:54.446663",
     "status": "completed"
    },
    "tags": []
   },
   "outputs": [
    {
     "name": "stdout",
     "output_type": "stream",
     "text": [
      "train_data (3000888, 6)\n",
      "X_test (28512, 5)\n",
      "y_test (28512, 2)\n",
      "oil_df (1218, 2)\n",
      "stores_df (54, 5)\n",
      "holidays_events_df (350, 6)\n",
      "transactions_df (83488, 3)\n"
     ]
    }
   ],
   "source": [
    "print(\"train_data\",train_data.shape)\n",
    "print(\"X_test\",X_test.shape)\n",
    "print(\"y_test\",y_test.shape)\n",
    "print(\"oil_df\",oil_df.shape)\n",
    "print(\"stores_df\",stores_df.shape)\n",
    "print(\"holidays_events_df\",holidays_events_df.shape)\n",
    "print(\"transactions_df\",transactions_df.shape)"
   ]
  },
  {
   "cell_type": "code",
   "execution_count": 10,
   "id": "38d2c7b8",
   "metadata": {
    "execution": {
     "iopub.execute_input": "2024-03-18T14:58:54.518288Z",
     "iopub.status.busy": "2024-03-18T14:58:54.517763Z",
     "iopub.status.idle": "2024-03-18T14:59:01.345486Z",
     "shell.execute_reply": "2024-03-18T14:59:01.343861Z"
    },
    "papermill": {
     "duration": 6.851312,
     "end_time": "2024-03-18T14:59:01.348824",
     "exception": false,
     "start_time": "2024-03-18T14:58:54.497512",
     "status": "completed"
    },
    "tags": []
   },
   "outputs": [],
   "source": [
    "#train_data = pd.merge(train_data,oil_df,how='left',on='date')\n",
    "train_data = pd.merge(train_data,stores_df,how='left',on='store_nbr')\n",
    "train_data = pd.merge(train_data,holidays_events_df,how='left',on='date')\n",
    "train_data = pd.merge(train_data,transactions_df,how='left',on=['date', 'store_nbr'])\n",
    "\n",
    "#X_test = pd.merge(X_test,oil_df,how='left',on='date')\n",
    "X_test = pd.merge(X_test,stores_df,how='left',on='store_nbr')\n",
    "X_test = pd.merge(X_test,holidays_events_df,how='left',on='date')\n",
    "X_test = pd.merge(X_test,transactions_df,how='left',on=['date', 'store_nbr'])"
   ]
  },
  {
   "cell_type": "code",
   "execution_count": 11,
   "id": "e93e5310",
   "metadata": {
    "execution": {
     "iopub.execute_input": "2024-03-18T14:59:01.389438Z",
     "iopub.status.busy": "2024-03-18T14:59:01.388824Z",
     "iopub.status.idle": "2024-03-18T14:59:01.396338Z",
     "shell.execute_reply": "2024-03-18T14:59:01.394932Z"
    },
    "papermill": {
     "duration": 0.033025,
     "end_time": "2024-03-18T14:59:01.399990",
     "exception": false,
     "start_time": "2024-03-18T14:59:01.366965",
     "status": "completed"
    },
    "tags": []
   },
   "outputs": [
    {
     "name": "stdout",
     "output_type": "stream",
     "text": [
      "train_data.shape:  (3054348, 16)\n",
      "X_test.shape:  (28512, 15)\n"
     ]
    }
   ],
   "source": [
    "print('train_data.shape: ',train_data.shape)\n",
    "print('X_test.shape: ',X_test.shape)"
   ]
  },
  {
   "cell_type": "code",
   "execution_count": 12,
   "id": "65f93007",
   "metadata": {
    "execution": {
     "iopub.execute_input": "2024-03-18T14:59:01.440486Z",
     "iopub.status.busy": "2024-03-18T14:59:01.439340Z",
     "iopub.status.idle": "2024-03-18T14:59:01.464377Z",
     "shell.execute_reply": "2024-03-18T14:59:01.463078Z"
    },
    "papermill": {
     "duration": 0.048778,
     "end_time": "2024-03-18T14:59:01.467600",
     "exception": false,
     "start_time": "2024-03-18T14:59:01.418822",
     "status": "completed"
    },
    "tags": []
   },
   "outputs": [
    {
     "data": {
      "text/html": [
       "<div>\n",
       "<style scoped>\n",
       "    .dataframe tbody tr th:only-of-type {\n",
       "        vertical-align: middle;\n",
       "    }\n",
       "\n",
       "    .dataframe tbody tr th {\n",
       "        vertical-align: top;\n",
       "    }\n",
       "\n",
       "    .dataframe thead th {\n",
       "        text-align: right;\n",
       "    }\n",
       "</style>\n",
       "<table border=\"1\" class=\"dataframe\">\n",
       "  <thead>\n",
       "    <tr style=\"text-align: right;\">\n",
       "      <th></th>\n",
       "      <th>id</th>\n",
       "      <th>date</th>\n",
       "      <th>store_nbr</th>\n",
       "      <th>family</th>\n",
       "      <th>sales</th>\n",
       "      <th>onpromotion</th>\n",
       "      <th>city</th>\n",
       "      <th>state</th>\n",
       "      <th>type_x</th>\n",
       "      <th>cluster</th>\n",
       "      <th>type_y</th>\n",
       "      <th>locale</th>\n",
       "      <th>locale_name</th>\n",
       "      <th>description</th>\n",
       "      <th>transferred</th>\n",
       "      <th>transactions</th>\n",
       "    </tr>\n",
       "  </thead>\n",
       "  <tbody>\n",
       "    <tr>\n",
       "      <th>0</th>\n",
       "      <td>0</td>\n",
       "      <td>2013-01-01</td>\n",
       "      <td>1</td>\n",
       "      <td>AUTOMOTIVE</td>\n",
       "      <td>0.0</td>\n",
       "      <td>0</td>\n",
       "      <td>Quito</td>\n",
       "      <td>Pichincha</td>\n",
       "      <td>D</td>\n",
       "      <td>13</td>\n",
       "      <td>Holiday</td>\n",
       "      <td>National</td>\n",
       "      <td>Ecuador</td>\n",
       "      <td>Primer dia del ano</td>\n",
       "      <td>False</td>\n",
       "      <td>NaN</td>\n",
       "    </tr>\n",
       "    <tr>\n",
       "      <th>1</th>\n",
       "      <td>1</td>\n",
       "      <td>2013-01-01</td>\n",
       "      <td>1</td>\n",
       "      <td>BABY CARE</td>\n",
       "      <td>0.0</td>\n",
       "      <td>0</td>\n",
       "      <td>Quito</td>\n",
       "      <td>Pichincha</td>\n",
       "      <td>D</td>\n",
       "      <td>13</td>\n",
       "      <td>Holiday</td>\n",
       "      <td>National</td>\n",
       "      <td>Ecuador</td>\n",
       "      <td>Primer dia del ano</td>\n",
       "      <td>False</td>\n",
       "      <td>NaN</td>\n",
       "    </tr>\n",
       "    <tr>\n",
       "      <th>2</th>\n",
       "      <td>2</td>\n",
       "      <td>2013-01-01</td>\n",
       "      <td>1</td>\n",
       "      <td>BEAUTY</td>\n",
       "      <td>0.0</td>\n",
       "      <td>0</td>\n",
       "      <td>Quito</td>\n",
       "      <td>Pichincha</td>\n",
       "      <td>D</td>\n",
       "      <td>13</td>\n",
       "      <td>Holiday</td>\n",
       "      <td>National</td>\n",
       "      <td>Ecuador</td>\n",
       "      <td>Primer dia del ano</td>\n",
       "      <td>False</td>\n",
       "      <td>NaN</td>\n",
       "    </tr>\n",
       "    <tr>\n",
       "      <th>3</th>\n",
       "      <td>3</td>\n",
       "      <td>2013-01-01</td>\n",
       "      <td>1</td>\n",
       "      <td>BEVERAGES</td>\n",
       "      <td>0.0</td>\n",
       "      <td>0</td>\n",
       "      <td>Quito</td>\n",
       "      <td>Pichincha</td>\n",
       "      <td>D</td>\n",
       "      <td>13</td>\n",
       "      <td>Holiday</td>\n",
       "      <td>National</td>\n",
       "      <td>Ecuador</td>\n",
       "      <td>Primer dia del ano</td>\n",
       "      <td>False</td>\n",
       "      <td>NaN</td>\n",
       "    </tr>\n",
       "    <tr>\n",
       "      <th>4</th>\n",
       "      <td>4</td>\n",
       "      <td>2013-01-01</td>\n",
       "      <td>1</td>\n",
       "      <td>BOOKS</td>\n",
       "      <td>0.0</td>\n",
       "      <td>0</td>\n",
       "      <td>Quito</td>\n",
       "      <td>Pichincha</td>\n",
       "      <td>D</td>\n",
       "      <td>13</td>\n",
       "      <td>Holiday</td>\n",
       "      <td>National</td>\n",
       "      <td>Ecuador</td>\n",
       "      <td>Primer dia del ano</td>\n",
       "      <td>False</td>\n",
       "      <td>NaN</td>\n",
       "    </tr>\n",
       "  </tbody>\n",
       "</table>\n",
       "</div>"
      ],
      "text/plain": [
       "   id        date  store_nbr      family  sales  onpromotion   city  \\\n",
       "0   0  2013-01-01          1  AUTOMOTIVE    0.0            0  Quito   \n",
       "1   1  2013-01-01          1   BABY CARE    0.0            0  Quito   \n",
       "2   2  2013-01-01          1      BEAUTY    0.0            0  Quito   \n",
       "3   3  2013-01-01          1   BEVERAGES    0.0            0  Quito   \n",
       "4   4  2013-01-01          1       BOOKS    0.0            0  Quito   \n",
       "\n",
       "       state type_x  cluster   type_y    locale locale_name  \\\n",
       "0  Pichincha      D       13  Holiday  National     Ecuador   \n",
       "1  Pichincha      D       13  Holiday  National     Ecuador   \n",
       "2  Pichincha      D       13  Holiday  National     Ecuador   \n",
       "3  Pichincha      D       13  Holiday  National     Ecuador   \n",
       "4  Pichincha      D       13  Holiday  National     Ecuador   \n",
       "\n",
       "          description transferred  transactions  \n",
       "0  Primer dia del ano       False           NaN  \n",
       "1  Primer dia del ano       False           NaN  \n",
       "2  Primer dia del ano       False           NaN  \n",
       "3  Primer dia del ano       False           NaN  \n",
       "4  Primer dia del ano       False           NaN  "
      ]
     },
     "execution_count": 12,
     "metadata": {},
     "output_type": "execute_result"
    }
   ],
   "source": [
    "train_data.head()"
   ]
  },
  {
   "cell_type": "code",
   "execution_count": 13,
   "id": "81b4f4b3",
   "metadata": {
    "execution": {
     "iopub.execute_input": "2024-03-18T14:59:01.508807Z",
     "iopub.status.busy": "2024-03-18T14:59:01.508304Z",
     "iopub.status.idle": "2024-03-18T14:59:01.530930Z",
     "shell.execute_reply": "2024-03-18T14:59:01.529735Z"
    },
    "papermill": {
     "duration": 0.046932,
     "end_time": "2024-03-18T14:59:01.533630",
     "exception": false,
     "start_time": "2024-03-18T14:59:01.486698",
     "status": "completed"
    },
    "tags": []
   },
   "outputs": [
    {
     "data": {
      "text/html": [
       "<div>\n",
       "<style scoped>\n",
       "    .dataframe tbody tr th:only-of-type {\n",
       "        vertical-align: middle;\n",
       "    }\n",
       "\n",
       "    .dataframe tbody tr th {\n",
       "        vertical-align: top;\n",
       "    }\n",
       "\n",
       "    .dataframe thead th {\n",
       "        text-align: right;\n",
       "    }\n",
       "</style>\n",
       "<table border=\"1\" class=\"dataframe\">\n",
       "  <thead>\n",
       "    <tr style=\"text-align: right;\">\n",
       "      <th></th>\n",
       "      <th>id</th>\n",
       "      <th>date</th>\n",
       "      <th>store_nbr</th>\n",
       "      <th>family</th>\n",
       "      <th>onpromotion</th>\n",
       "      <th>city</th>\n",
       "      <th>state</th>\n",
       "      <th>type_x</th>\n",
       "      <th>cluster</th>\n",
       "      <th>type_y</th>\n",
       "      <th>locale</th>\n",
       "      <th>locale_name</th>\n",
       "      <th>description</th>\n",
       "      <th>transferred</th>\n",
       "      <th>transactions</th>\n",
       "    </tr>\n",
       "  </thead>\n",
       "  <tbody>\n",
       "    <tr>\n",
       "      <th>0</th>\n",
       "      <td>3000888</td>\n",
       "      <td>2017-08-16</td>\n",
       "      <td>1</td>\n",
       "      <td>AUTOMOTIVE</td>\n",
       "      <td>0</td>\n",
       "      <td>Quito</td>\n",
       "      <td>Pichincha</td>\n",
       "      <td>D</td>\n",
       "      <td>13</td>\n",
       "      <td>NaN</td>\n",
       "      <td>NaN</td>\n",
       "      <td>NaN</td>\n",
       "      <td>NaN</td>\n",
       "      <td>NaN</td>\n",
       "      <td>NaN</td>\n",
       "    </tr>\n",
       "    <tr>\n",
       "      <th>1</th>\n",
       "      <td>3000889</td>\n",
       "      <td>2017-08-16</td>\n",
       "      <td>1</td>\n",
       "      <td>BABY CARE</td>\n",
       "      <td>0</td>\n",
       "      <td>Quito</td>\n",
       "      <td>Pichincha</td>\n",
       "      <td>D</td>\n",
       "      <td>13</td>\n",
       "      <td>NaN</td>\n",
       "      <td>NaN</td>\n",
       "      <td>NaN</td>\n",
       "      <td>NaN</td>\n",
       "      <td>NaN</td>\n",
       "      <td>NaN</td>\n",
       "    </tr>\n",
       "    <tr>\n",
       "      <th>2</th>\n",
       "      <td>3000890</td>\n",
       "      <td>2017-08-16</td>\n",
       "      <td>1</td>\n",
       "      <td>BEAUTY</td>\n",
       "      <td>2</td>\n",
       "      <td>Quito</td>\n",
       "      <td>Pichincha</td>\n",
       "      <td>D</td>\n",
       "      <td>13</td>\n",
       "      <td>NaN</td>\n",
       "      <td>NaN</td>\n",
       "      <td>NaN</td>\n",
       "      <td>NaN</td>\n",
       "      <td>NaN</td>\n",
       "      <td>NaN</td>\n",
       "    </tr>\n",
       "    <tr>\n",
       "      <th>3</th>\n",
       "      <td>3000891</td>\n",
       "      <td>2017-08-16</td>\n",
       "      <td>1</td>\n",
       "      <td>BEVERAGES</td>\n",
       "      <td>20</td>\n",
       "      <td>Quito</td>\n",
       "      <td>Pichincha</td>\n",
       "      <td>D</td>\n",
       "      <td>13</td>\n",
       "      <td>NaN</td>\n",
       "      <td>NaN</td>\n",
       "      <td>NaN</td>\n",
       "      <td>NaN</td>\n",
       "      <td>NaN</td>\n",
       "      <td>NaN</td>\n",
       "    </tr>\n",
       "    <tr>\n",
       "      <th>4</th>\n",
       "      <td>3000892</td>\n",
       "      <td>2017-08-16</td>\n",
       "      <td>1</td>\n",
       "      <td>BOOKS</td>\n",
       "      <td>0</td>\n",
       "      <td>Quito</td>\n",
       "      <td>Pichincha</td>\n",
       "      <td>D</td>\n",
       "      <td>13</td>\n",
       "      <td>NaN</td>\n",
       "      <td>NaN</td>\n",
       "      <td>NaN</td>\n",
       "      <td>NaN</td>\n",
       "      <td>NaN</td>\n",
       "      <td>NaN</td>\n",
       "    </tr>\n",
       "  </tbody>\n",
       "</table>\n",
       "</div>"
      ],
      "text/plain": [
       "        id        date  store_nbr      family  onpromotion   city      state  \\\n",
       "0  3000888  2017-08-16          1  AUTOMOTIVE            0  Quito  Pichincha   \n",
       "1  3000889  2017-08-16          1   BABY CARE            0  Quito  Pichincha   \n",
       "2  3000890  2017-08-16          1      BEAUTY            2  Quito  Pichincha   \n",
       "3  3000891  2017-08-16          1   BEVERAGES           20  Quito  Pichincha   \n",
       "4  3000892  2017-08-16          1       BOOKS            0  Quito  Pichincha   \n",
       "\n",
       "  type_x  cluster type_y locale locale_name description transferred  \\\n",
       "0      D       13    NaN    NaN         NaN         NaN         NaN   \n",
       "1      D       13    NaN    NaN         NaN         NaN         NaN   \n",
       "2      D       13    NaN    NaN         NaN         NaN         NaN   \n",
       "3      D       13    NaN    NaN         NaN         NaN         NaN   \n",
       "4      D       13    NaN    NaN         NaN         NaN         NaN   \n",
       "\n",
       "   transactions  \n",
       "0           NaN  \n",
       "1           NaN  \n",
       "2           NaN  \n",
       "3           NaN  \n",
       "4           NaN  "
      ]
     },
     "execution_count": 13,
     "metadata": {},
     "output_type": "execute_result"
    }
   ],
   "source": [
    "X_test.head()"
   ]
  },
  {
   "cell_type": "code",
   "execution_count": 14,
   "id": "f2759a11",
   "metadata": {
    "execution": {
     "iopub.execute_input": "2024-03-18T14:59:01.578017Z",
     "iopub.status.busy": "2024-03-18T14:59:01.576215Z",
     "iopub.status.idle": "2024-03-18T14:59:01.599657Z",
     "shell.execute_reply": "2024-03-18T14:59:01.598227Z"
    },
    "papermill": {
     "duration": 0.048774,
     "end_time": "2024-03-18T14:59:01.603165",
     "exception": false,
     "start_time": "2024-03-18T14:59:01.554391",
     "status": "completed"
    },
    "tags": []
   },
   "outputs": [
    {
     "name": "stdout",
     "output_type": "stream",
     "text": [
      "<class 'pandas.core.frame.DataFrame'>\n",
      "RangeIndex: 3054348 entries, 0 to 3054347\n",
      "Data columns (total 16 columns):\n",
      " #   Column        Dtype  \n",
      "---  ------        -----  \n",
      " 0   id            int64  \n",
      " 1   date          object \n",
      " 2   store_nbr     int64  \n",
      " 3   family        object \n",
      " 4   sales         float64\n",
      " 5   onpromotion   int64  \n",
      " 6   city          object \n",
      " 7   state         object \n",
      " 8   type_x        object \n",
      " 9   cluster       int64  \n",
      " 10  type_y        object \n",
      " 11  locale        object \n",
      " 12  locale_name   object \n",
      " 13  description   object \n",
      " 14  transferred   object \n",
      " 15  transactions  float64\n",
      "dtypes: float64(2), int64(4), object(10)\n",
      "memory usage: 372.8+ MB\n"
     ]
    }
   ],
   "source": [
    "train_data.info()"
   ]
  },
  {
   "cell_type": "code",
   "execution_count": 15,
   "id": "99de3dd3",
   "metadata": {
    "execution": {
     "iopub.execute_input": "2024-03-18T14:59:01.648905Z",
     "iopub.status.busy": "2024-03-18T14:59:01.647978Z",
     "iopub.status.idle": "2024-03-18T14:59:01.688040Z",
     "shell.execute_reply": "2024-03-18T14:59:01.685693Z"
    },
    "papermill": {
     "duration": 0.066916,
     "end_time": "2024-03-18T14:59:01.691497",
     "exception": false,
     "start_time": "2024-03-18T14:59:01.624581",
     "status": "completed"
    },
    "tags": []
   },
   "outputs": [
    {
     "name": "stdout",
     "output_type": "stream",
     "text": [
      "<class 'pandas.core.frame.DataFrame'>\n",
      "RangeIndex: 28512 entries, 0 to 28511\n",
      "Data columns (total 15 columns):\n",
      " #   Column        Non-Null Count  Dtype  \n",
      "---  ------        --------------  -----  \n",
      " 0   id            28512 non-null  int64  \n",
      " 1   date          28512 non-null  object \n",
      " 2   store_nbr     28512 non-null  int64  \n",
      " 3   family        28512 non-null  object \n",
      " 4   onpromotion   28512 non-null  int64  \n",
      " 5   city          28512 non-null  object \n",
      " 6   state         28512 non-null  object \n",
      " 7   type_x        28512 non-null  object \n",
      " 8   cluster       28512 non-null  int64  \n",
      " 9   type_y        1782 non-null   object \n",
      " 10  locale        1782 non-null   object \n",
      " 11  locale_name   1782 non-null   object \n",
      " 12  description   1782 non-null   object \n",
      " 13  transferred   1782 non-null   object \n",
      " 14  transactions  0 non-null      float64\n",
      "dtypes: float64(1), int64(4), object(10)\n",
      "memory usage: 3.3+ MB\n"
     ]
    }
   ],
   "source": [
    "X_test.info()"
   ]
  },
  {
   "cell_type": "code",
   "execution_count": 16,
   "id": "73343565",
   "metadata": {
    "execution": {
     "iopub.execute_input": "2024-03-18T14:59:01.733309Z",
     "iopub.status.busy": "2024-03-18T14:59:01.732769Z",
     "iopub.status.idle": "2024-03-18T14:59:04.226538Z",
     "shell.execute_reply": "2024-03-18T14:59:04.224853Z"
    },
    "papermill": {
     "duration": 2.518984,
     "end_time": "2024-03-18T14:59:04.229912",
     "exception": false,
     "start_time": "2024-03-18T14:59:01.710928",
     "status": "completed"
    },
    "tags": []
   },
   "outputs": [
    {
     "data": {
      "text/plain": [
       "id                    0\n",
       "date                  0\n",
       "store_nbr             0\n",
       "family                0\n",
       "sales                 0\n",
       "onpromotion           0\n",
       "city                  0\n",
       "state                 0\n",
       "type_x                0\n",
       "cluster               0\n",
       "type_y          2551824\n",
       "locale          2551824\n",
       "locale_name     2551824\n",
       "description     2551824\n",
       "transferred     2551824\n",
       "transactions     249117\n",
       "dtype: int64"
      ]
     },
     "execution_count": 16,
     "metadata": {},
     "output_type": "execute_result"
    }
   ],
   "source": [
    "train_data.isna().sum()"
   ]
  },
  {
   "cell_type": "code",
   "execution_count": 17,
   "id": "4f355689",
   "metadata": {
    "execution": {
     "iopub.execute_input": "2024-03-18T14:59:04.273250Z",
     "iopub.status.busy": "2024-03-18T14:59:04.272718Z",
     "iopub.status.idle": "2024-03-18T14:59:04.305103Z",
     "shell.execute_reply": "2024-03-18T14:59:04.303856Z"
    },
    "papermill": {
     "duration": 0.057164,
     "end_time": "2024-03-18T14:59:04.308486",
     "exception": false,
     "start_time": "2024-03-18T14:59:04.251322",
     "status": "completed"
    },
    "tags": []
   },
   "outputs": [
    {
     "data": {
      "text/plain": [
       "id                  0\n",
       "date                0\n",
       "store_nbr           0\n",
       "family              0\n",
       "onpromotion         0\n",
       "city                0\n",
       "state               0\n",
       "type_x              0\n",
       "cluster             0\n",
       "type_y          26730\n",
       "locale          26730\n",
       "locale_name     26730\n",
       "description     26730\n",
       "transferred     26730\n",
       "transactions    28512\n",
       "dtype: int64"
      ]
     },
     "execution_count": 17,
     "metadata": {},
     "output_type": "execute_result"
    }
   ],
   "source": [
    "X_test.isna().sum()"
   ]
  },
  {
   "cell_type": "code",
   "execution_count": 18,
   "id": "63f164d3",
   "metadata": {
    "execution": {
     "iopub.execute_input": "2024-03-18T14:59:04.352329Z",
     "iopub.status.busy": "2024-03-18T14:59:04.351066Z",
     "iopub.status.idle": "2024-03-18T14:59:04.806027Z",
     "shell.execute_reply": "2024-03-18T14:59:04.804383Z"
    },
    "papermill": {
     "duration": 0.480017,
     "end_time": "2024-03-18T14:59:04.809530",
     "exception": false,
     "start_time": "2024-03-18T14:59:04.329513",
     "status": "completed"
    },
    "tags": []
   },
   "outputs": [],
   "source": [
    "train_data = train_data.drop(['transferred'], axis=1)\n",
    "\n",
    "X_test = X_test.drop(['transferred'], axis=1)\n"
   ]
  },
  {
   "cell_type": "code",
   "execution_count": 19,
   "id": "0310125a",
   "metadata": {
    "execution": {
     "iopub.execute_input": "2024-03-18T14:59:04.853242Z",
     "iopub.status.busy": "2024-03-18T14:59:04.851878Z",
     "iopub.status.idle": "2024-03-18T14:59:04.859418Z",
     "shell.execute_reply": "2024-03-18T14:59:04.858077Z"
    },
    "papermill": {
     "duration": 0.032154,
     "end_time": "2024-03-18T14:59:04.861799",
     "exception": false,
     "start_time": "2024-03-18T14:59:04.829645",
     "status": "completed"
    },
    "tags": []
   },
   "outputs": [
    {
     "name": "stdout",
     "output_type": "stream",
     "text": [
      "train_data.shape:  (3054348, 15)\n",
      "X_test.shape:  (28512, 14)\n"
     ]
    }
   ],
   "source": [
    "print('train_data.shape: ',train_data.shape)\n",
    "print('X_test.shape: ',X_test.shape)"
   ]
  },
  {
   "cell_type": "code",
   "execution_count": 20,
   "id": "448d9a77",
   "metadata": {
    "execution": {
     "iopub.execute_input": "2024-03-18T14:59:05.002254Z",
     "iopub.status.busy": "2024-03-18T14:59:05.000521Z",
     "iopub.status.idle": "2024-03-18T14:59:07.271187Z",
     "shell.execute_reply": "2024-03-18T14:59:07.269508Z"
    },
    "papermill": {
     "duration": 2.295756,
     "end_time": "2024-03-18T14:59:07.274595",
     "exception": false,
     "start_time": "2024-03-18T14:59:04.978839",
     "status": "completed"
    },
    "tags": []
   },
   "outputs": [
    {
     "data": {
      "text/plain": [
       "id                    0\n",
       "date                  0\n",
       "store_nbr             0\n",
       "family                0\n",
       "sales                 0\n",
       "onpromotion           0\n",
       "city                  0\n",
       "state                 0\n",
       "type_x                0\n",
       "cluster               0\n",
       "type_y          2551824\n",
       "locale          2551824\n",
       "locale_name     2551824\n",
       "description     2551824\n",
       "transactions     249117\n",
       "dtype: int64"
      ]
     },
     "execution_count": 20,
     "metadata": {},
     "output_type": "execute_result"
    }
   ],
   "source": [
    "train_data.isna().sum()"
   ]
  },
  {
   "cell_type": "code",
   "execution_count": 21,
   "id": "818542e4",
   "metadata": {
    "execution": {
     "iopub.execute_input": "2024-03-18T14:59:07.317692Z",
     "iopub.status.busy": "2024-03-18T14:59:07.316655Z",
     "iopub.status.idle": "2024-03-18T14:59:07.348869Z",
     "shell.execute_reply": "2024-03-18T14:59:07.347355Z"
    },
    "papermill": {
     "duration": 0.057155,
     "end_time": "2024-03-18T14:59:07.351985",
     "exception": false,
     "start_time": "2024-03-18T14:59:07.294830",
     "status": "completed"
    },
    "tags": []
   },
   "outputs": [
    {
     "data": {
      "text/plain": [
       "id                  0\n",
       "date                0\n",
       "store_nbr           0\n",
       "family              0\n",
       "onpromotion         0\n",
       "city                0\n",
       "state               0\n",
       "type_x              0\n",
       "cluster             0\n",
       "type_y          26730\n",
       "locale          26730\n",
       "locale_name     26730\n",
       "description     26730\n",
       "transactions    28512\n",
       "dtype: int64"
      ]
     },
     "execution_count": 21,
     "metadata": {},
     "output_type": "execute_result"
    }
   ],
   "source": [
    "X_test.isna().sum()"
   ]
  },
  {
   "cell_type": "code",
   "execution_count": 22,
   "id": "035b93eb",
   "metadata": {
    "execution": {
     "iopub.execute_input": "2024-03-18T14:59:07.394543Z",
     "iopub.status.busy": "2024-03-18T14:59:07.394034Z",
     "iopub.status.idle": "2024-03-18T14:59:07.412775Z",
     "shell.execute_reply": "2024-03-18T14:59:07.411683Z"
    },
    "papermill": {
     "duration": 0.043758,
     "end_time": "2024-03-18T14:59:07.415830",
     "exception": false,
     "start_time": "2024-03-18T14:59:07.372072",
     "status": "completed"
    },
    "tags": []
   },
   "outputs": [
    {
     "data": {
      "text/html": [
       "<div>\n",
       "<style scoped>\n",
       "    .dataframe tbody tr th:only-of-type {\n",
       "        vertical-align: middle;\n",
       "    }\n",
       "\n",
       "    .dataframe tbody tr th {\n",
       "        vertical-align: top;\n",
       "    }\n",
       "\n",
       "    .dataframe thead th {\n",
       "        text-align: right;\n",
       "    }\n",
       "</style>\n",
       "<table border=\"1\" class=\"dataframe\">\n",
       "  <thead>\n",
       "    <tr style=\"text-align: right;\">\n",
       "      <th></th>\n",
       "      <th>id</th>\n",
       "      <th>date</th>\n",
       "      <th>store_nbr</th>\n",
       "      <th>family</th>\n",
       "      <th>onpromotion</th>\n",
       "      <th>city</th>\n",
       "      <th>state</th>\n",
       "      <th>type_x</th>\n",
       "      <th>cluster</th>\n",
       "      <th>type_y</th>\n",
       "      <th>locale</th>\n",
       "      <th>locale_name</th>\n",
       "      <th>description</th>\n",
       "      <th>transactions</th>\n",
       "    </tr>\n",
       "  </thead>\n",
       "  <tbody>\n",
       "    <tr>\n",
       "      <th>0</th>\n",
       "      <td>3000888</td>\n",
       "      <td>2017-08-16</td>\n",
       "      <td>1</td>\n",
       "      <td>AUTOMOTIVE</td>\n",
       "      <td>0</td>\n",
       "      <td>Quito</td>\n",
       "      <td>Pichincha</td>\n",
       "      <td>D</td>\n",
       "      <td>13</td>\n",
       "      <td>NaN</td>\n",
       "      <td>NaN</td>\n",
       "      <td>NaN</td>\n",
       "      <td>NaN</td>\n",
       "      <td>NaN</td>\n",
       "    </tr>\n",
       "    <tr>\n",
       "      <th>1</th>\n",
       "      <td>3000889</td>\n",
       "      <td>2017-08-16</td>\n",
       "      <td>1</td>\n",
       "      <td>BABY CARE</td>\n",
       "      <td>0</td>\n",
       "      <td>Quito</td>\n",
       "      <td>Pichincha</td>\n",
       "      <td>D</td>\n",
       "      <td>13</td>\n",
       "      <td>NaN</td>\n",
       "      <td>NaN</td>\n",
       "      <td>NaN</td>\n",
       "      <td>NaN</td>\n",
       "      <td>NaN</td>\n",
       "    </tr>\n",
       "    <tr>\n",
       "      <th>2</th>\n",
       "      <td>3000890</td>\n",
       "      <td>2017-08-16</td>\n",
       "      <td>1</td>\n",
       "      <td>BEAUTY</td>\n",
       "      <td>2</td>\n",
       "      <td>Quito</td>\n",
       "      <td>Pichincha</td>\n",
       "      <td>D</td>\n",
       "      <td>13</td>\n",
       "      <td>NaN</td>\n",
       "      <td>NaN</td>\n",
       "      <td>NaN</td>\n",
       "      <td>NaN</td>\n",
       "      <td>NaN</td>\n",
       "    </tr>\n",
       "    <tr>\n",
       "      <th>3</th>\n",
       "      <td>3000891</td>\n",
       "      <td>2017-08-16</td>\n",
       "      <td>1</td>\n",
       "      <td>BEVERAGES</td>\n",
       "      <td>20</td>\n",
       "      <td>Quito</td>\n",
       "      <td>Pichincha</td>\n",
       "      <td>D</td>\n",
       "      <td>13</td>\n",
       "      <td>NaN</td>\n",
       "      <td>NaN</td>\n",
       "      <td>NaN</td>\n",
       "      <td>NaN</td>\n",
       "      <td>NaN</td>\n",
       "    </tr>\n",
       "    <tr>\n",
       "      <th>4</th>\n",
       "      <td>3000892</td>\n",
       "      <td>2017-08-16</td>\n",
       "      <td>1</td>\n",
       "      <td>BOOKS</td>\n",
       "      <td>0</td>\n",
       "      <td>Quito</td>\n",
       "      <td>Pichincha</td>\n",
       "      <td>D</td>\n",
       "      <td>13</td>\n",
       "      <td>NaN</td>\n",
       "      <td>NaN</td>\n",
       "      <td>NaN</td>\n",
       "      <td>NaN</td>\n",
       "      <td>NaN</td>\n",
       "    </tr>\n",
       "  </tbody>\n",
       "</table>\n",
       "</div>"
      ],
      "text/plain": [
       "        id        date  store_nbr      family  onpromotion   city      state  \\\n",
       "0  3000888  2017-08-16          1  AUTOMOTIVE            0  Quito  Pichincha   \n",
       "1  3000889  2017-08-16          1   BABY CARE            0  Quito  Pichincha   \n",
       "2  3000890  2017-08-16          1      BEAUTY            2  Quito  Pichincha   \n",
       "3  3000891  2017-08-16          1   BEVERAGES           20  Quito  Pichincha   \n",
       "4  3000892  2017-08-16          1       BOOKS            0  Quito  Pichincha   \n",
       "\n",
       "  type_x  cluster type_y locale locale_name description  transactions  \n",
       "0      D       13    NaN    NaN         NaN         NaN           NaN  \n",
       "1      D       13    NaN    NaN         NaN         NaN           NaN  \n",
       "2      D       13    NaN    NaN         NaN         NaN           NaN  \n",
       "3      D       13    NaN    NaN         NaN         NaN           NaN  \n",
       "4      D       13    NaN    NaN         NaN         NaN           NaN  "
      ]
     },
     "execution_count": 22,
     "metadata": {},
     "output_type": "execute_result"
    }
   ],
   "source": [
    "X_test.head()"
   ]
  },
  {
   "cell_type": "code",
   "execution_count": 23,
   "id": "774efdbd",
   "metadata": {
    "execution": {
     "iopub.execute_input": "2024-03-18T14:59:07.460223Z",
     "iopub.status.busy": "2024-03-18T14:59:07.459711Z",
     "iopub.status.idle": "2024-03-18T14:59:09.179156Z",
     "shell.execute_reply": "2024-03-18T14:59:09.177677Z"
    },
    "papermill": {
     "duration": 1.74522,
     "end_time": "2024-03-18T14:59:09.182574",
     "exception": false,
     "start_time": "2024-03-18T14:59:07.437354",
     "status": "completed"
    },
    "tags": []
   },
   "outputs": [],
   "source": [
    "train_data[['type_y','locale','locale_name','description','transactions']] = train_data[['type_y','locale','locale_name','description','transactions']].fillna(0)\n",
    "X_test[['type_y','locale','locale_name','description','transactions']] = X_test[['type_y','locale','locale_name','description','transactions']].fillna(0)"
   ]
  },
  {
   "cell_type": "code",
   "execution_count": 24,
   "id": "b29c42b7",
   "metadata": {
    "execution": {
     "iopub.execute_input": "2024-03-18T14:59:09.229280Z",
     "iopub.status.busy": "2024-03-18T14:59:09.228240Z",
     "iopub.status.idle": "2024-03-18T14:59:09.236810Z",
     "shell.execute_reply": "2024-03-18T14:59:09.235554Z"
    },
    "papermill": {
     "duration": 0.03509,
     "end_time": "2024-03-18T14:59:09.239672",
     "exception": false,
     "start_time": "2024-03-18T14:59:09.204582",
     "status": "completed"
    },
    "tags": []
   },
   "outputs": [
    {
     "data": {
      "text/plain": [
       "(28512, 14)"
      ]
     },
     "execution_count": 24,
     "metadata": {},
     "output_type": "execute_result"
    }
   ],
   "source": [
    "X_test.shape"
   ]
  },
  {
   "cell_type": "code",
   "execution_count": 25,
   "id": "9728f85d",
   "metadata": {
    "execution": {
     "iopub.execute_input": "2024-03-18T14:59:09.285286Z",
     "iopub.status.busy": "2024-03-18T14:59:09.284315Z",
     "iopub.status.idle": "2024-03-18T14:59:12.230138Z",
     "shell.execute_reply": "2024-03-18T14:59:12.228739Z"
    },
    "papermill": {
     "duration": 2.972989,
     "end_time": "2024-03-18T14:59:12.233744",
     "exception": false,
     "start_time": "2024-03-18T14:59:09.260755",
     "status": "completed"
    },
    "tags": []
   },
   "outputs": [
    {
     "data": {
      "text/plain": [
       "id              0\n",
       "date            0\n",
       "store_nbr       0\n",
       "family          0\n",
       "sales           0\n",
       "onpromotion     0\n",
       "city            0\n",
       "state           0\n",
       "type_x          0\n",
       "cluster         0\n",
       "type_y          0\n",
       "locale          0\n",
       "locale_name     0\n",
       "description     0\n",
       "transactions    0\n",
       "dtype: int64"
      ]
     },
     "execution_count": 25,
     "metadata": {},
     "output_type": "execute_result"
    }
   ],
   "source": [
    "train_data.isna().sum()"
   ]
  },
  {
   "cell_type": "code",
   "execution_count": 26,
   "id": "6b1caaad",
   "metadata": {
    "execution": {
     "iopub.execute_input": "2024-03-18T14:59:12.280148Z",
     "iopub.status.busy": "2024-03-18T14:59:12.279166Z",
     "iopub.status.idle": "2024-03-18T14:59:12.319435Z",
     "shell.execute_reply": "2024-03-18T14:59:12.318007Z"
    },
    "papermill": {
     "duration": 0.067448,
     "end_time": "2024-03-18T14:59:12.322709",
     "exception": false,
     "start_time": "2024-03-18T14:59:12.255261",
     "status": "completed"
    },
    "tags": []
   },
   "outputs": [
    {
     "data": {
      "text/plain": [
       "id              0\n",
       "date            0\n",
       "store_nbr       0\n",
       "family          0\n",
       "onpromotion     0\n",
       "city            0\n",
       "state           0\n",
       "type_x          0\n",
       "cluster         0\n",
       "type_y          0\n",
       "locale          0\n",
       "locale_name     0\n",
       "description     0\n",
       "transactions    0\n",
       "dtype: int64"
      ]
     },
     "execution_count": 26,
     "metadata": {},
     "output_type": "execute_result"
    }
   ],
   "source": [
    "X_test.isna().sum()"
   ]
  },
  {
   "cell_type": "code",
   "execution_count": 27,
   "id": "d2559e78",
   "metadata": {
    "execution": {
     "iopub.execute_input": "2024-03-18T14:59:12.368052Z",
     "iopub.status.busy": "2024-03-18T14:59:12.367568Z",
     "iopub.status.idle": "2024-03-18T14:59:12.967484Z",
     "shell.execute_reply": "2024-03-18T14:59:12.966203Z"
    },
    "papermill": {
     "duration": 0.626053,
     "end_time": "2024-03-18T14:59:12.970097",
     "exception": false,
     "start_time": "2024-03-18T14:59:12.344044",
     "status": "completed"
    },
    "tags": []
   },
   "outputs": [
    {
     "data": {
      "text/plain": [
       "family\n",
       "AUTOMOTIVE                    92556\n",
       "HOME APPLIANCES               92556\n",
       "SCHOOL AND OFFICE SUPPLIES    92556\n",
       "PRODUCE                       92556\n",
       "PREPARED FOODS                92556\n",
       "POULTRY                       92556\n",
       "PLAYERS AND ELECTRONICS       92556\n",
       "PET SUPPLIES                  92556\n",
       "PERSONAL CARE                 92556\n",
       "MEATS                         92556\n",
       "MAGAZINES                     92556\n",
       "LIQUOR,WINE,BEER              92556\n",
       "LINGERIE                      92556\n",
       "LAWN AND GARDEN               92556\n",
       "LADIESWEAR                    92556\n",
       "HOME CARE                     92556\n",
       "HOME AND KITCHEN II           92556\n",
       "BABY CARE                     92556\n",
       "HOME AND KITCHEN I            92556\n",
       "HARDWARE                      92556\n",
       "GROCERY II                    92556\n",
       "GROCERY I                     92556\n",
       "FROZEN FOODS                  92556\n",
       "EGGS                          92556\n",
       "DELI                          92556\n",
       "DAIRY                         92556\n",
       "CLEANING                      92556\n",
       "CELEBRATION                   92556\n",
       "BREAD/BAKERY                  92556\n",
       "BOOKS                         92556\n",
       "BEVERAGES                     92556\n",
       "BEAUTY                        92556\n",
       "SEAFOOD                       92556\n",
       "Name: count, dtype: int64"
      ]
     },
     "execution_count": 27,
     "metadata": {},
     "output_type": "execute_result"
    }
   ],
   "source": [
    "train_data['family'].value_counts()"
   ]
  },
  {
   "cell_type": "code",
   "execution_count": 28,
   "id": "69275e59",
   "metadata": {
    "execution": {
     "iopub.execute_input": "2024-03-18T14:59:13.016179Z",
     "iopub.status.busy": "2024-03-18T14:59:13.015648Z",
     "iopub.status.idle": "2024-03-18T14:59:13.023531Z",
     "shell.execute_reply": "2024-03-18T14:59:13.021963Z"
    },
    "papermill": {
     "duration": 0.035263,
     "end_time": "2024-03-18T14:59:13.026431",
     "exception": false,
     "start_time": "2024-03-18T14:59:12.991168",
     "status": "completed"
    },
    "tags": []
   },
   "outputs": [],
   "source": [
    "def categTheDate(feature, start):\n",
    "    le = LabelEncoder()\n",
    "    dic_feature = {}\n",
    "    feature = feature.astype(str)\n",
    "    le.fit(feature)\n",
    "    feature_value = le.classes_\n",
    "    feature_category = np.arange(start, len(le.classes_)+start)\n",
    "    for v, c in zip(feature_value, feature_category):\n",
    "        dic_feature[v] = c\n",
    "    return feature.map(dic_feature)"
   ]
  },
  {
   "cell_type": "code",
   "execution_count": 29,
   "id": "9efddf62",
   "metadata": {
    "execution": {
     "iopub.execute_input": "2024-03-18T14:59:13.071994Z",
     "iopub.status.busy": "2024-03-18T14:59:13.071025Z",
     "iopub.status.idle": "2024-03-18T14:59:13.078812Z",
     "shell.execute_reply": "2024-03-18T14:59:13.077651Z"
    },
    "papermill": {
     "duration": 0.033557,
     "end_time": "2024-03-18T14:59:13.081293",
     "exception": false,
     "start_time": "2024-03-18T14:59:13.047736",
     "status": "completed"
    },
    "tags": []
   },
   "outputs": [
    {
     "data": {
      "text/plain": [
       "(28512, 14)"
      ]
     },
     "execution_count": 29,
     "metadata": {},
     "output_type": "execute_result"
    }
   ],
   "source": [
    "X_test.shape"
   ]
  },
  {
   "cell_type": "code",
   "execution_count": 30,
   "id": "c93f9884",
   "metadata": {
    "execution": {
     "iopub.execute_input": "2024-03-18T14:59:13.126842Z",
     "iopub.status.busy": "2024-03-18T14:59:13.126314Z",
     "iopub.status.idle": "2024-03-18T14:59:22.250470Z",
     "shell.execute_reply": "2024-03-18T14:59:22.248870Z"
    },
    "papermill": {
     "duration": 9.150684,
     "end_time": "2024-03-18T14:59:22.253855",
     "exception": false,
     "start_time": "2024-03-18T14:59:13.103171",
     "status": "completed"
    },
    "tags": []
   },
   "outputs": [],
   "source": [
    "train_data['family'] = categTheDate(feature=train_data['family'],start=1)\n",
    "train_data['city'] = categTheDate(feature=train_data['city'],start=1)\n",
    "train_data['state'] = categTheDate(feature=train_data['state'],start=1)\n",
    "train_data['type_x'] = categTheDate(feature=train_data['type_x'],start=1)\n",
    "train_data['type_y'] = categTheDate(feature=train_data['type_y'],start=1)\n",
    "train_data['locale'] = categTheDate(feature=train_data['locale'],start=1)\n",
    "train_data['locale_name'] = categTheDate(feature=train_data['locale_name'],start=1)\n",
    "train_data['description'] = categTheDate(feature=train_data['state'],start=1)\n",
    "# train_data['transferred'] = categTheDate(feature=train_data['transferred'],start=0)\n",
    "\n",
    "X_test['family'] = categTheDate(feature=X_test['family'],start=1)\n",
    "X_test['city'] = categTheDate(feature=X_test['city'],start=1)\n",
    "X_test['state'] = categTheDate(feature=X_test['state'],start=1)\n",
    "X_test['type_x'] = categTheDate(feature=X_test['type_x'],start=1)\n",
    "X_test['type_y'] = categTheDate(feature=X_test['type_y'],start=1)\n",
    "X_test['locale'] = categTheDate(feature=X_test['locale'],start=1)\n",
    "X_test['locale_name'] = categTheDate(feature=X_test['locale_name'],start=1)\n",
    "X_test['description'] = categTheDate(feature=X_test['state'],start=1)\n",
    "# X_test['transferred'] = categTheDate(feature=X_test['transferred'],start=0)"
   ]
  },
  {
   "cell_type": "code",
   "execution_count": 31,
   "id": "066a940f",
   "metadata": {
    "execution": {
     "iopub.execute_input": "2024-03-18T14:59:22.301144Z",
     "iopub.status.busy": "2024-03-18T14:59:22.300559Z",
     "iopub.status.idle": "2024-03-18T14:59:22.323619Z",
     "shell.execute_reply": "2024-03-18T14:59:22.321542Z"
    },
    "papermill": {
     "duration": 0.050847,
     "end_time": "2024-03-18T14:59:22.327207",
     "exception": false,
     "start_time": "2024-03-18T14:59:22.276360",
     "status": "completed"
    },
    "tags": []
   },
   "outputs": [
    {
     "data": {
      "text/html": [
       "<div>\n",
       "<style scoped>\n",
       "    .dataframe tbody tr th:only-of-type {\n",
       "        vertical-align: middle;\n",
       "    }\n",
       "\n",
       "    .dataframe tbody tr th {\n",
       "        vertical-align: top;\n",
       "    }\n",
       "\n",
       "    .dataframe thead th {\n",
       "        text-align: right;\n",
       "    }\n",
       "</style>\n",
       "<table border=\"1\" class=\"dataframe\">\n",
       "  <thead>\n",
       "    <tr style=\"text-align: right;\">\n",
       "      <th></th>\n",
       "      <th>id</th>\n",
       "      <th>date</th>\n",
       "      <th>store_nbr</th>\n",
       "      <th>family</th>\n",
       "      <th>sales</th>\n",
       "      <th>onpromotion</th>\n",
       "      <th>city</th>\n",
       "      <th>state</th>\n",
       "      <th>type_x</th>\n",
       "      <th>cluster</th>\n",
       "      <th>type_y</th>\n",
       "      <th>locale</th>\n",
       "      <th>locale_name</th>\n",
       "      <th>description</th>\n",
       "      <th>transactions</th>\n",
       "    </tr>\n",
       "  </thead>\n",
       "  <tbody>\n",
       "    <tr>\n",
       "      <th>0</th>\n",
       "      <td>0</td>\n",
       "      <td>2013-01-01</td>\n",
       "      <td>1</td>\n",
       "      <td>1</td>\n",
       "      <td>0.0</td>\n",
       "      <td>0</td>\n",
       "      <td>19</td>\n",
       "      <td>13</td>\n",
       "      <td>4</td>\n",
       "      <td>13</td>\n",
       "      <td>5</td>\n",
       "      <td>3</td>\n",
       "      <td>6</td>\n",
       "      <td>5</td>\n",
       "      <td>0.0</td>\n",
       "    </tr>\n",
       "    <tr>\n",
       "      <th>1</th>\n",
       "      <td>1</td>\n",
       "      <td>2013-01-01</td>\n",
       "      <td>1</td>\n",
       "      <td>2</td>\n",
       "      <td>0.0</td>\n",
       "      <td>0</td>\n",
       "      <td>19</td>\n",
       "      <td>13</td>\n",
       "      <td>4</td>\n",
       "      <td>13</td>\n",
       "      <td>5</td>\n",
       "      <td>3</td>\n",
       "      <td>6</td>\n",
       "      <td>5</td>\n",
       "      <td>0.0</td>\n",
       "    </tr>\n",
       "    <tr>\n",
       "      <th>2</th>\n",
       "      <td>2</td>\n",
       "      <td>2013-01-01</td>\n",
       "      <td>1</td>\n",
       "      <td>3</td>\n",
       "      <td>0.0</td>\n",
       "      <td>0</td>\n",
       "      <td>19</td>\n",
       "      <td>13</td>\n",
       "      <td>4</td>\n",
       "      <td>13</td>\n",
       "      <td>5</td>\n",
       "      <td>3</td>\n",
       "      <td>6</td>\n",
       "      <td>5</td>\n",
       "      <td>0.0</td>\n",
       "    </tr>\n",
       "    <tr>\n",
       "      <th>3</th>\n",
       "      <td>3</td>\n",
       "      <td>2013-01-01</td>\n",
       "      <td>1</td>\n",
       "      <td>4</td>\n",
       "      <td>0.0</td>\n",
       "      <td>0</td>\n",
       "      <td>19</td>\n",
       "      <td>13</td>\n",
       "      <td>4</td>\n",
       "      <td>13</td>\n",
       "      <td>5</td>\n",
       "      <td>3</td>\n",
       "      <td>6</td>\n",
       "      <td>5</td>\n",
       "      <td>0.0</td>\n",
       "    </tr>\n",
       "    <tr>\n",
       "      <th>4</th>\n",
       "      <td>4</td>\n",
       "      <td>2013-01-01</td>\n",
       "      <td>1</td>\n",
       "      <td>5</td>\n",
       "      <td>0.0</td>\n",
       "      <td>0</td>\n",
       "      <td>19</td>\n",
       "      <td>13</td>\n",
       "      <td>4</td>\n",
       "      <td>13</td>\n",
       "      <td>5</td>\n",
       "      <td>3</td>\n",
       "      <td>6</td>\n",
       "      <td>5</td>\n",
       "      <td>0.0</td>\n",
       "    </tr>\n",
       "  </tbody>\n",
       "</table>\n",
       "</div>"
      ],
      "text/plain": [
       "   id        date  store_nbr  family  sales  onpromotion  city  state  type_x  \\\n",
       "0   0  2013-01-01          1       1    0.0            0    19     13       4   \n",
       "1   1  2013-01-01          1       2    0.0            0    19     13       4   \n",
       "2   2  2013-01-01          1       3    0.0            0    19     13       4   \n",
       "3   3  2013-01-01          1       4    0.0            0    19     13       4   \n",
       "4   4  2013-01-01          1       5    0.0            0    19     13       4   \n",
       "\n",
       "   cluster  type_y  locale  locale_name  description  transactions  \n",
       "0       13       5       3            6            5           0.0  \n",
       "1       13       5       3            6            5           0.0  \n",
       "2       13       5       3            6            5           0.0  \n",
       "3       13       5       3            6            5           0.0  \n",
       "4       13       5       3            6            5           0.0  "
      ]
     },
     "execution_count": 31,
     "metadata": {},
     "output_type": "execute_result"
    }
   ],
   "source": [
    "train_data.head()"
   ]
  },
  {
   "cell_type": "code",
   "execution_count": 32,
   "id": "f93a7002",
   "metadata": {
    "execution": {
     "iopub.execute_input": "2024-03-18T14:59:22.375325Z",
     "iopub.status.busy": "2024-03-18T14:59:22.374806Z",
     "iopub.status.idle": "2024-03-18T14:59:22.393818Z",
     "shell.execute_reply": "2024-03-18T14:59:22.392535Z"
    },
    "papermill": {
     "duration": 0.046352,
     "end_time": "2024-03-18T14:59:22.396984",
     "exception": false,
     "start_time": "2024-03-18T14:59:22.350632",
     "status": "completed"
    },
    "tags": []
   },
   "outputs": [
    {
     "data": {
      "text/html": [
       "<div>\n",
       "<style scoped>\n",
       "    .dataframe tbody tr th:only-of-type {\n",
       "        vertical-align: middle;\n",
       "    }\n",
       "\n",
       "    .dataframe tbody tr th {\n",
       "        vertical-align: top;\n",
       "    }\n",
       "\n",
       "    .dataframe thead th {\n",
       "        text-align: right;\n",
       "    }\n",
       "</style>\n",
       "<table border=\"1\" class=\"dataframe\">\n",
       "  <thead>\n",
       "    <tr style=\"text-align: right;\">\n",
       "      <th></th>\n",
       "      <th>id</th>\n",
       "      <th>date</th>\n",
       "      <th>store_nbr</th>\n",
       "      <th>family</th>\n",
       "      <th>onpromotion</th>\n",
       "      <th>city</th>\n",
       "      <th>state</th>\n",
       "      <th>type_x</th>\n",
       "      <th>cluster</th>\n",
       "      <th>type_y</th>\n",
       "      <th>locale</th>\n",
       "      <th>locale_name</th>\n",
       "      <th>description</th>\n",
       "      <th>transactions</th>\n",
       "    </tr>\n",
       "  </thead>\n",
       "  <tbody>\n",
       "    <tr>\n",
       "      <th>0</th>\n",
       "      <td>3000888</td>\n",
       "      <td>2017-08-16</td>\n",
       "      <td>1</td>\n",
       "      <td>1</td>\n",
       "      <td>0</td>\n",
       "      <td>19</td>\n",
       "      <td>13</td>\n",
       "      <td>4</td>\n",
       "      <td>13</td>\n",
       "      <td>1</td>\n",
       "      <td>1</td>\n",
       "      <td>1</td>\n",
       "      <td>5</td>\n",
       "      <td>0.0</td>\n",
       "    </tr>\n",
       "    <tr>\n",
       "      <th>1</th>\n",
       "      <td>3000889</td>\n",
       "      <td>2017-08-16</td>\n",
       "      <td>1</td>\n",
       "      <td>2</td>\n",
       "      <td>0</td>\n",
       "      <td>19</td>\n",
       "      <td>13</td>\n",
       "      <td>4</td>\n",
       "      <td>13</td>\n",
       "      <td>1</td>\n",
       "      <td>1</td>\n",
       "      <td>1</td>\n",
       "      <td>5</td>\n",
       "      <td>0.0</td>\n",
       "    </tr>\n",
       "    <tr>\n",
       "      <th>2</th>\n",
       "      <td>3000890</td>\n",
       "      <td>2017-08-16</td>\n",
       "      <td>1</td>\n",
       "      <td>3</td>\n",
       "      <td>2</td>\n",
       "      <td>19</td>\n",
       "      <td>13</td>\n",
       "      <td>4</td>\n",
       "      <td>13</td>\n",
       "      <td>1</td>\n",
       "      <td>1</td>\n",
       "      <td>1</td>\n",
       "      <td>5</td>\n",
       "      <td>0.0</td>\n",
       "    </tr>\n",
       "    <tr>\n",
       "      <th>3</th>\n",
       "      <td>3000891</td>\n",
       "      <td>2017-08-16</td>\n",
       "      <td>1</td>\n",
       "      <td>4</td>\n",
       "      <td>20</td>\n",
       "      <td>19</td>\n",
       "      <td>13</td>\n",
       "      <td>4</td>\n",
       "      <td>13</td>\n",
       "      <td>1</td>\n",
       "      <td>1</td>\n",
       "      <td>1</td>\n",
       "      <td>5</td>\n",
       "      <td>0.0</td>\n",
       "    </tr>\n",
       "    <tr>\n",
       "      <th>4</th>\n",
       "      <td>3000892</td>\n",
       "      <td>2017-08-16</td>\n",
       "      <td>1</td>\n",
       "      <td>5</td>\n",
       "      <td>0</td>\n",
       "      <td>19</td>\n",
       "      <td>13</td>\n",
       "      <td>4</td>\n",
       "      <td>13</td>\n",
       "      <td>1</td>\n",
       "      <td>1</td>\n",
       "      <td>1</td>\n",
       "      <td>5</td>\n",
       "      <td>0.0</td>\n",
       "    </tr>\n",
       "  </tbody>\n",
       "</table>\n",
       "</div>"
      ],
      "text/plain": [
       "        id        date  store_nbr  family  onpromotion  city  state  type_x  \\\n",
       "0  3000888  2017-08-16          1       1            0    19     13       4   \n",
       "1  3000889  2017-08-16          1       2            0    19     13       4   \n",
       "2  3000890  2017-08-16          1       3            2    19     13       4   \n",
       "3  3000891  2017-08-16          1       4           20    19     13       4   \n",
       "4  3000892  2017-08-16          1       5            0    19     13       4   \n",
       "\n",
       "   cluster  type_y  locale  locale_name  description  transactions  \n",
       "0       13       1       1            1            5           0.0  \n",
       "1       13       1       1            1            5           0.0  \n",
       "2       13       1       1            1            5           0.0  \n",
       "3       13       1       1            1            5           0.0  \n",
       "4       13       1       1            1            5           0.0  "
      ]
     },
     "execution_count": 32,
     "metadata": {},
     "output_type": "execute_result"
    }
   ],
   "source": [
    "X_test.head()"
   ]
  },
  {
   "cell_type": "code",
   "execution_count": 33,
   "id": "6bdd641b",
   "metadata": {
    "execution": {
     "iopub.execute_input": "2024-03-18T14:59:22.446091Z",
     "iopub.status.busy": "2024-03-18T14:59:22.445605Z",
     "iopub.status.idle": "2024-03-18T14:59:22.451820Z",
     "shell.execute_reply": "2024-03-18T14:59:22.450489Z"
    },
    "papermill": {
     "duration": 0.034289,
     "end_time": "2024-03-18T14:59:22.454686",
     "exception": false,
     "start_time": "2024-03-18T14:59:22.420397",
     "status": "completed"
    },
    "tags": []
   },
   "outputs": [],
   "source": [
    "def splitDate(X,ind,split):\n",
    "    return X.split(split)[ind]"
   ]
  },
  {
   "cell_type": "code",
   "execution_count": 34,
   "id": "557004af",
   "metadata": {
    "execution": {
     "iopub.execute_input": "2024-03-18T14:59:22.503064Z",
     "iopub.status.busy": "2024-03-18T14:59:22.502320Z",
     "iopub.status.idle": "2024-03-18T14:59:35.537361Z",
     "shell.execute_reply": "2024-03-18T14:59:35.535951Z"
    },
    "papermill": {
     "duration": 13.062695,
     "end_time": "2024-03-18T14:59:35.540735",
     "exception": false,
     "start_time": "2024-03-18T14:59:22.478040",
     "status": "completed"
    },
    "tags": []
   },
   "outputs": [],
   "source": [
    "train_data['Year'] = train_data['date'].apply(lambda X: int(splitDate(X, 0, split='-')))\n",
    "train_data['Month'] = train_data['date'].apply(lambda X: int(splitDate(X, 1, split='-')))\n",
    "train_data['Day'] = train_data['date'].apply(lambda X: int(splitDate(X, 2, split='-')))\n",
    "train_data = train_data.drop([\"date\"],axis=1)"
   ]
  },
  {
   "cell_type": "code",
   "execution_count": 35,
   "id": "21bbb5a4",
   "metadata": {
    "execution": {
     "iopub.execute_input": "2024-03-18T14:59:35.588447Z",
     "iopub.status.busy": "2024-03-18T14:59:35.587628Z",
     "iopub.status.idle": "2024-03-18T14:59:35.718122Z",
     "shell.execute_reply": "2024-03-18T14:59:35.716449Z"
    },
    "papermill": {
     "duration": 0.158211,
     "end_time": "2024-03-18T14:59:35.721465",
     "exception": false,
     "start_time": "2024-03-18T14:59:35.563254",
     "status": "completed"
    },
    "tags": []
   },
   "outputs": [],
   "source": [
    "X_test['Year'] = X_test['date'].apply(lambda X: int(splitDate(X, 0, split='-')))\n",
    "X_test['Month'] = X_test['date'].apply(lambda X: int(splitDate(X, 1, split='-')))\n",
    "X_test['Day'] = X_test['date'].apply(lambda X: int(splitDate(X, 2, split='-')))\n",
    "X_test = X_test.drop([\"date\"],axis=1)"
   ]
  },
  {
   "cell_type": "code",
   "execution_count": 36,
   "id": "ae09f911",
   "metadata": {
    "execution": {
     "iopub.execute_input": "2024-03-18T14:59:35.768247Z",
     "iopub.status.busy": "2024-03-18T14:59:35.767558Z",
     "iopub.status.idle": "2024-03-18T14:59:35.794214Z",
     "shell.execute_reply": "2024-03-18T14:59:35.792780Z"
    },
    "papermill": {
     "duration": 0.053483,
     "end_time": "2024-03-18T14:59:35.797090",
     "exception": false,
     "start_time": "2024-03-18T14:59:35.743607",
     "status": "completed"
    },
    "tags": []
   },
   "outputs": [
    {
     "data": {
      "text/html": [
       "<div>\n",
       "<style scoped>\n",
       "    .dataframe tbody tr th:only-of-type {\n",
       "        vertical-align: middle;\n",
       "    }\n",
       "\n",
       "    .dataframe tbody tr th {\n",
       "        vertical-align: top;\n",
       "    }\n",
       "\n",
       "    .dataframe thead th {\n",
       "        text-align: right;\n",
       "    }\n",
       "</style>\n",
       "<table border=\"1\" class=\"dataframe\">\n",
       "  <thead>\n",
       "    <tr style=\"text-align: right;\">\n",
       "      <th></th>\n",
       "      <th>id</th>\n",
       "      <th>store_nbr</th>\n",
       "      <th>family</th>\n",
       "      <th>onpromotion</th>\n",
       "      <th>city</th>\n",
       "      <th>state</th>\n",
       "      <th>type_x</th>\n",
       "      <th>cluster</th>\n",
       "      <th>type_y</th>\n",
       "      <th>locale</th>\n",
       "      <th>locale_name</th>\n",
       "      <th>description</th>\n",
       "      <th>transactions</th>\n",
       "      <th>Year</th>\n",
       "      <th>Month</th>\n",
       "      <th>Day</th>\n",
       "    </tr>\n",
       "  </thead>\n",
       "  <tbody>\n",
       "    <tr>\n",
       "      <th>0</th>\n",
       "      <td>3000888</td>\n",
       "      <td>1</td>\n",
       "      <td>1</td>\n",
       "      <td>0</td>\n",
       "      <td>19</td>\n",
       "      <td>13</td>\n",
       "      <td>4</td>\n",
       "      <td>13</td>\n",
       "      <td>1</td>\n",
       "      <td>1</td>\n",
       "      <td>1</td>\n",
       "      <td>5</td>\n",
       "      <td>0.0</td>\n",
       "      <td>2017</td>\n",
       "      <td>8</td>\n",
       "      <td>16</td>\n",
       "    </tr>\n",
       "    <tr>\n",
       "      <th>1</th>\n",
       "      <td>3000889</td>\n",
       "      <td>1</td>\n",
       "      <td>2</td>\n",
       "      <td>0</td>\n",
       "      <td>19</td>\n",
       "      <td>13</td>\n",
       "      <td>4</td>\n",
       "      <td>13</td>\n",
       "      <td>1</td>\n",
       "      <td>1</td>\n",
       "      <td>1</td>\n",
       "      <td>5</td>\n",
       "      <td>0.0</td>\n",
       "      <td>2017</td>\n",
       "      <td>8</td>\n",
       "      <td>16</td>\n",
       "    </tr>\n",
       "    <tr>\n",
       "      <th>2</th>\n",
       "      <td>3000890</td>\n",
       "      <td>1</td>\n",
       "      <td>3</td>\n",
       "      <td>2</td>\n",
       "      <td>19</td>\n",
       "      <td>13</td>\n",
       "      <td>4</td>\n",
       "      <td>13</td>\n",
       "      <td>1</td>\n",
       "      <td>1</td>\n",
       "      <td>1</td>\n",
       "      <td>5</td>\n",
       "      <td>0.0</td>\n",
       "      <td>2017</td>\n",
       "      <td>8</td>\n",
       "      <td>16</td>\n",
       "    </tr>\n",
       "    <tr>\n",
       "      <th>3</th>\n",
       "      <td>3000891</td>\n",
       "      <td>1</td>\n",
       "      <td>4</td>\n",
       "      <td>20</td>\n",
       "      <td>19</td>\n",
       "      <td>13</td>\n",
       "      <td>4</td>\n",
       "      <td>13</td>\n",
       "      <td>1</td>\n",
       "      <td>1</td>\n",
       "      <td>1</td>\n",
       "      <td>5</td>\n",
       "      <td>0.0</td>\n",
       "      <td>2017</td>\n",
       "      <td>8</td>\n",
       "      <td>16</td>\n",
       "    </tr>\n",
       "    <tr>\n",
       "      <th>4</th>\n",
       "      <td>3000892</td>\n",
       "      <td>1</td>\n",
       "      <td>5</td>\n",
       "      <td>0</td>\n",
       "      <td>19</td>\n",
       "      <td>13</td>\n",
       "      <td>4</td>\n",
       "      <td>13</td>\n",
       "      <td>1</td>\n",
       "      <td>1</td>\n",
       "      <td>1</td>\n",
       "      <td>5</td>\n",
       "      <td>0.0</td>\n",
       "      <td>2017</td>\n",
       "      <td>8</td>\n",
       "      <td>16</td>\n",
       "    </tr>\n",
       "    <tr>\n",
       "      <th>...</th>\n",
       "      <td>...</td>\n",
       "      <td>...</td>\n",
       "      <td>...</td>\n",
       "      <td>...</td>\n",
       "      <td>...</td>\n",
       "      <td>...</td>\n",
       "      <td>...</td>\n",
       "      <td>...</td>\n",
       "      <td>...</td>\n",
       "      <td>...</td>\n",
       "      <td>...</td>\n",
       "      <td>...</td>\n",
       "      <td>...</td>\n",
       "      <td>...</td>\n",
       "      <td>...</td>\n",
       "      <td>...</td>\n",
       "    </tr>\n",
       "    <tr>\n",
       "      <th>28507</th>\n",
       "      <td>3029395</td>\n",
       "      <td>9</td>\n",
       "      <td>29</td>\n",
       "      <td>1</td>\n",
       "      <td>19</td>\n",
       "      <td>13</td>\n",
       "      <td>2</td>\n",
       "      <td>6</td>\n",
       "      <td>1</td>\n",
       "      <td>1</td>\n",
       "      <td>1</td>\n",
       "      <td>5</td>\n",
       "      <td>0.0</td>\n",
       "      <td>2017</td>\n",
       "      <td>8</td>\n",
       "      <td>31</td>\n",
       "    </tr>\n",
       "    <tr>\n",
       "      <th>28508</th>\n",
       "      <td>3029396</td>\n",
       "      <td>9</td>\n",
       "      <td>30</td>\n",
       "      <td>0</td>\n",
       "      <td>19</td>\n",
       "      <td>13</td>\n",
       "      <td>2</td>\n",
       "      <td>6</td>\n",
       "      <td>1</td>\n",
       "      <td>1</td>\n",
       "      <td>1</td>\n",
       "      <td>5</td>\n",
       "      <td>0.0</td>\n",
       "      <td>2017</td>\n",
       "      <td>8</td>\n",
       "      <td>31</td>\n",
       "    </tr>\n",
       "    <tr>\n",
       "      <th>28509</th>\n",
       "      <td>3029397</td>\n",
       "      <td>9</td>\n",
       "      <td>31</td>\n",
       "      <td>1</td>\n",
       "      <td>19</td>\n",
       "      <td>13</td>\n",
       "      <td>2</td>\n",
       "      <td>6</td>\n",
       "      <td>1</td>\n",
       "      <td>1</td>\n",
       "      <td>1</td>\n",
       "      <td>5</td>\n",
       "      <td>0.0</td>\n",
       "      <td>2017</td>\n",
       "      <td>8</td>\n",
       "      <td>31</td>\n",
       "    </tr>\n",
       "    <tr>\n",
       "      <th>28510</th>\n",
       "      <td>3029398</td>\n",
       "      <td>9</td>\n",
       "      <td>32</td>\n",
       "      <td>9</td>\n",
       "      <td>19</td>\n",
       "      <td>13</td>\n",
       "      <td>2</td>\n",
       "      <td>6</td>\n",
       "      <td>1</td>\n",
       "      <td>1</td>\n",
       "      <td>1</td>\n",
       "      <td>5</td>\n",
       "      <td>0.0</td>\n",
       "      <td>2017</td>\n",
       "      <td>8</td>\n",
       "      <td>31</td>\n",
       "    </tr>\n",
       "    <tr>\n",
       "      <th>28511</th>\n",
       "      <td>3029399</td>\n",
       "      <td>9</td>\n",
       "      <td>33</td>\n",
       "      <td>0</td>\n",
       "      <td>19</td>\n",
       "      <td>13</td>\n",
       "      <td>2</td>\n",
       "      <td>6</td>\n",
       "      <td>1</td>\n",
       "      <td>1</td>\n",
       "      <td>1</td>\n",
       "      <td>5</td>\n",
       "      <td>0.0</td>\n",
       "      <td>2017</td>\n",
       "      <td>8</td>\n",
       "      <td>31</td>\n",
       "    </tr>\n",
       "  </tbody>\n",
       "</table>\n",
       "<p>28512 rows × 16 columns</p>\n",
       "</div>"
      ],
      "text/plain": [
       "            id  store_nbr  family  onpromotion  city  state  type_x  cluster  \\\n",
       "0      3000888          1       1            0    19     13       4       13   \n",
       "1      3000889          1       2            0    19     13       4       13   \n",
       "2      3000890          1       3            2    19     13       4       13   \n",
       "3      3000891          1       4           20    19     13       4       13   \n",
       "4      3000892          1       5            0    19     13       4       13   \n",
       "...        ...        ...     ...          ...   ...    ...     ...      ...   \n",
       "28507  3029395          9      29            1    19     13       2        6   \n",
       "28508  3029396          9      30            0    19     13       2        6   \n",
       "28509  3029397          9      31            1    19     13       2        6   \n",
       "28510  3029398          9      32            9    19     13       2        6   \n",
       "28511  3029399          9      33            0    19     13       2        6   \n",
       "\n",
       "       type_y  locale  locale_name  description  transactions  Year  Month  \\\n",
       "0           1       1            1            5           0.0  2017      8   \n",
       "1           1       1            1            5           0.0  2017      8   \n",
       "2           1       1            1            5           0.0  2017      8   \n",
       "3           1       1            1            5           0.0  2017      8   \n",
       "4           1       1            1            5           0.0  2017      8   \n",
       "...       ...     ...          ...          ...           ...   ...    ...   \n",
       "28507       1       1            1            5           0.0  2017      8   \n",
       "28508       1       1            1            5           0.0  2017      8   \n",
       "28509       1       1            1            5           0.0  2017      8   \n",
       "28510       1       1            1            5           0.0  2017      8   \n",
       "28511       1       1            1            5           0.0  2017      8   \n",
       "\n",
       "       Day  \n",
       "0       16  \n",
       "1       16  \n",
       "2       16  \n",
       "3       16  \n",
       "4       16  \n",
       "...    ...  \n",
       "28507   31  \n",
       "28508   31  \n",
       "28509   31  \n",
       "28510   31  \n",
       "28511   31  \n",
       "\n",
       "[28512 rows x 16 columns]"
      ]
     },
     "execution_count": 36,
     "metadata": {},
     "output_type": "execute_result"
    }
   ],
   "source": [
    "X_test"
   ]
  },
  {
   "cell_type": "code",
   "execution_count": 37,
   "id": "eb17a013",
   "metadata": {
    "execution": {
     "iopub.execute_input": "2024-03-18T14:59:35.846510Z",
     "iopub.status.busy": "2024-03-18T14:59:35.845271Z",
     "iopub.status.idle": "2024-03-18T14:59:36.164141Z",
     "shell.execute_reply": "2024-03-18T14:59:36.162884Z"
    },
    "papermill": {
     "duration": 0.346673,
     "end_time": "2024-03-18T14:59:36.167215",
     "exception": false,
     "start_time": "2024-03-18T14:59:35.820542",
     "status": "completed"
    },
    "tags": []
   },
   "outputs": [],
   "source": [
    "X_train = train_data.drop(['sales'],axis=1)\n",
    "y_train = train_data['sales']"
   ]
  },
  {
   "cell_type": "code",
   "execution_count": 38,
   "id": "0e4befb2",
   "metadata": {
    "execution": {
     "iopub.execute_input": "2024-03-18T14:59:36.216301Z",
     "iopub.status.busy": "2024-03-18T14:59:36.215787Z",
     "iopub.status.idle": "2024-03-18T14:59:36.222805Z",
     "shell.execute_reply": "2024-03-18T14:59:36.221473Z"
    },
    "papermill": {
     "duration": 0.034497,
     "end_time": "2024-03-18T14:59:36.225376",
     "exception": false,
     "start_time": "2024-03-18T14:59:36.190879",
     "status": "completed"
    },
    "tags": []
   },
   "outputs": [],
   "source": [
    "def Z_score(X):\n",
    "    X = np.array(X)\n",
    "    X_new = np.matrix([((x-x.mean())/x.std()) for x in X.T]).T\n",
    "    return X_new"
   ]
  },
  {
   "cell_type": "code",
   "execution_count": 39,
   "id": "fc5bf411",
   "metadata": {
    "execution": {
     "iopub.execute_input": "2024-03-18T14:59:36.274710Z",
     "iopub.status.busy": "2024-03-18T14:59:36.274018Z",
     "iopub.status.idle": "2024-03-18T14:59:37.827671Z",
     "shell.execute_reply": "2024-03-18T14:59:37.826586Z"
    },
    "papermill": {
     "duration": 1.582356,
     "end_time": "2024-03-18T14:59:37.830777",
     "exception": false,
     "start_time": "2024-03-18T14:59:36.248421",
     "status": "completed"
    },
    "tags": []
   },
   "outputs": [],
   "source": [
    "X_train_nor = Z_score(X_train)\n",
    "X_train_df = pd.DataFrame(X_train_nor,columns=X_train.columns)"
   ]
  },
  {
   "cell_type": "code",
   "execution_count": 40,
   "id": "a01fa4d6",
   "metadata": {
    "execution": {
     "iopub.execute_input": "2024-03-18T14:59:37.879066Z",
     "iopub.status.busy": "2024-03-18T14:59:37.878265Z",
     "iopub.status.idle": "2024-03-18T14:59:37.906940Z",
     "shell.execute_reply": "2024-03-18T14:59:37.905915Z"
    },
    "papermill": {
     "duration": 0.055904,
     "end_time": "2024-03-18T14:59:37.909936",
     "exception": false,
     "start_time": "2024-03-18T14:59:37.854032",
     "status": "completed"
    },
    "tags": []
   },
   "outputs": [
    {
     "data": {
      "text/html": [
       "<div>\n",
       "<style scoped>\n",
       "    .dataframe tbody tr th:only-of-type {\n",
       "        vertical-align: middle;\n",
       "    }\n",
       "\n",
       "    .dataframe tbody tr th {\n",
       "        vertical-align: top;\n",
       "    }\n",
       "\n",
       "    .dataframe thead th {\n",
       "        text-align: right;\n",
       "    }\n",
       "</style>\n",
       "<table border=\"1\" class=\"dataframe\">\n",
       "  <thead>\n",
       "    <tr style=\"text-align: right;\">\n",
       "      <th></th>\n",
       "      <th>id</th>\n",
       "      <th>store_nbr</th>\n",
       "      <th>family</th>\n",
       "      <th>onpromotion</th>\n",
       "      <th>city</th>\n",
       "      <th>state</th>\n",
       "      <th>type_x</th>\n",
       "      <th>cluster</th>\n",
       "      <th>type_y</th>\n",
       "      <th>locale</th>\n",
       "      <th>locale_name</th>\n",
       "      <th>description</th>\n",
       "      <th>transactions</th>\n",
       "      <th>Year</th>\n",
       "      <th>Month</th>\n",
       "      <th>Day</th>\n",
       "    </tr>\n",
       "  </thead>\n",
       "  <tbody>\n",
       "    <tr>\n",
       "      <th>0</th>\n",
       "      <td>-1.736517</td>\n",
       "      <td>-1.700267</td>\n",
       "      <td>-1.680336</td>\n",
       "      <td>-0.213586</td>\n",
       "      <td>0.869062</td>\n",
       "      <td>0.769193</td>\n",
       "      <td>0.83205</td>\n",
       "      <td>0.971780</td>\n",
       "      <td>2.534757</td>\n",
       "      <td>2.629431</td>\n",
       "      <td>0.907275</td>\n",
       "      <td>-0.626793</td>\n",
       "      <td>-1.503816</td>\n",
       "      <td>-1.369251</td>\n",
       "      <td>-1.547861</td>\n",
       "      <td>-1.665297</td>\n",
       "    </tr>\n",
       "    <tr>\n",
       "      <th>1</th>\n",
       "      <td>-1.736516</td>\n",
       "      <td>-1.700267</td>\n",
       "      <td>-1.575315</td>\n",
       "      <td>-0.213586</td>\n",
       "      <td>0.869062</td>\n",
       "      <td>0.769193</td>\n",
       "      <td>0.83205</td>\n",
       "      <td>0.971780</td>\n",
       "      <td>2.534757</td>\n",
       "      <td>2.629431</td>\n",
       "      <td>0.907275</td>\n",
       "      <td>-0.626793</td>\n",
       "      <td>-1.503816</td>\n",
       "      <td>-1.369251</td>\n",
       "      <td>-1.547861</td>\n",
       "      <td>-1.665297</td>\n",
       "    </tr>\n",
       "    <tr>\n",
       "      <th>2</th>\n",
       "      <td>-1.736515</td>\n",
       "      <td>-1.700267</td>\n",
       "      <td>-1.470294</td>\n",
       "      <td>-0.213586</td>\n",
       "      <td>0.869062</td>\n",
       "      <td>0.769193</td>\n",
       "      <td>0.83205</td>\n",
       "      <td>0.971780</td>\n",
       "      <td>2.534757</td>\n",
       "      <td>2.629431</td>\n",
       "      <td>0.907275</td>\n",
       "      <td>-0.626793</td>\n",
       "      <td>-1.503816</td>\n",
       "      <td>-1.369251</td>\n",
       "      <td>-1.547861</td>\n",
       "      <td>-1.665297</td>\n",
       "    </tr>\n",
       "    <tr>\n",
       "      <th>3</th>\n",
       "      <td>-1.736514</td>\n",
       "      <td>-1.700267</td>\n",
       "      <td>-1.365273</td>\n",
       "      <td>-0.213586</td>\n",
       "      <td>0.869062</td>\n",
       "      <td>0.769193</td>\n",
       "      <td>0.83205</td>\n",
       "      <td>0.971780</td>\n",
       "      <td>2.534757</td>\n",
       "      <td>2.629431</td>\n",
       "      <td>0.907275</td>\n",
       "      <td>-0.626793</td>\n",
       "      <td>-1.503816</td>\n",
       "      <td>-1.369251</td>\n",
       "      <td>-1.547861</td>\n",
       "      <td>-1.665297</td>\n",
       "    </tr>\n",
       "    <tr>\n",
       "      <th>4</th>\n",
       "      <td>-1.736512</td>\n",
       "      <td>-1.700267</td>\n",
       "      <td>-1.260252</td>\n",
       "      <td>-0.213586</td>\n",
       "      <td>0.869062</td>\n",
       "      <td>0.769193</td>\n",
       "      <td>0.83205</td>\n",
       "      <td>0.971780</td>\n",
       "      <td>2.534757</td>\n",
       "      <td>2.629431</td>\n",
       "      <td>0.907275</td>\n",
       "      <td>-0.626793</td>\n",
       "      <td>-1.503816</td>\n",
       "      <td>-1.369251</td>\n",
       "      <td>-1.547861</td>\n",
       "      <td>-1.665297</td>\n",
       "    </tr>\n",
       "    <tr>\n",
       "      <th>...</th>\n",
       "      <td>...</td>\n",
       "      <td>...</td>\n",
       "      <td>...</td>\n",
       "      <td>...</td>\n",
       "      <td>...</td>\n",
       "      <td>...</td>\n",
       "      <td>...</td>\n",
       "      <td>...</td>\n",
       "      <td>...</td>\n",
       "      <td>...</td>\n",
       "      <td>...</td>\n",
       "      <td>...</td>\n",
       "      <td>...</td>\n",
       "      <td>...</td>\n",
       "      <td>...</td>\n",
       "      <td>...</td>\n",
       "    </tr>\n",
       "    <tr>\n",
       "      <th>3054343</th>\n",
       "      <td>1.727662</td>\n",
       "      <td>-1.186979</td>\n",
       "      <td>1.260252</td>\n",
       "      <td>-0.213586</td>\n",
       "      <td>0.869062</td>\n",
       "      <td>0.769193</td>\n",
       "      <td>-0.83205</td>\n",
       "      <td>-0.533682</td>\n",
       "      <td>2.534757</td>\n",
       "      <td>1.108390</td>\n",
       "      <td>4.687218</td>\n",
       "      <td>-0.626793</td>\n",
       "      <td>0.575362</td>\n",
       "      <td>1.603385</td>\n",
       "      <td>0.526674</td>\n",
       "      <td>-0.074641</td>\n",
       "    </tr>\n",
       "    <tr>\n",
       "      <th>3054344</th>\n",
       "      <td>1.727663</td>\n",
       "      <td>-1.186979</td>\n",
       "      <td>1.365273</td>\n",
       "      <td>-0.131986</td>\n",
       "      <td>0.869062</td>\n",
       "      <td>0.769193</td>\n",
       "      <td>-0.83205</td>\n",
       "      <td>-0.533682</td>\n",
       "      <td>2.534757</td>\n",
       "      <td>1.108390</td>\n",
       "      <td>4.687218</td>\n",
       "      <td>-0.626793</td>\n",
       "      <td>0.575362</td>\n",
       "      <td>1.603385</td>\n",
       "      <td>0.526674</td>\n",
       "      <td>-0.074641</td>\n",
       "    </tr>\n",
       "    <tr>\n",
       "      <th>3054345</th>\n",
       "      <td>1.727665</td>\n",
       "      <td>-1.186979</td>\n",
       "      <td>1.470294</td>\n",
       "      <td>11.863180</td>\n",
       "      <td>0.869062</td>\n",
       "      <td>0.769193</td>\n",
       "      <td>-0.83205</td>\n",
       "      <td>-0.533682</td>\n",
       "      <td>2.534757</td>\n",
       "      <td>1.108390</td>\n",
       "      <td>4.687218</td>\n",
       "      <td>-0.626793</td>\n",
       "      <td>0.575362</td>\n",
       "      <td>1.603385</td>\n",
       "      <td>0.526674</td>\n",
       "      <td>-0.074641</td>\n",
       "    </tr>\n",
       "    <tr>\n",
       "      <th>3054346</th>\n",
       "      <td>1.727666</td>\n",
       "      <td>-1.186979</td>\n",
       "      <td>1.575315</td>\n",
       "      <td>0.439212</td>\n",
       "      <td>0.869062</td>\n",
       "      <td>0.769193</td>\n",
       "      <td>-0.83205</td>\n",
       "      <td>-0.533682</td>\n",
       "      <td>2.534757</td>\n",
       "      <td>1.108390</td>\n",
       "      <td>4.687218</td>\n",
       "      <td>-0.626793</td>\n",
       "      <td>0.575362</td>\n",
       "      <td>1.603385</td>\n",
       "      <td>0.526674</td>\n",
       "      <td>-0.074641</td>\n",
       "    </tr>\n",
       "    <tr>\n",
       "      <th>3054347</th>\n",
       "      <td>1.727667</td>\n",
       "      <td>-1.186979</td>\n",
       "      <td>1.680336</td>\n",
       "      <td>-0.213586</td>\n",
       "      <td>0.869062</td>\n",
       "      <td>0.769193</td>\n",
       "      <td>-0.83205</td>\n",
       "      <td>-0.533682</td>\n",
       "      <td>2.534757</td>\n",
       "      <td>1.108390</td>\n",
       "      <td>4.687218</td>\n",
       "      <td>-0.626793</td>\n",
       "      <td>0.575362</td>\n",
       "      <td>1.603385</td>\n",
       "      <td>0.526674</td>\n",
       "      <td>-0.074641</td>\n",
       "    </tr>\n",
       "  </tbody>\n",
       "</table>\n",
       "<p>3054348 rows × 16 columns</p>\n",
       "</div>"
      ],
      "text/plain": [
       "               id  store_nbr    family  onpromotion      city     state  \\\n",
       "0       -1.736517  -1.700267 -1.680336    -0.213586  0.869062  0.769193   \n",
       "1       -1.736516  -1.700267 -1.575315    -0.213586  0.869062  0.769193   \n",
       "2       -1.736515  -1.700267 -1.470294    -0.213586  0.869062  0.769193   \n",
       "3       -1.736514  -1.700267 -1.365273    -0.213586  0.869062  0.769193   \n",
       "4       -1.736512  -1.700267 -1.260252    -0.213586  0.869062  0.769193   \n",
       "...           ...        ...       ...          ...       ...       ...   \n",
       "3054343  1.727662  -1.186979  1.260252    -0.213586  0.869062  0.769193   \n",
       "3054344  1.727663  -1.186979  1.365273    -0.131986  0.869062  0.769193   \n",
       "3054345  1.727665  -1.186979  1.470294    11.863180  0.869062  0.769193   \n",
       "3054346  1.727666  -1.186979  1.575315     0.439212  0.869062  0.769193   \n",
       "3054347  1.727667  -1.186979  1.680336    -0.213586  0.869062  0.769193   \n",
       "\n",
       "          type_x   cluster    type_y    locale  locale_name  description  \\\n",
       "0        0.83205  0.971780  2.534757  2.629431     0.907275    -0.626793   \n",
       "1        0.83205  0.971780  2.534757  2.629431     0.907275    -0.626793   \n",
       "2        0.83205  0.971780  2.534757  2.629431     0.907275    -0.626793   \n",
       "3        0.83205  0.971780  2.534757  2.629431     0.907275    -0.626793   \n",
       "4        0.83205  0.971780  2.534757  2.629431     0.907275    -0.626793   \n",
       "...          ...       ...       ...       ...          ...          ...   \n",
       "3054343 -0.83205 -0.533682  2.534757  1.108390     4.687218    -0.626793   \n",
       "3054344 -0.83205 -0.533682  2.534757  1.108390     4.687218    -0.626793   \n",
       "3054345 -0.83205 -0.533682  2.534757  1.108390     4.687218    -0.626793   \n",
       "3054346 -0.83205 -0.533682  2.534757  1.108390     4.687218    -0.626793   \n",
       "3054347 -0.83205 -0.533682  2.534757  1.108390     4.687218    -0.626793   \n",
       "\n",
       "         transactions      Year     Month       Day  \n",
       "0           -1.503816 -1.369251 -1.547861 -1.665297  \n",
       "1           -1.503816 -1.369251 -1.547861 -1.665297  \n",
       "2           -1.503816 -1.369251 -1.547861 -1.665297  \n",
       "3           -1.503816 -1.369251 -1.547861 -1.665297  \n",
       "4           -1.503816 -1.369251 -1.547861 -1.665297  \n",
       "...               ...       ...       ...       ...  \n",
       "3054343      0.575362  1.603385  0.526674 -0.074641  \n",
       "3054344      0.575362  1.603385  0.526674 -0.074641  \n",
       "3054345      0.575362  1.603385  0.526674 -0.074641  \n",
       "3054346      0.575362  1.603385  0.526674 -0.074641  \n",
       "3054347      0.575362  1.603385  0.526674 -0.074641  \n",
       "\n",
       "[3054348 rows x 16 columns]"
      ]
     },
     "execution_count": 40,
     "metadata": {},
     "output_type": "execute_result"
    }
   ],
   "source": [
    "X_train_df"
   ]
  },
  {
   "cell_type": "markdown",
   "id": "e5637334",
   "metadata": {
    "papermill": {
     "duration": 0.023194,
     "end_time": "2024-03-18T14:59:37.957776",
     "exception": false,
     "start_time": "2024-03-18T14:59:37.934582",
     "status": "completed"
    },
    "tags": []
   },
   "source": [
    "## Create The Model"
   ]
  },
  {
   "cell_type": "code",
   "execution_count": 41,
   "id": "692d4297",
   "metadata": {},
   "outputs": [
    {
     "name": "stdout",
     "output_type": "stream",
     "text": [
      "Collecting tqdm\n",
      "  Using cached https://files.pythonhosted.org/packages/2a/14/e75e52d521442e2fcc9f1df3c5e456aead034203d4797867980de558ab34/tqdm-4.66.2-py3-none-any.whl\n",
      "Installing collected packages: tqdm\n",
      "Successfully installed tqdm-4.66.2\n",
      "\u001b[33mWARNING: Target directory /tmp/pip_packages/tqdm already exists. Specify --upgrade to force replacement.\u001b[0m\n",
      "\u001b[33mWARNING: Target directory /tmp/pip_packages/tqdm-4.66.2.dist-info already exists. Specify --upgrade to force replacement.\u001b[0m\n",
      "\u001b[33mWARNING: Target directory /tmp/pip_packages/bin already exists. Specify --upgrade to force replacement.\u001b[0m\n",
      "\u001b[33mWARNING: You are using pip version 19.3.1; however, version 24.0 is available.\n",
      "You should consider upgrading via the 'pip install --upgrade pip' command.\u001b[0m\n",
      "Note: you may need to restart the kernel to use updated packages.\n"
     ]
    }
   ],
   "source": [
    "pip install tqdm"
   ]
  },
  {
   "cell_type": "code",
   "execution_count": 42,
   "id": "931d57a4",
   "metadata": {
    "execution": {
     "iopub.execute_input": "2024-03-18T14:59:38.007489Z",
     "iopub.status.busy": "2024-03-18T14:59:38.006416Z",
     "iopub.status.idle": "2024-03-18T14:59:38.039085Z",
     "shell.execute_reply": "2024-03-18T14:59:38.037835Z"
    },
    "papermill": {
     "duration": 0.061547,
     "end_time": "2024-03-18T14:59:38.042406",
     "exception": false,
     "start_time": "2024-03-18T14:59:37.980859",
     "status": "completed"
    },
    "tags": []
   },
   "outputs": [],
   "source": [
    "import math\n",
    "from tqdm import tqdm\n",
    "\n",
    "class metrics:\n",
    "\n",
    "    def __init__(self):\n",
    "        pass\n",
    "\n",
    "    def accuracy_score(self, y_predict, y_test):\n",
    "        N = len(y_predict)\n",
    "        y_predict = np.array(y_predict)\n",
    "        y_test = np.array(y_test)\n",
    "        counter = [1 for i in range(N) if y_predict[i] == y_test[i]]\n",
    "        correct = sum(counter)\n",
    "        accur = correct/N\n",
    "        return accur\n",
    "\n",
    "    def comparing(self, value1, value2, name1='Predicted', name2='Actual'):\n",
    "        data = pd.DataFrame({name1: value1, name2: value2})\n",
    "        return data\n",
    "    \n",
    "    def mean_squared_error(self,y_predict, y_test):\n",
    "        error = (y_predict - y_test)**2\n",
    "        return (np.sum(error))/len(y_predict)\n",
    "\n",
    "\n",
    "class LinearRegression:\n",
    "    def __init__(self,lr = 0.01, n_iters=1000,lam=1):\n",
    "        self.lr = lr\n",
    "        self.n_iters = n_iters\n",
    "        self.lam = lam\n",
    "        self.weight = None\n",
    "        self.bias = None\n",
    "\n",
    "    def fit(self,X_train,y_train):\n",
    "        self.m_samples, self.n_features = X_train.shape\n",
    "        self.X_train = X_train\n",
    "        self.y_train = y_train\n",
    "        self.weight = np.full(shape=self.n_features,fill_value=0.1)\n",
    "        self.bias = 0\n",
    "\n",
    "        cost, w_history = self.gradientDescent()\n",
    "        \n",
    "        return self.weight, self.bias, cost, w_history\n",
    "    \n",
    "    def relu(self, z):\n",
    "        return np.maximum(0, z)\n",
    "\n",
    "    def predict(self,X):\n",
    "        y_pred = np.dot(X,(self.weight).T) + self.bias\n",
    "        y_predict = self.relu(y_pred)\n",
    "        return y_predict\n",
    "\n",
    "    def gradientDescent(self):\n",
    "        cost = np.zeros(self.n_iters)\n",
    "        w_history = np.zeros((self.n_iters, self.n_features))\n",
    "        with tqdm(total=self.n_iters) as pbar:\n",
    "            for i in range(self.n_iters):\n",
    "\n",
    "                y_pred = self.predict(self.X_train)\n",
    "\n",
    "                error = y_pred - self.y_train\n",
    "\n",
    "                dw = (1/self.m_samples) * np.dot(error,self.X_train)\n",
    "                db = (1/self.m_samples) * np.sum(error)\n",
    "\n",
    "                w_history[i] = self.weight\n",
    "                self.weight = self.weight - self.lr * dw\n",
    "                self.bias = self.bias - self.lr * db\n",
    "                \n",
    "                cost[i] = metrics().mean_squared_error(y_predict=y_pred,y_test=self.y_train)\n",
    "                pbar.update(1)\n",
    "        return cost, w_history\n",
    "    "
   ]
  },
  {
   "cell_type": "markdown",
   "id": "65a7e0e2",
   "metadata": {
    "papermill": {
     "duration": 0.023233,
     "end_time": "2024-03-18T14:59:38.089656",
     "exception": false,
     "start_time": "2024-03-18T14:59:38.066423",
     "status": "completed"
    },
    "tags": []
   },
   "source": [
    "## Use The Model"
   ]
  },
  {
   "cell_type": "code",
   "execution_count": 43,
   "id": "5daea728",
   "metadata": {
    "execution": {
     "iopub.execute_input": "2024-03-18T14:59:38.139333Z",
     "iopub.status.busy": "2024-03-18T14:59:38.138360Z",
     "iopub.status.idle": "2024-03-18T15:03:09.157632Z",
     "shell.execute_reply": "2024-03-18T15:03:09.154884Z"
    },
    "papermill": {
     "duration": 211.052404,
     "end_time": "2024-03-18T15:03:09.165322",
     "exception": false,
     "start_time": "2024-03-18T14:59:38.112918",
     "status": "completed"
    },
    "tags": []
   },
   "outputs": [
    {
     "name": "stderr",
     "output_type": "stream",
     "text": [
      "100%|██████████| 1000/1000 [03:22<00:00,  4.94it/s]\n"
     ]
    }
   ],
   "source": [
    "linear = LinearRegression()\n",
    "weight, bias, cost, w_history = linear.fit(X_train_df,y_train)\n",
    "y_predict = linear.predict(X_test)"
   ]
  },
  {
   "cell_type": "code",
   "execution_count": 44,
   "id": "ed6ba03d",
   "metadata": {
    "execution": {
     "iopub.execute_input": "2024-03-18T15:03:09.466304Z",
     "iopub.status.busy": "2024-03-18T15:03:09.465775Z",
     "iopub.status.idle": "2024-03-18T15:03:09.474570Z",
     "shell.execute_reply": "2024-03-18T15:03:09.473244Z"
    },
    "papermill": {
     "duration": 0.134142,
     "end_time": "2024-03-18T15:03:09.476988",
     "exception": false,
     "start_time": "2024-03-18T15:03:09.342846",
     "status": "completed"
    },
    "tags": []
   },
   "outputs": [
    {
     "data": {
      "text/plain": [
       "array([0., 0., 0., ..., 0., 0., 0.])"
      ]
     },
     "execution_count": 44,
     "metadata": {},
     "output_type": "execute_result"
    }
   ],
   "source": [
    "y_predict"
   ]
  },
  {
   "cell_type": "code",
   "execution_count": 45,
   "id": "d5466257",
   "metadata": {
    "execution": {
     "iopub.execute_input": "2024-03-18T15:03:09.722596Z",
     "iopub.status.busy": "2024-03-18T15:03:09.721243Z",
     "iopub.status.idle": "2024-03-18T15:03:09.730245Z",
     "shell.execute_reply": "2024-03-18T15:03:09.728522Z"
    },
    "papermill": {
     "duration": 0.137591,
     "end_time": "2024-03-18T15:03:09.733357",
     "exception": false,
     "start_time": "2024-03-18T15:03:09.595766",
     "status": "completed"
    },
    "tags": []
   },
   "outputs": [
    {
     "name": "stdout",
     "output_type": "stream",
     "text": [
      "y_predict.shape:  (28512,)\n",
      "y_test.shape:  (28512, 2)\n"
     ]
    }
   ],
   "source": [
    "print('y_predict.shape: ',y_predict.shape)\n",
    "print('y_test.shape: ',y_test.shape)"
   ]
  },
  {
   "cell_type": "code",
   "execution_count": 46,
   "id": "19bd60ec",
   "metadata": {
    "execution": {
     "iopub.execute_input": "2024-03-18T15:03:09.978352Z",
     "iopub.status.busy": "2024-03-18T15:03:09.977859Z",
     "iopub.status.idle": "2024-03-18T15:03:10.119091Z",
     "shell.execute_reply": "2024-03-18T15:03:10.117620Z"
    },
    "papermill": {
     "duration": 0.267039,
     "end_time": "2024-03-18T15:03:10.122598",
     "exception": false,
     "start_time": "2024-03-18T15:03:09.855559",
     "status": "completed"
    },
    "tags": []
   },
   "outputs": [
    {
     "data": {
      "text/plain": [
       "0.0"
      ]
     },
     "execution_count": 46,
     "metadata": {},
     "output_type": "execute_result"
    }
   ],
   "source": [
    "from sklearn.metrics import mean_squared_log_error\n",
    "\n",
    "mean_squared_log_error(y_test['sales'], y_predict)"
   ]
  },
  {
   "cell_type": "code",
   "execution_count": 47,
   "id": "94e46f47",
   "metadata": {
    "execution": {
     "iopub.execute_input": "2024-03-18T15:03:10.369595Z",
     "iopub.status.busy": "2024-03-18T15:03:10.368681Z",
     "iopub.status.idle": "2024-03-18T15:03:11.030482Z",
     "shell.execute_reply": "2024-03-18T15:03:11.028910Z"
    },
    "papermill": {
     "duration": 0.786564,
     "end_time": "2024-03-18T15:03:11.033210",
     "exception": false,
     "start_time": "2024-03-18T15:03:10.246646",
     "status": "completed"
    },
    "tags": []
   },
   "outputs": [
    {
     "data": {
      "image/png": "[encoded data removed]",
      "text/plain": [
       "<Figure size 576x432 with 1 Axes>"
      ]
     },
     "metadata": {
      "needs_background": "light"
     },
     "output_type": "display_data"
    }
   ],
   "source": [
    "import matplotlib.pyplot as plt\n",
    "\n",
    "plt.figure(figsize=(8, 6))\n",
    "for w,i in zip(w_history.T,range(len(w_history))):\n",
    "    plt.plot(w, cost, label = f\"w{i}\") \n",
    "\n",
    "plt.legend()\n",
    "plt.title('Relationship between w_history and error')\n",
    "plt.xlabel('w_history')\n",
    "plt.ylabel('Error')\n",
    "plt.show()"
   ]
  },
  {
   "cell_type": "code",
   "execution_count": 48,
   "id": "78109fa5",
   "metadata": {
    "execution": {
     "iopub.execute_input": "2024-03-18T15:03:11.275777Z",
     "iopub.status.busy": "2024-03-18T15:03:11.274348Z",
     "iopub.status.idle": "2024-03-18T15:03:11.342766Z",
     "shell.execute_reply": "2024-03-18T15:03:11.341400Z"
    },
    "papermill": {
     "duration": 0.193274,
     "end_time": "2024-03-18T15:03:11.346135",
     "exception": false,
     "start_time": "2024-03-18T15:03:11.152861",
     "status": "completed"
    },
    "tags": []
   },
   "outputs": [],
   "source": [
    "submission = pd.DataFrame({\n",
    "    'id': y_test['id'],\n",
    "    'sales': y_predict\n",
    "})\n",
    "\n",
    "submission.to_csv('submission.csv', index=False)"
   ]
  },
  {
   "cell_type": "code",
   "execution_count": 49,
   "id": "174d8f3e",
   "metadata": {},
   "outputs": [
    {
     "name": "stderr",
     "output_type": "stream",
     "text": [
      "/opt/conda/lib/python3.8/site-packages/_distutils_hack/__init__.py:33: UserWarning: Setuptools is replacing distutils.\n",
      "  warnings.warn(\"Setuptools is replacing distutils.\")\n"
     ]
    }
   ],
   "source": [
    "from refractml import *\n",
    "\n",
    "@scoring_func\n",
    "def score(model, request):\n",
    "    return model.predict(pd.json_normalize(request.json['payload']))[0]"
   ]
  },
  {
   "cell_type": "code",
   "execution_count": null,
   "id": "2a97c096",
   "metadata": {},
   "outputs": [],
   "source": [
    "import requests\n",
    "req = requests.Request()\n",
    "req.json = {\"payload\":json.loads(fd)}\n",
    "print(req.json)\n",
    "score(model,req)"
   ]
  },
  {
   "cell_type": "code",
   "execution_count": null,
   "id": "03367ced",
   "metadata": {},
   "outputs": [],
   "source": [
    "from refractml.constants import MLModelFlavours\n",
    "y_true= target_test\n",
    "y_pred = model.predict(features_test)\n",
    "prob = model.predict_proba(features_test)"
   ]
  },
  {
   "cell_type": "code",
   "execution_count": null,
   "id": "8882a9a9",
   "metadata": {},
   "outputs": [],
   "source": [
    "%%capture myout\n",
    "register_model(\n",
    "    model,\n",
    "    score,\n",
    "    \"employee_churn_model\",\n",
    "    \"This model is used to predict the salary category of the empolyee\",\n",
    "    MLModelFlavours.sklearn,\n",
    "    init_script=\"mkdir abc \\\\n cd abc \\\\n touch abc.txt\",\n",
    "    y_true=target_test,\n",
    "    y_pred=model.predict(features_test),\n",
    "    prob=prob,\n",
    "    input_type=\"json\",\n",
    "    model_type = \"classification\",\n",
    "    x_train=features_train, \n",
    "    y_train=target_train, \n",
    "    x_test=features_test, \n",
    "    y_test=target_test)"
   ]
  }
 ],
 "metadata": {
  "kaggle": {
   "accelerator": "none",
   "dataSources": [
    {
     "databundleVersionId": 2887556,
     "sourceId": 29781,
     "sourceType": "competition"
    }
   ],
   "dockerImageVersionId": 30664,
   "isGpuEnabled": false,
   "isInternetEnabled": true,
   "language": "python",
   "sourceType": "notebook"
  },
  "kernelspec": {
   "display_name": "Python 3",
   "language": "python",
   "name": "python3"
  },
  "language_info": {
   "codemirror_mode": {
    "name": "ipython",
    "version": 3
   },
   "file_extension": ".py",
   "mimetype": "text/x-python",
   "name": "python",
   "nbconvert_exporter": "python",
   "pygments_lexer": "ipython3",
   "version": "3.8.18"
  },
  "papermill": {
   "default_parameters": {},
   "duration": 269.381629,
   "end_time": "2024-03-18T15:03:12.700437",
   "environment_variables": {},
   "exception": null,
   "input_path": "__notebook__.ipynb",
   "output_path": "__notebook__.ipynb",
   "parameters": {},
   "start_time": "2024-03-18T14:58:43.318808",
   "version": "2.5.0"
  }
 },
 "nbformat": 4,
 "nbformat_minor": 5
}
