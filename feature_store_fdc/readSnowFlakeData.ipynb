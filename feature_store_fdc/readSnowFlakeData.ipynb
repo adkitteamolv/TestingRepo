{
 "cells": [
  {
   "cell_type": "code",
   "execution_count": 2,
   "id": "8574760f",
   "metadata": {},
   "outputs": [
    {
     "name": "stdout",
     "output_type": "stream",
     "text": [
      "Connection manager service url initialised to http://fdc-project-manager:80/project-manager\n",
      "If you need to update its value then update the variable CONNECTION_MANAGER_BASE_URL in os env.\n",
      "Connection details fetched: {'params': {'READER': {'schema': 'FDC_DEV_AAVESH', 'cloudPlatform': 'gcp', 'role': '\"AAVESH\"', 'clientId': None, 'tokenUrl': None, 'scopeUrl': None, 'type': 'RDBMS', 'wareHouse': 'FOSFOR_FDC', 'accountId': 'ug94937', 'privateKey': None, 'password': 'Password@2023', 'database': 'FDC_DEV_AAVESH', 'tables': 'OLIST_SELLERS', 'sub_type': 'SNOWFLAKE', 'subType': 'SNOWFLAKE', 'clientSecret': None, 'authenticationType': 'dbPassword', 'rowCount': 10, 'region': 'us-east4', 'user': 'AAVESH', 'applicationName': 'FDC', 'passPhrase': None}}, 'url': 'http://connectors-backend-service/connectors/v1/connectors/metadata', 'access': True, 'errorMsg': None, 'values': {}}\n",
      "Ex: 250001 (08001): Failed to connect to DB: ug94937.us-east4.gcp.snowflakecomputing.com:443. Incorrect username or password was specified.\n",
      "Exception occurred in reading data_frame from snowflake connection: Exception occurred in creating snowflake connection: None\n"
     ]
    }
   ],
   "source": [
    "from refractio import snowflake\n",
    "data = snowflake.get_dataframe(\"OLIST_SELLERS\")"
   ]
  },
  {
   "cell_type": "code",
   "execution_count": 3,
   "id": "a5a50bba",
   "metadata": {},
   "outputs": [
    {
     "name": "stdout",
     "output_type": "stream",
     "text": [
      "None\n"
     ]
    }
   ],
   "source": [
    "print(data)"
   ]
  },
  {
   "cell_type": "code",
   "execution_count": null,
   "id": "2f97a902",
   "metadata": {},
   "outputs": [],
   "source": []
  },
  {
   "cell_type": "code",
   "execution_count": null,
   "id": "f8757801",
   "metadata": {},
   "outputs": [],
   "source": []
  },
  {
   "cell_type": "code",
   "execution_count": null,
   "id": "a043076d",
   "metadata": {},
   "outputs": [],
   "source": []
  },
  {
   "cell_type": "code",
   "execution_count": null,
   "id": "f7bf3910",
   "metadata": {},
   "outputs": [],
   "source": []
  }
 ],
 "metadata": {
  "kernelspec": {
   "display_name": "Python 3",
   "language": "python",
   "name": "python3"
  },
  "language_info": {
   "codemirror_mode": {
    "name": "ipython",
    "version": 3
   },
   "file_extension": ".py",
   "mimetype": "text/x-python",
   "name": "python",
   "nbconvert_exporter": "python",
   "pygments_lexer": "ipython3",
   "version": "3.8.18"
  }
 },
 "nbformat": 4,
 "nbformat_minor": 5
}
