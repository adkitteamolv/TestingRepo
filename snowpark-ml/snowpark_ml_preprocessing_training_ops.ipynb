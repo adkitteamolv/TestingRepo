{
 "cells": [
  {
   "cell_type": "markdown",
   "id": "2094709c",
   "metadata": {},
   "source": [
    "![title](RefractArchitecture.png)\n",
    "\n",
    "Refract leverages powerful capabilities of snowflake like snowparkml, snowpark container services to fast track the Machine learning life cycle on data available in snowflake. Snowpark ML pushes down the compute to snowflake warehouses for all your data preprocessing and machine learning workflows. "
   ]
  },
  {
   "cell_type": "markdown",
   "id": "9a6909e7",
   "metadata": {},
   "source": [
    "\n",
    "\n",
    "# Steps to preprocess, train and deploy a Snowpark ML Model"
   ]
  },
  {
   "cell_type": "code",
   "execution_count": 3,
   "id": "359c72d0",
   "metadata": {},
   "outputs": [],
   "source": [
    "# ! python -m pip install snowflake-ml-python==1.1.0 -U"
   ]
  },
  {
   "cell_type": "code",
   "execution_count": 1,
   "id": "086771f6",
   "metadata": {},
   "outputs": [],
   "source": [
    "# from snowflake.snowpark import Session\n",
    "# from snowflake.ml.modeling.pipeline import Pipeline\n",
    "# from snowflake.ml.modeling.xgboost import XGBClassifier\n",
    "# from snowflake.ml.modeling.preprocessing import MinMaxScaler, OrdinalEncoder, OneHotEncoder\n",
    "# from sklearn.metrics import mean_absolute_percentage_error\n",
    "# # Pandas Tools\n",
    "# from snowflake.connector.pandas_tools import write_pandas\n",
    "# # Data Science Libs\n",
    "# import numpy as np\n",
    "# import pandas as pd\n",
    "# # create_temp_table warning suppresion\n",
    "# import warnings; warnings.simplefilter('ignore')\n",
    "# import configparser"
   ]
  },
  {
   "cell_type": "markdown",
   "id": "e654f518",
   "metadata": {},
   "source": [
    "## Create connection to snowflake account"
   ]
  },
  {
   "cell_type": "code",
   "execution_count": 22,
   "id": "18a487fc",
   "metadata": {},
   "outputs": [
    {
     "name": "stdout",
     "output_type": "stream",
     "text": [
      "connection successful!\n"
     ]
    }
   ],
   "source": [
    "config = configparser.ConfigParser()\n",
    "config.read(\"snowflake_connection.ini\")\n",
    "\n",
    "connection_parameters = {\n",
    "    \"user\": f'{config[\"Snowflake\"][\"user\"]}',\n",
    "    \"password\": f'{config[\"Snowflake\"][\"password\"]}',\n",
    "    \"account\": f'{config[\"Snowflake\"][\"account\"]}',\n",
    "    \"WAREHOUSE\": f'{config[\"Snowflake\"][\"WAREHOUSE\"]}',\n",
    "    \"DATABASE\": f'{config[\"Snowflake\"][\"DATABASE\"]}',\n",
    "    \"SCHEMA\": f'{config[\"Snowflake\"][\"SCHEMA\"]}'\n",
    "}\n",
    "\n",
    "def snowflake_connector(conn):\n",
    "    try:\n",
    "        session = Session.builder.configs(conn).create()\n",
    "        print(\"connection successful!\")\n",
    "    except:\n",
    "        raise ValueError(\"error while connecting with db\")\n",
    "    return session\n",
    "\n",
    "session = snowflake_connector(connection_parameters)"
   ]
  },
  {
   "cell_type": "markdown",
   "id": "9f1cde5d",
   "metadata": {},
   "source": [
    "## Fetch reference of data from snowflake table"
   ]
  },
  {
   "cell_type": "code",
   "execution_count": 23,
   "id": "ca055b04",
   "metadata": {},
   "outputs": [],
   "source": [
    "table_name = \"ATTRITION\"\n",
    "sf_df = session.table(table_name)\n",
    "sf_df = sf_df.na.drop()\n",
    "sf_df = sf_df.drop(\"USER_ID\", \"JOB_STARTDATE\", \"JOB_ENDDATE\", \"SCHOOL_ENDDATE\")\n",
    "df = sf_df.to_pandas()\n",
    "df[\"CHURN\"] = df[\"CHURN\"].astype(int)\n",
    "sf_df = session.create_dataframe(df)"
   ]
  },
  {
   "cell_type": "code",
   "execution_count": 24,
   "id": "d0f14d6d",
   "metadata": {},
   "outputs": [],
   "source": [
    "CATEGORICAL_COLUMNS = [\"MAPPED_ROLE_CLEAN\",\"SEX\", \"ETHNICITY\",\"HOSPITAL_TYPE\", \"HOSPITAL_OWNERSHIP\",\n",
    "                       \"COMPANY_NAME\",\"CITY_STATE\",\"DISTANCE\", \"DEGREE_CLEAN\"]\n",
    "NUMERICAL_COLUMNS = [\"SALARY\", \"SENIORITY\", \"TENURE_MONTHS\", \"MONTHS_AFTER_COLLEGE\", \"BIRTH_YEAR\", \"OVERTIME_HOURS\"]\n",
    "LABEL_COLUMNS = [\"CHURN\"]\n",
    "OUTPUT_COLUMNS = [\"PREDICTION\"]\n",
    "train_df, test_df = sf_df.random_split([0.8,0.2], seed=25)"
   ]
  },
  {
   "cell_type": "markdown",
   "id": "f4513a26",
   "metadata": {},
   "source": [
    "## Create pipeline - Includes preprocessing and modeling\n",
    "Defining the pipeline with preprocessing steps and algorithm setup."
   ]
  },
  {
   "cell_type": "code",
   "execution_count": 25,
   "id": "806650a4",
   "metadata": {},
   "outputs": [],
   "source": [
    "## train_df and test_df are both snowpark dataframes\n",
    "pipeline = Pipeline(\n",
    "    steps=[(\n",
    "                \"OE\",\n",
    "                OrdinalEncoder(\n",
    "                input_cols=CATEGORICAL_COLUMNS,\n",
    "                output_cols=CATEGORICAL_COLUMNS,\n",
    "                handle_unknown='use_encoded_value',\n",
    "                unknown_value=-1\n",
    "                )),\n",
    "               (\"MMS\",\n",
    "                MinMaxScaler(\n",
    "                clip=True,\n",
    "                input_cols=NUMERICAL_COLUMNS,\n",
    "                output_cols=NUMERICAL_COLUMNS,\n",
    "                )),\n",
    "               (\"classification\",\n",
    "                XGBClassifier(\n",
    "                input_cols=CATEGORICAL_COLUMNS+NUMERICAL_COLUMNS,\n",
    "                label_cols=LABEL_COLUMNS,\n",
    "                output_cols=OUTPUT_COLUMNS\n",
    "                ))])\n"
   ]
  },
  {
   "cell_type": "markdown",
   "id": "0efdacec",
   "metadata": {},
   "source": [
    "### Training the model"
   ]
  },
  {
   "cell_type": "code",
   "execution_count": null,
   "id": "04729f4b",
   "metadata": {},
   "outputs": [],
   "source": [
    "pipeline.fit(train_df) ## fiting the dataset\n",
    "result = pipeline.predict(test_df) "
   ]
  },
  {
   "cell_type": "code",
   "execution_count": 26,
   "id": "0d58cef1",
   "metadata": {},
   "outputs": [
    {
     "data": {
      "text/plain": [
       "['snowflake_event_model.joblib']"
      ]
     },
     "execution_count": 26,
     "metadata": {},
     "output_type": "execute_result"
    }
   ],
   "source": [
    "from joblib import dump, load\n",
    "filename = \"snowflake_event_model.joblib\"\n",
    "dump(pipeline, filename)"
   ]
  },
  {
   "cell_type": "markdown",
   "id": "87fa6ccc",
   "metadata": {},
   "source": [
    "# Registering Model In Snowflake"
   ]
  },
  {
   "cell_type": "code",
   "execution_count": 28,
   "id": "15bfe3f3",
   "metadata": {},
   "outputs": [
    {
     "name": "stdout",
     "output_type": "stream",
     "text": [
      "connection successful!\n"
     ]
    }
   ],
   "source": [
    "# session = Session.builder.configs(SnowflakeLoginOptions()).create()\n",
    "session = snowflake_connector(connection_parameters)"
   ]
  },
  {
   "cell_type": "code",
   "execution_count": 29,
   "id": "03b9f0e2",
   "metadata": {},
   "outputs": [],
   "source": [
    "REGISTRY_DATABASE_NAME = \"FOSFOR_REFRACT\"\n",
    "REGISTRY_SCHEMA_NAME = \"HR_ANALYTICS\""
   ]
  },
  {
   "cell_type": "code",
   "execution_count": 30,
   "id": "6047985a",
   "metadata": {},
   "outputs": [],
   "source": [
    "from snowflake.ml.registry import model_registry"
   ]
  },
  {
   "cell_type": "markdown",
   "id": "44561239",
   "metadata": {},
   "source": [
    "### Creating Model Registry"
   ]
  },
  {
   "cell_type": "code",
   "execution_count": 31,
   "id": "419a8b31",
   "metadata": {},
   "outputs": [
    {
     "name": "stderr",
     "output_type": "stream",
     "text": [
      "create_model_registry() is in private preview since 0.2.0. Do not use it in production. \n",
      "WARNING:absl:The database FOSFOR_REFRACT already exists. Skipping creation.\n",
      "WARNING:absl:The schema FOSFOR_REFRACT.HR_ANALYTICS already exists. Skipping creation.\n"
     ]
    },
    {
     "data": {
      "text/plain": [
       "True"
      ]
     },
     "execution_count": 31,
     "metadata": {},
     "output_type": "execute_result"
    }
   ],
   "source": [
    "model_registry.create_model_registry(session=session, database_name=REGISTRY_DATABASE_NAME, schema_name=REGISTRY_SCHEMA_NAME)"
   ]
  },
  {
   "cell_type": "code",
   "execution_count": 32,
   "id": "298ff40f",
   "metadata": {},
   "outputs": [],
   "source": [
    "registry = model_registry.ModelRegistry(session=session, database_name=REGISTRY_DATABASE_NAME, schema_name=REGISTRY_SCHEMA_NAME)"
   ]
  },
  {
   "cell_type": "code",
   "execution_count": 33,
   "id": "b99fd4e8",
   "metadata": {
    "scrolled": true
   },
   "outputs": [
    {
     "name": "stderr",
     "output_type": "stream",
     "text": [
      "WARNING:snowflake.snowpark:ModelRegistry.get_history() is in private preview since 0.2.0. Do not use it in production. \n"
     ]
    },
    {
     "name": "stdout",
     "output_type": "stream",
     "text": [
      "-------------------------------------------------------------------------------------------------------------------\n",
      "|\"EVENT_TIMESTAMP\"  |\"EVENT_ID\"  |\"MODEL_ID\"  |\"ROLE\"  |\"OPERATION\"  |\"ATTRIBUTE_NAME\"  |\"VALUE[ATTRIBUTE_NAME]\"  |\n",
      "-------------------------------------------------------------------------------------------------------------------\n",
      "|                   |            |            |        |             |                  |                         |\n",
      "-------------------------------------------------------------------------------------------------------------------\n",
      "\n"
     ]
    }
   ],
   "source": [
    "registry.get_history().show()"
   ]
  },
  {
   "cell_type": "markdown",
   "id": "82c5103b",
   "metadata": {},
   "source": [
    "### Registering the model to snowpak ml registry"
   ]
  },
  {
   "cell_type": "code",
   "execution_count": 35,
   "id": "2658ae5e",
   "metadata": {
    "scrolled": true
   },
   "outputs": [
    {
     "name": "stderr",
     "output_type": "stream",
     "text": [
      "WARNING:snowflake.snowpark:ModelRegistry.log_model() is in private preview since 0.2.0. Do not use it in production. \n"
     ]
    },
    {
     "name": "stdout",
     "output_type": "stream",
     "text": [
      "--------------------------------------------------------------------------------------------------------------------------------------------------------------------------------------------------------------------------------------------------------------------------------------------------------------------\n",
      "|\"SALARY\"   |\"SENIORITY\"  |\"TENURE_MONTHS\"  |\"MONTHS_AFTER_COLLEGE\"  |\"BIRTH_YEAR\"  |\"MAPPED_ROLE_CLEAN\"  |\"SEX\"  |\"ETHNICITY\"  |\"HOSPITAL_TYPE\"       |\"HOSPITAL_OWNERSHIP\"                         |\"COMPANY_NAME\"           |\"CITY_STATE\"     |\"DISTANCE\"  |\"DEGREE_CLEAN\"         |\"OVERTIME_HOURS\"  |\"CHURN\"  |\n",
      "--------------------------------------------------------------------------------------------------------------------------------------------------------------------------------------------------------------------------------------------------------------------------------------------------------------------\n",
      "|62668.834  |2            |8                |106                     |1981          |nurse                |F      |White        |Acute Care Hospitals  |Voluntary non-profit - Church                |Mayo Clinic              |Rochester, MN    |5-10mi      |Masters_Degree         |6                 |0        |\n",
      "|28361.401  |1            |98               |4                       |1981          |nurse                |F      |White        |Psychiatric           |Proprietary                                  |Tenet Healthcare Corp.   |Worcester, MA    |<2mi        |Bachelors_Degree       |10                |0        |\n",
      "|58243.676  |1            |30               |98                      |1985          |nurse                |F      |White        |Acute Care Hospitals  |Voluntary non-profit - Private               |Cleveland Clinic         |Cleveland, OH    |>10mi       |Bachelors_Degree       |13                |0        |\n",
      "|61874.166  |2            |8                |76                      |1984          |nurse                |F      |Hispanic     |Acute Care Hospitals  |Voluntary non-profit - Private               |Centene Corp.            |Chicago, IL      |<2mi        |Bachelors_Degree       |11                |0        |\n",
      "|63272.671  |2            |44               |30                      |1986          |nurse                |F      |Hispanic     |Acute Care Hospitals  |Voluntary non-profit - Church                |Tenet Healthcare Corp.   |Chicago, IL      |<2mi        |Bachelors_Degree       |9                 |0        |\n",
      "|30147.594  |1            |59               |63                      |1991          |nurse                |F      |Black        |Acute Care Hospitals  |Government - Hospital District or Authority  |AmerisourceBergen Corp.  |Charlotte, NC    |<2mi        |Undergraduate_Diploma  |8                 |0        |\n",
      "|69004.968  |1            |36               |63                      |1988          |technologist         |F      |White        |Acute Care Hospitals  |Voluntary non-profit - Private               |Mayo Clinic              |Rochester, MN    |>10mi       |Bachelors_Degree       |1                 |0        |\n",
      "|56996.573  |2            |16               |6                       |1984          |nurse                |F      |White        |Acute Care Hospitals  |Voluntary non-profit - Private               |Mayo Clinic              |Minneapolis, MN  |2-5mi       |Other                  |11                |0        |\n",
      "|75736.917  |4            |9                |72                      |1990          |nurse                |M      |White        |Acute Care Hospitals  |Voluntary non-profit - Private               |Tenet Healthcare Corp.   |Modesto, CA      |5-10mi      |Bachelors_Degree       |8                 |1        |\n",
      "|27510.587  |1            |10               |45                      |1997          |nurse                |F      |Black        |Acute Care Hospitals  |Voluntary non-profit - Private               |Tenet Healthcare Corp.   |Miami, FL        |2-5mi       |Undergraduate_Diploma  |11                |1        |\n",
      "--------------------------------------------------------------------------------------------------------------------------------------------------------------------------------------------------------------------------------------------------------------------------------------------------------------------\n",
      "\n"
     ]
    },
    {
     "name": "stderr",
     "output_type": "stream",
     "text": [
      "WARNING:snowflake.snowpark:ModelRegistry.list_models() is in private preview since 0.2.0. Do not use it in production. \n"
     ]
    }
   ],
   "source": [
    "model_id = registry.log_model(\n",
    "    model_name=MODEL_NAME,\n",
    "    model_version=MODEL_VERSION,\n",
    "    model=pipeline,\n",
    "    tags={\"stage\": \"snowflake_event\", \"classifier_type\": \"xgboost\"},\n",
    "    sample_input_data=test_df.show(),\n",
    "    options={\"embed_local_ml_library\": True}\n",
    ")"
   ]
  },
  {
   "cell_type": "code",
   "execution_count": 17,
   "id": "6f63af99",
   "metadata": {
    "scrolled": true
   },
   "outputs": [],
   "source": [
    "# registry.get_history().show()"
   ]
  },
  {
   "cell_type": "code",
   "execution_count": 36,
   "id": "ef6751fb",
   "metadata": {
    "scrolled": true
   },
   "outputs": [
    {
     "data": {
      "text/html": [
       "<div>\n",
       "<style scoped>\n",
       "    .dataframe tbody tr th:only-of-type {\n",
       "        vertical-align: middle;\n",
       "    }\n",
       "\n",
       "    .dataframe tbody tr th {\n",
       "        vertical-align: top;\n",
       "    }\n",
       "\n",
       "    .dataframe thead th {\n",
       "        text-align: right;\n",
       "    }\n",
       "</style>\n",
       "<table border=\"1\" class=\"dataframe\">\n",
       "  <thead>\n",
       "    <tr style=\"text-align: right;\">\n",
       "      <th></th>\n",
       "      <th>CREATION_CONTEXT</th>\n",
       "      <th>CREATION_ENVIRONMENT_SPEC</th>\n",
       "      <th>CREATION_ROLE</th>\n",
       "      <th>CREATION_TIME</th>\n",
       "      <th>ID</th>\n",
       "      <th>INPUT_SPEC</th>\n",
       "      <th>NAME</th>\n",
       "      <th>OUTPUT_SPEC</th>\n",
       "      <th>RUNTIME_ENVIRONMENT_SPEC</th>\n",
       "      <th>TYPE</th>\n",
       "      <th>URI</th>\n",
       "      <th>VERSION</th>\n",
       "      <th>ARTIFACT_IDS</th>\n",
       "      <th>DESCRIPTION</th>\n",
       "      <th>METRICS</th>\n",
       "      <th>TAGS</th>\n",
       "      <th>REGISTRATION_TIMESTAMP</th>\n",
       "    </tr>\n",
       "  </thead>\n",
       "  <tbody>\n",
       "    <tr>\n",
       "      <th>0</th>\n",
       "      <td>None</td>\n",
       "      <td>{\\n  \"python\": \"3.8.16\"\\n}</td>\n",
       "      <td>\"FOSFOR_REFRACT\"</td>\n",
       "      <td>2023-11-29 12:08:52.332000+00:00</td>\n",
       "      <td>0d9ef3188eb011ee8022aeeb3b7fbcf0</td>\n",
       "      <td>None</td>\n",
       "      <td>ChurnPrediction</td>\n",
       "      <td>None</td>\n",
       "      <td>None</td>\n",
       "      <td>snowml</td>\n",
       "      <td>sfc://FOSFOR_REFRACT.HR_ANALYTICS.SNOWML_MODEL...</td>\n",
       "      <td>01</td>\n",
       "      <td>None</td>\n",
       "      <td>None</td>\n",
       "      <td>None</td>\n",
       "      <td>{\\n  \"classifier_type\": \"xgboost\",\\n  \"stage\":...</td>\n",
       "      <td>2023-11-29 12:08:53.648000+00:00</td>\n",
       "    </tr>\n",
       "  </tbody>\n",
       "</table>\n",
       "</div>"
      ],
      "text/plain": [
       "  CREATION_CONTEXT   CREATION_ENVIRONMENT_SPEC     CREATION_ROLE  \\\n",
       "0             None  {\\n  \"python\": \"3.8.16\"\\n}  \"FOSFOR_REFRACT\"   \n",
       "\n",
       "                     CREATION_TIME                                ID  \\\n",
       "0 2023-11-29 12:08:52.332000+00:00  0d9ef3188eb011ee8022aeeb3b7fbcf0   \n",
       "\n",
       "  INPUT_SPEC             NAME OUTPUT_SPEC RUNTIME_ENVIRONMENT_SPEC    TYPE  \\\n",
       "0       None  ChurnPrediction        None                     None  snowml   \n",
       "\n",
       "                                                 URI VERSION ARTIFACT_IDS  \\\n",
       "0  sfc://FOSFOR_REFRACT.HR_ANALYTICS.SNOWML_MODEL...      01         None   \n",
       "\n",
       "  DESCRIPTION METRICS                                               TAGS  \\\n",
       "0        None    None  {\\n  \"classifier_type\": \"xgboost\",\\n  \"stage\":...   \n",
       "\n",
       "            REGISTRATION_TIMESTAMP  \n",
       "0 2023-11-29 12:08:53.648000+00:00  "
      ]
     },
     "execution_count": 36,
     "metadata": {},
     "output_type": "execute_result"
    }
   ],
   "source": [
    "model_list = registry.list_models()\n",
    "model_list.to_pandas()"
   ]
  },
  {
   "cell_type": "markdown",
   "id": "25e225d4",
   "metadata": {},
   "source": [
    "### Deploying the model from Registry"
   ]
  },
  {
   "cell_type": "code",
   "execution_count": 37,
   "id": "2549be57",
   "metadata": {},
   "outputs": [
    {
     "name": "stderr",
     "output_type": "stream",
     "text": [
      "WARNING:snowflake.snowpark:ModelRegistry.deploy() is in private preview since 0.2.0. Do not use it in production. \n"
     ]
    },
    {
     "data": {
      "text/plain": [
       "{'name': 'FOSFOR_REFRACT.HR_ANALYTICS.ChurnPrediction_01_UDF',\n",
       " 'platform': <TargetPlatform.WAREHOUSE: 'warehouse'>,\n",
       " 'target_method': 'predict',\n",
       " 'signature': ModelSignature(\n",
       "                     inputs=[\n",
       "                         FeatureSpec(dtype=DataType.DOUBLE, name='SALARY'),\n",
       " \t\tFeatureSpec(dtype=DataType.INT8, name='SENIORITY'),\n",
       " \t\tFeatureSpec(dtype=DataType.INT16, name='TENURE_MONTHS'),\n",
       " \t\tFeatureSpec(dtype=DataType.INT16, name='MONTHS_AFTER_COLLEGE'),\n",
       " \t\tFeatureSpec(dtype=DataType.INT16, name='BIRTH_YEAR'),\n",
       " \t\tFeatureSpec(dtype=DataType.STRING, name='MAPPED_ROLE_CLEAN'),\n",
       " \t\tFeatureSpec(dtype=DataType.STRING, name='SEX'),\n",
       " \t\tFeatureSpec(dtype=DataType.STRING, name='ETHNICITY'),\n",
       " \t\tFeatureSpec(dtype=DataType.STRING, name='HOSPITAL_TYPE'),\n",
       " \t\tFeatureSpec(dtype=DataType.STRING, name='HOSPITAL_OWNERSHIP'),\n",
       " \t\tFeatureSpec(dtype=DataType.STRING, name='COMPANY_NAME'),\n",
       " \t\tFeatureSpec(dtype=DataType.STRING, name='CITY_STATE'),\n",
       " \t\tFeatureSpec(dtype=DataType.STRING, name='DISTANCE'),\n",
       " \t\tFeatureSpec(dtype=DataType.STRING, name='DEGREE_CLEAN'),\n",
       " \t\tFeatureSpec(dtype=DataType.INT8, name='OVERTIME_HOURS')\n",
       "                     ],\n",
       "                     outputs=[\n",
       "                         FeatureSpec(dtype=DataType.DOUBLE, name='MAPPED_ROLE_CLEAN'),\n",
       " \t\tFeatureSpec(dtype=DataType.DOUBLE, name='SEX'),\n",
       " \t\tFeatureSpec(dtype=DataType.DOUBLE, name='ETHNICITY'),\n",
       " \t\tFeatureSpec(dtype=DataType.DOUBLE, name='HOSPITAL_TYPE'),\n",
       " \t\tFeatureSpec(dtype=DataType.DOUBLE, name='HOSPITAL_OWNERSHIP'),\n",
       " \t\tFeatureSpec(dtype=DataType.DOUBLE, name='COMPANY_NAME'),\n",
       " \t\tFeatureSpec(dtype=DataType.DOUBLE, name='CITY_STATE'),\n",
       " \t\tFeatureSpec(dtype=DataType.DOUBLE, name='DISTANCE'),\n",
       " \t\tFeatureSpec(dtype=DataType.DOUBLE, name='DEGREE_CLEAN'),\n",
       " \t\tFeatureSpec(dtype=DataType.DOUBLE, name='SALARY'),\n",
       " \t\tFeatureSpec(dtype=DataType.DOUBLE, name='SENIORITY'),\n",
       " \t\tFeatureSpec(dtype=DataType.DOUBLE, name='TENURE_MONTHS'),\n",
       " \t\tFeatureSpec(dtype=DataType.DOUBLE, name='MONTHS_AFTER_COLLEGE'),\n",
       " \t\tFeatureSpec(dtype=DataType.DOUBLE, name='BIRTH_YEAR'),\n",
       " \t\tFeatureSpec(dtype=DataType.DOUBLE, name='OVERTIME_HOURS'),\n",
       " \t\tFeatureSpec(dtype=DataType.INT8, name='PREDICTION')\n",
       "                     ]\n",
       "                 ),\n",
       " 'options': {'relax_version': True,\n",
       "  'permanent_udf_stage_location': '@FOSFOR_REFRACT.HR_ANALYTICS._SYSTEM_REGISTRY_DEPLOYMENTS_STAGE/ChurnPrediction_01_UDF/'},\n",
       " 'details': {}}"
      ]
     },
     "execution_count": 37,
     "metadata": {},
     "output_type": "execute_result"
    }
   ],
   "source": [
    "# Pick a deployment name and deploy\n",
    "# model_deployment_name = model_name + f\"{model_version}\" + \"_UDF\"\n",
    "\n",
    "registry.deploy(model_name=\"ChurnPrediction\",\n",
    "                model_version=\"01\",\n",
    "                deployment_name=\"ChurnPrediction_01_UDF\", \n",
    "                target_method=\"predict\", \n",
    "                permanent=True, \n",
    "                options={\"relax_version\": True})"
   ]
  },
  {
   "cell_type": "code",
   "execution_count": 38,
   "id": "e55ea3e0",
   "metadata": {
    "scrolled": true
   },
   "outputs": [
    {
     "name": "stderr",
     "output_type": "stream",
     "text": [
      "WARNING:snowflake.snowpark:ModelRegistry.list_deployments() is in private preview since 1.0.1. Do not use it in production. \n"
     ]
    },
    {
     "data": {
      "text/html": [
       "<div>\n",
       "<style scoped>\n",
       "    .dataframe tbody tr th:only-of-type {\n",
       "        vertical-align: middle;\n",
       "    }\n",
       "\n",
       "    .dataframe tbody tr th {\n",
       "        vertical-align: top;\n",
       "    }\n",
       "\n",
       "    .dataframe thead th {\n",
       "        text-align: right;\n",
       "    }\n",
       "</style>\n",
       "<table border=\"1\" class=\"dataframe\">\n",
       "  <thead>\n",
       "    <tr style=\"text-align: right;\">\n",
       "      <th></th>\n",
       "      <th>MODEL_NAME</th>\n",
       "      <th>MODEL_VERSION</th>\n",
       "      <th>DEPLOYMENT_NAME</th>\n",
       "      <th>CREATION_TIME</th>\n",
       "      <th>TARGET_METHOD</th>\n",
       "      <th>TARGET_PLATFORM</th>\n",
       "      <th>SIGNATURE</th>\n",
       "      <th>OPTIONS</th>\n",
       "      <th>STAGE_PATH</th>\n",
       "      <th>ROLE</th>\n",
       "    </tr>\n",
       "  </thead>\n",
       "  <tbody>\n",
       "    <tr>\n",
       "      <th>0</th>\n",
       "      <td>ChurnPrediction</td>\n",
       "      <td>01</td>\n",
       "      <td>ChurnPrediction_01_UDF</td>\n",
       "      <td>2023-11-29 12:09:19.720000+00:00</td>\n",
       "      <td>predict</td>\n",
       "      <td>warehouse</td>\n",
       "      <td>{\\n  \"inputs\": [\\n    {\\n      \"name\": \"SALARY...</td>\n",
       "      <td>{\\n  \"permanent_udf_stage_location\": \"@FOSFOR_...</td>\n",
       "      <td>@FOSFOR_REFRACT.HR_ANALYTICS._SYSTEM_REGISTRY_...</td>\n",
       "      <td>\"FOSFOR_REFRACT\"</td>\n",
       "    </tr>\n",
       "  </tbody>\n",
       "</table>\n",
       "</div>"
      ],
      "text/plain": [
       "        MODEL_NAME MODEL_VERSION         DEPLOYMENT_NAME  \\\n",
       "0  ChurnPrediction            01  ChurnPrediction_01_UDF   \n",
       "\n",
       "                     CREATION_TIME TARGET_METHOD TARGET_PLATFORM  \\\n",
       "0 2023-11-29 12:09:19.720000+00:00       predict       warehouse   \n",
       "\n",
       "                                           SIGNATURE  \\\n",
       "0  {\\n  \"inputs\": [\\n    {\\n      \"name\": \"SALARY...   \n",
       "\n",
       "                                             OPTIONS  \\\n",
       "0  {\\n  \"permanent_udf_stage_location\": \"@FOSFOR_...   \n",
       "\n",
       "                                          STAGE_PATH              ROLE  \n",
       "0  @FOSFOR_REFRACT.HR_ANALYTICS._SYSTEM_REGISTRY_...  \"FOSFOR_REFRACT\"  "
      ]
     },
     "execution_count": 38,
     "metadata": {},
     "output_type": "execute_result"
    }
   ],
   "source": [
    "# Let's confirm it was added\n",
    "registry.list_deployments(MODEL_NAME, MODEL_VERSION).to_pandas()"
   ]
  },
  {
   "cell_type": "markdown",
   "id": "0bb71a3d",
   "metadata": {},
   "source": [
    "Creating pipeline reference from registry"
   ]
  },
  {
   "cell_type": "code",
   "execution_count": 39,
   "id": "2ee2fd92",
   "metadata": {},
   "outputs": [],
   "source": [
    "model_ref = model_registry.ModelReference(registry=registry, model_name=MODEL_NAME, model_version=MODEL_VERSION)"
   ]
  },
  {
   "cell_type": "code",
   "execution_count": 33,
   "id": "ada5f7d8",
   "metadata": {},
   "outputs": [],
   "source": [
    "table_name = \"ATTRITION\"\n",
    "sf_df = session.table(table_name)\n",
    "sf_df = sf_df.na.drop()\n",
    "sf_df = sf_df.drop(\"USER_ID\", \"JOB_STARTDATE\", \"JOB_ENDDATE\", \"SCHOOL_ENDDATE\")\n",
    "df = sf_df.to_pandas()"
   ]
  },
  {
   "cell_type": "code",
   "execution_count": 25,
   "id": "72a101e9",
   "metadata": {},
   "outputs": [],
   "source": [
    "# test_df=df.tail(100)\n",
    "train_df, test_df = sf_df.random_split([0.8,0.2], seed=25)"
   ]
  },
  {
   "cell_type": "markdown",
   "id": "f3c5faec",
   "metadata": {},
   "source": [
    "### Inferencing a deployed model"
   ]
  },
  {
   "cell_type": "code",
   "execution_count": 40,
   "id": "08db8167",
   "metadata": {},
   "outputs": [
    {
     "name": "stderr",
     "output_type": "stream",
     "text": [
      "WARNING:snowflake.snowpark:ModelReference.predict() is in private preview since 0.2.0. Do not use it in production. \n",
      "WARNING:snowflake.snowpark:ModelRegistry.get_deployment() is in private preview since 1.0.1. Do not use it in production. \n"
     ]
    }
   ],
   "source": [
    "result_sdf = model_ref.predict(deployment_name=\"ChurnPrediction_01_UDF\", data=test_df)\n",
    "#result_sdf.rename(F.col('\"output_feature_0\"'),\"PREDICTED_PRICE\").show()\n",
    "# result_sdf.show()"
   ]
  },
  {
   "cell_type": "code",
   "execution_count": 41,
   "id": "c14d197f",
   "metadata": {},
   "outputs": [
    {
     "data": {
      "text/html": [
       "<div>\n",
       "<style scoped>\n",
       "    .dataframe tbody tr th:only-of-type {\n",
       "        vertical-align: middle;\n",
       "    }\n",
       "\n",
       "    .dataframe tbody tr th {\n",
       "        vertical-align: top;\n",
       "    }\n",
       "\n",
       "    .dataframe thead th {\n",
       "        text-align: right;\n",
       "    }\n",
       "</style>\n",
       "<table border=\"1\" class=\"dataframe\">\n",
       "  <thead>\n",
       "    <tr style=\"text-align: right;\">\n",
       "      <th></th>\n",
       "      <th>CHURN</th>\n",
       "      <th>MAPPED_ROLE_CLEAN</th>\n",
       "      <th>SEX</th>\n",
       "      <th>ETHNICITY</th>\n",
       "      <th>HOSPITAL_TYPE</th>\n",
       "      <th>HOSPITAL_OWNERSHIP</th>\n",
       "      <th>COMPANY_NAME</th>\n",
       "      <th>CITY_STATE</th>\n",
       "      <th>DISTANCE</th>\n",
       "      <th>DEGREE_CLEAN</th>\n",
       "      <th>SALARY</th>\n",
       "      <th>SENIORITY</th>\n",
       "      <th>TENURE_MONTHS</th>\n",
       "      <th>MONTHS_AFTER_COLLEGE</th>\n",
       "      <th>BIRTH_YEAR</th>\n",
       "      <th>OVERTIME_HOURS</th>\n",
       "      <th>PREDICTION</th>\n",
       "    </tr>\n",
       "  </thead>\n",
       "  <tbody>\n",
       "    <tr>\n",
       "      <th>0</th>\n",
       "      <td>0</td>\n",
       "      <td>1.0</td>\n",
       "      <td>0.0</td>\n",
       "      <td>3.0</td>\n",
       "      <td>1.0</td>\n",
       "      <td>9.0</td>\n",
       "      <td>4.0</td>\n",
       "      <td>14.0</td>\n",
       "      <td>3.0</td>\n",
       "      <td>1.0</td>\n",
       "      <td>0.323021</td>\n",
       "      <td>0.00</td>\n",
       "      <td>0.024221</td>\n",
       "      <td>0.144397</td>\n",
       "      <td>0.711864</td>\n",
       "      <td>0.296296</td>\n",
       "      <td>0</td>\n",
       "    </tr>\n",
       "    <tr>\n",
       "      <th>1</th>\n",
       "      <td>0</td>\n",
       "      <td>1.0</td>\n",
       "      <td>0.0</td>\n",
       "      <td>2.0</td>\n",
       "      <td>1.0</td>\n",
       "      <td>9.0</td>\n",
       "      <td>3.0</td>\n",
       "      <td>12.0</td>\n",
       "      <td>2.0</td>\n",
       "      <td>1.0</td>\n",
       "      <td>0.402295</td>\n",
       "      <td>0.25</td>\n",
       "      <td>0.017301</td>\n",
       "      <td>0.161638</td>\n",
       "      <td>0.694915</td>\n",
       "      <td>0.444444</td>\n",
       "      <td>0</td>\n",
       "    </tr>\n",
       "    <tr>\n",
       "      <th>2</th>\n",
       "      <td>1</td>\n",
       "      <td>1.0</td>\n",
       "      <td>1.0</td>\n",
       "      <td>3.0</td>\n",
       "      <td>1.0</td>\n",
       "      <td>9.0</td>\n",
       "      <td>4.0</td>\n",
       "      <td>14.0</td>\n",
       "      <td>1.0</td>\n",
       "      <td>1.0</td>\n",
       "      <td>0.364635</td>\n",
       "      <td>0.00</td>\n",
       "      <td>0.025952</td>\n",
       "      <td>0.075431</td>\n",
       "      <td>0.762712</td>\n",
       "      <td>0.296296</td>\n",
       "      <td>1</td>\n",
       "    </tr>\n",
       "    <tr>\n",
       "      <th>3</th>\n",
       "      <td>1</td>\n",
       "      <td>0.0</td>\n",
       "      <td>0.0</td>\n",
       "      <td>3.0</td>\n",
       "      <td>1.0</td>\n",
       "      <td>9.0</td>\n",
       "      <td>4.0</td>\n",
       "      <td>14.0</td>\n",
       "      <td>2.0</td>\n",
       "      <td>5.0</td>\n",
       "      <td>0.205920</td>\n",
       "      <td>0.00</td>\n",
       "      <td>0.022491</td>\n",
       "      <td>0.064655</td>\n",
       "      <td>0.694915</td>\n",
       "      <td>0.111111</td>\n",
       "      <td>0</td>\n",
       "    </tr>\n",
       "    <tr>\n",
       "      <th>4</th>\n",
       "      <td>1</td>\n",
       "      <td>1.0</td>\n",
       "      <td>0.0</td>\n",
       "      <td>3.0</td>\n",
       "      <td>1.0</td>\n",
       "      <td>7.0</td>\n",
       "      <td>8.0</td>\n",
       "      <td>68.0</td>\n",
       "      <td>3.0</td>\n",
       "      <td>3.0</td>\n",
       "      <td>0.450423</td>\n",
       "      <td>0.50</td>\n",
       "      <td>0.017301</td>\n",
       "      <td>0.247845</td>\n",
       "      <td>0.694915</td>\n",
       "      <td>0.000000</td>\n",
       "      <td>1</td>\n",
       "    </tr>\n",
       "    <tr>\n",
       "      <th>...</th>\n",
       "      <td>...</td>\n",
       "      <td>...</td>\n",
       "      <td>...</td>\n",
       "      <td>...</td>\n",
       "      <td>...</td>\n",
       "      <td>...</td>\n",
       "      <td>...</td>\n",
       "      <td>...</td>\n",
       "      <td>...</td>\n",
       "      <td>...</td>\n",
       "      <td>...</td>\n",
       "      <td>...</td>\n",
       "      <td>...</td>\n",
       "      <td>...</td>\n",
       "      <td>...</td>\n",
       "      <td>...</td>\n",
       "      <td>...</td>\n",
       "    </tr>\n",
       "    <tr>\n",
       "      <th>801</th>\n",
       "      <td>1</td>\n",
       "      <td>1.0</td>\n",
       "      <td>1.0</td>\n",
       "      <td>3.0</td>\n",
       "      <td>3.0</td>\n",
       "      <td>9.0</td>\n",
       "      <td>1.0</td>\n",
       "      <td>56.0</td>\n",
       "      <td>2.0</td>\n",
       "      <td>3.0</td>\n",
       "      <td>0.183309</td>\n",
       "      <td>0.00</td>\n",
       "      <td>0.010381</td>\n",
       "      <td>0.034483</td>\n",
       "      <td>0.830508</td>\n",
       "      <td>0.407407</td>\n",
       "      <td>0</td>\n",
       "    </tr>\n",
       "    <tr>\n",
       "      <th>802</th>\n",
       "      <td>1</td>\n",
       "      <td>2.0</td>\n",
       "      <td>1.0</td>\n",
       "      <td>0.0</td>\n",
       "      <td>1.0</td>\n",
       "      <td>9.0</td>\n",
       "      <td>5.0</td>\n",
       "      <td>60.0</td>\n",
       "      <td>3.0</td>\n",
       "      <td>3.0</td>\n",
       "      <td>0.171754</td>\n",
       "      <td>0.00</td>\n",
       "      <td>0.005190</td>\n",
       "      <td>0.002155</td>\n",
       "      <td>0.881356</td>\n",
       "      <td>0.074074</td>\n",
       "      <td>1</td>\n",
       "    </tr>\n",
       "    <tr>\n",
       "      <th>803</th>\n",
       "      <td>1</td>\n",
       "      <td>1.0</td>\n",
       "      <td>0.0</td>\n",
       "      <td>3.0</td>\n",
       "      <td>1.0</td>\n",
       "      <td>9.0</td>\n",
       "      <td>4.0</td>\n",
       "      <td>14.0</td>\n",
       "      <td>1.0</td>\n",
       "      <td>1.0</td>\n",
       "      <td>0.323021</td>\n",
       "      <td>0.00</td>\n",
       "      <td>0.024221</td>\n",
       "      <td>0.144397</td>\n",
       "      <td>0.711864</td>\n",
       "      <td>0.333333</td>\n",
       "      <td>1</td>\n",
       "    </tr>\n",
       "    <tr>\n",
       "      <th>804</th>\n",
       "      <td>1</td>\n",
       "      <td>1.0</td>\n",
       "      <td>0.0</td>\n",
       "      <td>3.0</td>\n",
       "      <td>1.0</td>\n",
       "      <td>9.0</td>\n",
       "      <td>8.0</td>\n",
       "      <td>33.0</td>\n",
       "      <td>1.0</td>\n",
       "      <td>1.0</td>\n",
       "      <td>0.392205</td>\n",
       "      <td>0.50</td>\n",
       "      <td>0.022491</td>\n",
       "      <td>0.178879</td>\n",
       "      <td>0.627119</td>\n",
       "      <td>0.481481</td>\n",
       "      <td>1</td>\n",
       "    </tr>\n",
       "    <tr>\n",
       "      <th>805</th>\n",
       "      <td>0</td>\n",
       "      <td>5.0</td>\n",
       "      <td>0.0</td>\n",
       "      <td>3.0</td>\n",
       "      <td>3.0</td>\n",
       "      <td>6.0</td>\n",
       "      <td>8.0</td>\n",
       "      <td>33.0</td>\n",
       "      <td>2.0</td>\n",
       "      <td>0.0</td>\n",
       "      <td>0.457313</td>\n",
       "      <td>0.25</td>\n",
       "      <td>0.041522</td>\n",
       "      <td>0.101293</td>\n",
       "      <td>0.779661</td>\n",
       "      <td>0.296296</td>\n",
       "      <td>1</td>\n",
       "    </tr>\n",
       "  </tbody>\n",
       "</table>\n",
       "<p>806 rows × 17 columns</p>\n",
       "</div>"
      ],
      "text/plain": [
       "     CHURN  MAPPED_ROLE_CLEAN  SEX  ETHNICITY  HOSPITAL_TYPE  \\\n",
       "0        0                1.0  0.0        3.0            1.0   \n",
       "1        0                1.0  0.0        2.0            1.0   \n",
       "2        1                1.0  1.0        3.0            1.0   \n",
       "3        1                0.0  0.0        3.0            1.0   \n",
       "4        1                1.0  0.0        3.0            1.0   \n",
       "..     ...                ...  ...        ...            ...   \n",
       "801      1                1.0  1.0        3.0            3.0   \n",
       "802      1                2.0  1.0        0.0            1.0   \n",
       "803      1                1.0  0.0        3.0            1.0   \n",
       "804      1                1.0  0.0        3.0            1.0   \n",
       "805      0                5.0  0.0        3.0            3.0   \n",
       "\n",
       "     HOSPITAL_OWNERSHIP  COMPANY_NAME  CITY_STATE  DISTANCE  DEGREE_CLEAN  \\\n",
       "0                   9.0           4.0        14.0       3.0           1.0   \n",
       "1                   9.0           3.0        12.0       2.0           1.0   \n",
       "2                   9.0           4.0        14.0       1.0           1.0   \n",
       "3                   9.0           4.0        14.0       2.0           5.0   \n",
       "4                   7.0           8.0        68.0       3.0           3.0   \n",
       "..                  ...           ...         ...       ...           ...   \n",
       "801                 9.0           1.0        56.0       2.0           3.0   \n",
       "802                 9.0           5.0        60.0       3.0           3.0   \n",
       "803                 9.0           4.0        14.0       1.0           1.0   \n",
       "804                 9.0           8.0        33.0       1.0           1.0   \n",
       "805                 6.0           8.0        33.0       2.0           0.0   \n",
       "\n",
       "       SALARY  SENIORITY  TENURE_MONTHS  MONTHS_AFTER_COLLEGE  BIRTH_YEAR  \\\n",
       "0    0.323021       0.00       0.024221              0.144397    0.711864   \n",
       "1    0.402295       0.25       0.017301              0.161638    0.694915   \n",
       "2    0.364635       0.00       0.025952              0.075431    0.762712   \n",
       "3    0.205920       0.00       0.022491              0.064655    0.694915   \n",
       "4    0.450423       0.50       0.017301              0.247845    0.694915   \n",
       "..        ...        ...            ...                   ...         ...   \n",
       "801  0.183309       0.00       0.010381              0.034483    0.830508   \n",
       "802  0.171754       0.00       0.005190              0.002155    0.881356   \n",
       "803  0.323021       0.00       0.024221              0.144397    0.711864   \n",
       "804  0.392205       0.50       0.022491              0.178879    0.627119   \n",
       "805  0.457313       0.25       0.041522              0.101293    0.779661   \n",
       "\n",
       "     OVERTIME_HOURS  PREDICTION  \n",
       "0          0.296296           0  \n",
       "1          0.444444           0  \n",
       "2          0.296296           1  \n",
       "3          0.111111           0  \n",
       "4          0.000000           1  \n",
       "..              ...         ...  \n",
       "801        0.407407           0  \n",
       "802        0.074074           1  \n",
       "803        0.333333           1  \n",
       "804        0.481481           1  \n",
       "805        0.296296           1  \n",
       "\n",
       "[806 rows x 17 columns]"
      ]
     },
     "execution_count": 41,
     "metadata": {},
     "output_type": "execute_result"
    }
   ],
   "source": [
    "result_sdf.to_pandas()\n"
   ]
  },
  {
   "cell_type": "code",
   "execution_count": 2,
   "id": "e912a67b",
   "metadata": {},
   "outputs": [
    {
     "name": "stdout",
     "output_type": "stream",
     "text": [
      "Collecting snowflake-ml-python\n",
      "\u001b[?25l  Downloading https://files.pythonhosted.org/packages/51/72/e84a68e53a1cad8e9549ea8db0028bb4b8c84ca0a884c0bfadd0619cf76c/snowflake_ml_python-1.1.1-py3-none-any.whl (1.7MB)\n",
      "\u001b[K     |████████████████████████████████| 1.7MB 9.9MB/s eta 0:00:01\n",
      "\u001b[?25hCollecting snowflake-connector-python\n",
      "  Using cached https://files.pythonhosted.org/packages/45/c9/b15f5a5652fa52dbb9a15c86a8d117d52a3d4630626f6a1bbf7e2675583f/snowflake_connector_python-3.6.0-cp38-cp38-manylinux_2_17_x86_64.manylinux2014_x86_64.whl\n",
      "Collecting scipy<2,>=1.9\n",
      "  Using cached https://files.pythonhosted.org/packages/69/f0/fb07a9548e48b687b8bf2fa81d71aba9cfc548d365046ca1c791e24db99d/scipy-1.10.1-cp38-cp38-manylinux_2_17_x86_64.manylinux2014_x86_64.whl\n",
      "Collecting anyio<4,>=3.5.0\n",
      "\u001b[?25l  Downloading https://files.pythonhosted.org/packages/19/24/44299477fe7dcc9cb58d0a57d5a7588d6af2ff403fdd2d47a246c91a3246/anyio-3.7.1-py3-none-any.whl (80kB)\n",
      "\u001b[K     |████████████████████████████████| 81kB 1.3MB/s s eta 0:00:01\n",
      "\u001b[?25hCollecting typing-extensions<5,>=4.1.0\n",
      "  Using cached https://files.pythonhosted.org/packages/24/21/7d397a4b7934ff4028987914ac1044d3b7d52712f30e2ac7a2ae5bc86dd0/typing_extensions-4.8.0-py3-none-any.whl\n",
      "Collecting scikit-learn<1.4,>=1.2.1\n",
      "\u001b[?25l  Downloading https://files.pythonhosted.org/packages/3f/48/6fdd99f5717045f9984616b5c2ec683d6286d30c0ac234563062132b83ab/scikit_learn-1.3.2-cp38-cp38-manylinux_2_17_x86_64.manylinux2014_x86_64.whl (11.1MB)\n",
      "\u001b[K     |████████████████████████████████| 11.1MB 83.3MB/s eta 0:00:01\n",
      "\u001b[?25hCollecting sqlparse<1,>=0.4\n",
      "  Using cached https://files.pythonhosted.org/packages/98/5a/66d7c9305baa9f11857f247d4ba761402cea75db6058ff850ed7128957b7/sqlparse-0.4.4-py3-none-any.whl\n",
      "Collecting absl-py<2,>=0.15\n",
      "  Using cached https://files.pythonhosted.org/packages/dd/87/de5c32fa1b1c6c3305d576e299801d8655c175ca9557019906247b994331/absl_py-1.4.0-py3-none-any.whl\n",
      "Collecting pyyaml<7,>=6.0\n",
      "  Using cached https://files.pythonhosted.org/packages/c8/6b/6600ac24725c7388255b2f5add93f91e58a5d7efaf4af244fdbcc11a541b/PyYAML-6.0.1-cp38-cp38-manylinux_2_17_x86_64.manylinux2014_x86_64.whl\n",
      "Collecting fsspec[http]<2024,>=2022.11\n",
      "\u001b[?25l  Downloading https://files.pythonhosted.org/packages/96/0e/2be9b5a2e3f736577e749bbdf27a1e7e965041e1c908d49dedf56eeb2b8a/fsspec-2023.12.1-py3-none-any.whl (168kB)\n",
      "\u001b[K     |████████████████████████████████| 174kB 113.8MB/s eta 0:00:01\n",
      "\u001b[?25hCollecting pytimeparse<2,>=1.1.8\n",
      "  Downloading https://files.pythonhosted.org/packages/1b/b4/afd75551a3b910abd1d922dbd45e49e5deeb4d47dc50209ce489ba9844dd/pytimeparse-1.1.8-py2.py3-none-any.whl\n",
      "Collecting importlib_resources<6,>=5.1.4\n",
      "  Downloading https://files.pythonhosted.org/packages/7a/68/bd9dd6bbf06772c7accce77d0354d783333fbe712a60b08fc13540c05422/importlib_resources-5.13.0-py3-none-any.whl\n",
      "Collecting xgboost<2,>=1.7.3\n",
      "\u001b[?25l  Downloading https://files.pythonhosted.org/packages/8c/3a/c9c5d4d5c49b132ef15ac7b5ccf56ef1c82efe36cd19414771762e97c00e/xgboost-1.7.6-py3-none-manylinux2014_x86_64.whl (200.3MB)\n",
      "\u001b[K     |████████████████████████████████| 200.3MB 24kB/s /s eta 0:00:01\n",
      "\u001b[?25hCollecting cloudpickle>=2.0.0\n",
      "  Downloading https://files.pythonhosted.org/packages/96/43/dae06432d0c4b1dc9e9149ad37b4ca8384cf6eb7700cd9215b177b914f0a/cloudpickle-3.0.0-py3-none-any.whl\n",
      "Collecting packaging<24,>=20.9\n",
      "  Using cached https://files.pythonhosted.org/packages/ec/1a/610693ac4ee14fcdf2d9bf3c493370e4f2ef7ae2e19217d7a237ff42367d/packaging-23.2-py3-none-any.whl\n",
      "Collecting cachetools<5,>=3.1.1\n",
      "  Downloading https://files.pythonhosted.org/packages/ea/c1/4740af52db75e6dbdd57fc7e9478439815bbac549c1c05881be27d19a17d/cachetools-4.2.4-py3-none-any.whl\n",
      "Collecting s3fs<2024,>=2022.11\n",
      "  Downloading https://files.pythonhosted.org/packages/78/f9/dc65842d80fa01d6cd9dcae7efb17c7789a0be6436aabbea4ae8b07c4682/s3fs-2023.12.1-py3-none-any.whl\n",
      "Collecting snowflake-snowpark-python<2,>=1.8.0\n",
      "\u001b[?25l  Downloading https://files.pythonhosted.org/packages/17/ec/051fb693fa1912b80efd846b070b96435cfa05170524d5343a6938865290/snowflake_snowpark_python-1.11.1-py3-none-any.whl (390kB)\n",
      "\u001b[K     |████████████████████████████████| 399kB 120.5MB/s eta 0:00:01\n",
      "\u001b[?25hCollecting numpy<2,>=1.23\n",
      "\u001b[?25l  Downloading https://files.pythonhosted.org/packages/98/5d/5738903efe0ecb73e51eb44feafba32bdba2081263d40c5043568ff60faf/numpy-1.24.4-cp38-cp38-manylinux_2_17_x86_64.manylinux2014_x86_64.whl (17.3MB)\n",
      "\u001b[K     |████████████████████████████████| 17.3MB 98.4MB/s eta 0:00:01\n",
      "\u001b[?25hCollecting pandas<2,>=1.0.0\n",
      "\u001b[?25l  Downloading https://files.pythonhosted.org/packages/54/a0/c62d63c5c69be9aae07836e4d7e25e7a6f5590be3d8f2d53f43eeec5c475/pandas-1.5.3-cp38-cp38-manylinux_2_17_x86_64.manylinux2014_x86_64.whl (12.2MB)\n",
      "\u001b[K     |████████████████████████████████| 12.2MB 109kB/s  eta 0:00:01\n",
      "\u001b[?25hCollecting pyOpenSSL<24.0.0,>=16.2.0\n",
      "  Using cached https://files.pythonhosted.org/packages/db/de/007b832ad7a95e6a73745609bbe123c407aa2c46bb0b8f765c8718294e7f/pyOpenSSL-23.3.0-py3-none-any.whl\n",
      "Collecting cryptography<42.0.0,>=3.1.0\n",
      "  Using cached https://files.pythonhosted.org/packages/14/fd/dd5bd6ab0d12476ebca579cbfd48d31bd90fa28fa257b209df585dcf62a0/cryptography-41.0.7-cp37-abi3-manylinux_2_17_x86_64.manylinux2014_x86_64.whl\n",
      "Collecting pytz\n",
      "  Using cached https://files.pythonhosted.org/packages/32/4d/aaf7eff5deb402fd9a24a1449a8119f00d74ae9c2efa79f8ef9994261fc2/pytz-2023.3.post1-py2.py3-none-any.whl\n",
      "Collecting charset-normalizer<4,>=2\n",
      "  Using cached https://files.pythonhosted.org/packages/3d/09/d82fe4a34c5f0585f9ea1df090e2a71eb9bb1e469723053e1ee9f57c16f3/charset_normalizer-3.3.2-cp38-cp38-manylinux_2_17_x86_64.manylinux2014_x86_64.whl\n",
      "Collecting idna<4,>=2.5\n",
      "  Using cached https://files.pythonhosted.org/packages/c2/e7/a82b05cf63a603df6e68d59ae6a68bf5064484a0718ea5033660af4b54a9/idna-3.6-py3-none-any.whl\n",
      "Collecting sortedcontainers>=2.4.0\n",
      "  Using cached https://files.pythonhosted.org/packages/32/46/9cb0e58b2deb7f82b84065f37f3bffeb12413f947f9388e4cac22c4621ce/sortedcontainers-2.4.0-py2.py3-none-any.whl\n",
      "Collecting platformdirs<4.0.0,>=2.6.0\n",
      "  Using cached https://files.pythonhosted.org/packages/56/29/3ec311dc18804409ecf0d2b09caa976f3ae6215559306b5b530004e11156/platformdirs-3.11.0-py3-none-any.whl\n",
      "Collecting asn1crypto<2.0.0,>0.24.0\n",
      "  Using cached https://files.pythonhosted.org/packages/c9/7f/09065fd9e27da0eda08b4d6897f1c13535066174cc023af248fc2a8d5e5a/asn1crypto-1.5.1-py2.py3-none-any.whl\n",
      "Collecting pyjwt<3.0.0\n",
      "  Using cached https://files.pythonhosted.org/packages/2b/4f/e04a8067c7c96c364cef7ef73906504e2f40d690811c021e1a1901473a19/PyJWT-2.8.0-py3-none-any.whl\n",
      "Collecting requests<3.0.0\n",
      "  Using cached https://files.pythonhosted.org/packages/70/8e/0e2d847013cb52cd35b38c009bb167a1a26b2ce6cd6965bf26b47bc0bf44/requests-2.31.0-py3-none-any.whl\n",
      "Collecting certifi>=2017.4.17\n",
      "  Using cached https://files.pythonhosted.org/packages/64/62/428ef076be88fa93716b576e4a01f919d25968913e817077a386fcbe4f42/certifi-2023.11.17-py3-none-any.whl\n",
      "Collecting filelock<4,>=3.5\n",
      "  Using cached https://files.pythonhosted.org/packages/81/54/84d42a0bee35edba99dee7b59a8d4970eccdd44b99fe728ed912106fc781/filelock-3.13.1-py3-none-any.whl\n",
      "Collecting urllib3<2.0.0,>=1.21.1; python_version < \"3.10\"\n",
      "  Using cached https://files.pythonhosted.org/packages/b0/53/aa91e163dcfd1e5b82d8a890ecf13314e3e149c05270cc644581f77f17fd/urllib3-1.26.18-py2.py3-none-any.whl\n",
      "Collecting tomlkit\n",
      "  Using cached https://files.pythonhosted.org/packages/6e/43/159750d32481f16e34cc60090b53bc0a14314ad0c1f67a9bb64f3f3a0551/tomlkit-0.12.3-py3-none-any.whl\n",
      "Collecting cffi<2.0.0,>=1.9\n",
      "  Using cached https://files.pythonhosted.org/packages/f1/c9/326611aa83e16b13b6db4dbb73b5455c668159a003c4c2f0c3bcb2ddabaf/cffi-1.16.0-cp38-cp38-manylinux_2_17_x86_64.manylinux2014_x86_64.whl\n",
      "Collecting sniffio>=1.1\n",
      "  Downloading https://files.pythonhosted.org/packages/c3/a0/5dba8ed157b0136607c7f2151db695885606968d1fae123dc3391e0cfdbf/sniffio-1.3.0-py3-none-any.whl\n",
      "Collecting exceptiongroup; python_version < \"3.11\"\n",
      "  Downloading https://files.pythonhosted.org/packages/b8/9a/5028fd52db10e600f1c4674441b968cf2ea4959085bfb5b99fb1250e5f68/exceptiongroup-1.2.0-py3-none-any.whl\n",
      "Collecting threadpoolctl>=2.0.0\n",
      "  Using cached https://files.pythonhosted.org/packages/81/12/fd4dea011af9d69e1cad05c75f3f7202cdcbeac9b712eea58ca779a72865/threadpoolctl-3.2.0-py3-none-any.whl\n"
     ]
    },
    {
     "name": "stdout",
     "output_type": "stream",
     "text": [
      "Collecting joblib>=1.1.1\n",
      "  Using cached https://files.pythonhosted.org/packages/10/40/d551139c85db202f1f384ba8bcf96aca2f329440a844f924c8a0040b6d02/joblib-1.3.2-py3-none-any.whl\n",
      "Collecting aiohttp!=4.0.0a0,!=4.0.0a1; extra == \"http\"\n",
      "  Using cached https://files.pythonhosted.org/packages/25/19/91b9f2b737c9117cf8f622ee02a84788ac6fcda0aa4b736dad1321c6dd93/aiohttp-3.9.1-cp38-cp38-manylinux_2_17_x86_64.manylinux2014_x86_64.whl\n",
      "Collecting zipp>=3.1.0; python_version < \"3.10\"\n",
      "  Downloading https://files.pythonhosted.org/packages/d9/66/48866fc6b158c81cc2bfecc04c480f105c6040e8b077bc54c634b4a67926/zipp-3.17.0-py3-none-any.whl\n",
      "Collecting aiobotocore<3.0.0,>=2.5.4\n",
      "\u001b[?25l  Downloading https://files.pythonhosted.org/packages/f9/5e/ca5fd1c417f6a1c8cde8519611d82faedb368d7e3684e3a6069c95721bdf/aiobotocore-2.8.0-py3-none-any.whl (75kB)\n",
      "\u001b[K     |████████████████████████████████| 81kB 6.3MB/s  eta 0:00:01\n",
      "\u001b[?25hCollecting wheel\n",
      "  Using cached https://files.pythonhosted.org/packages/c7/c3/55076fc728723ef927521abaa1955213d094933dc36d4a2008d5101e1af5/wheel-0.42.0-py3-none-any.whl\n",
      "Collecting setuptools>=40.6.0\n",
      "  Using cached https://files.pythonhosted.org/packages/bb/e1/ed2dd0850446b8697ad28d118df885ad04140c64ace06c4bd559f7c8a94f/setuptools-69.0.2-py3-none-any.whl\n",
      "Collecting python-dateutil>=2.8.1\n",
      "  Using cached https://files.pythonhosted.org/packages/36/7a/87837f39d0296e723bb9b62bbb257d0355c7f6128853c78955f57342a56d/python_dateutil-2.8.2-py2.py3-none-any.whl\n",
      "Collecting pycparser\n",
      "  Using cached https://files.pythonhosted.org/packages/62/d5/5f610ebe421e85889f2e55e33b7f9a6795bd982198517d912eb1c76e1a53/pycparser-2.21-py2.py3-none-any.whl\n",
      "Collecting async-timeout<5.0,>=4.0; python_version < \"3.11\"\n",
      "  Using cached https://files.pythonhosted.org/packages/a7/fa/e01228c2938de91d47b307831c62ab9e4001e747789d0b05baf779a6488c/async_timeout-4.0.3-py3-none-any.whl\n",
      "Collecting attrs>=17.3.0\n",
      "  Using cached https://files.pythonhosted.org/packages/f0/eb/fcb708c7bf5056045e9e98f62b93bd7467eb718b0202e7698eb11d66416c/attrs-23.1.0-py3-none-any.whl\n",
      "Collecting aiosignal>=1.1.2\n",
      "  Using cached https://files.pythonhosted.org/packages/76/ac/a7305707cb852b7e16ff80eaf5692309bde30e2b1100a1fcacdc8f731d97/aiosignal-1.3.1-py3-none-any.whl\n",
      "Collecting yarl<2.0,>=1.0\n",
      "  Using cached https://files.pythonhosted.org/packages/58/c0/8d9a1c02f217f900f248e0ee31377849f4041aff3d36b71b1f30b4a0fa33/yarl-1.9.4-cp38-cp38-manylinux_2_17_x86_64.manylinux2014_x86_64.whl\n",
      "Collecting frozenlist>=1.1.1\n",
      "  Using cached https://files.pythonhosted.org/packages/0b/36/c276486f89bee9098332710af2207344f360c6c6f104a4931a7566039b1d/frozenlist-1.4.0-cp38-cp38-manylinux_2_5_x86_64.manylinux1_x86_64.manylinux_2_17_x86_64.manylinux2014_x86_64.whl\n",
      "Collecting multidict<7.0,>=4.5\n",
      "  Using cached https://files.pythonhosted.org/packages/fe/0c/8469202f8f4b0e65816f91c3febc4bda7316c995b59ecdf3b15c574f7a24/multidict-6.0.4-cp38-cp38-manylinux_2_17_x86_64.manylinux2014_x86_64.whl\n",
      "Collecting aioitertools<1.0.0,>=0.5.1\n",
      "  Downloading https://files.pythonhosted.org/packages/45/66/d1a9fd8e6ff88f2157cb145dd054defb0fd7fe2507fe5a01347e7c690eab/aioitertools-0.11.0-py3-none-any.whl\n",
      "Collecting botocore<1.33.2,>=1.32.4\n",
      "\u001b[?25l  Downloading https://files.pythonhosted.org/packages/19/d2/9e0a21b8688f1ff1a27c7d806908fe324adba280c0f01c43cc80cc1a1c7e/botocore-1.33.1-py3-none-any.whl (11.6MB)\n",
      "\u001b[K     |████████████████████████████████| 11.6MB 75kB/s s eta 0:00:01\n",
      "\u001b[?25hCollecting wrapt<2.0.0,>=1.10.10\n",
      "\u001b[?25l  Downloading https://files.pythonhosted.org/packages/ef/c6/56e718e2c58a4078518c14d97e531ef1e9e8a5c1ddafdc0d264a92be1a1a/wrapt-1.16.0-cp38-cp38-manylinux_2_5_x86_64.manylinux1_x86_64.manylinux_2_17_x86_64.manylinux2014_x86_64.whl (83kB)\n",
      "\u001b[K     |████████████████████████████████| 92kB 2.2MB/s  eta 0:00:01\n",
      "\u001b[?25hCollecting six>=1.5\n",
      "  Using cached https://files.pythonhosted.org/packages/d9/5a/e7c31adbe875f2abbb91bd84cf2dc52d792b5a01506781dbcf25c91daf11/six-1.16.0-py2.py3-none-any.whl\n",
      "Collecting jmespath<2.0.0,>=0.7.1\n",
      "  Downloading https://files.pythonhosted.org/packages/31/b4/b9b800c45527aadd64d5b442f9b932b00648617eb5d63d2c7a6587b7cafc/jmespath-1.0.1-py3-none-any.whl\n",
      "\u001b[31mERROR: refractml 1.0.3 has requirement cloudpickle==1.6.0, but you'll have cloudpickle 3.0.0 which is incompatible.\u001b[0m\n",
      "\u001b[31mERROR: refractml 1.0.3 has requirement PyYAML==6.0, but you'll have pyyaml 6.0.1 which is incompatible.\u001b[0m\n",
      "\u001b[31mERROR: refractml 1.0.3 has requirement urllib3==1.26.15, but you'll have urllib3 1.26.18 which is incompatible.\u001b[0m\n",
      "\u001b[31mERROR: mosaic-utils 1.0.2 has requirement scikit-learn==1.2.1; python_version >= \"3.8\", but you'll have scikit-learn 1.3.2 which is incompatible.\u001b[0m\n",
      "\u001b[31mERROR: snowflake-snowpark-python 1.11.1 has requirement cloudpickle!=2.1.0,!=2.2.0,<=2.2.1,>=1.6.0; python_version < \"3.11\", but you'll have cloudpickle 3.0.0 which is incompatible.\u001b[0m\n",
      "\u001b[31mERROR: jupyterlab 3.2.4 has requirement jupyter-server~=1.4, but you'll have jupyter-server 2.0.0a1 which is incompatible.\u001b[0m\n",
      "Installing collected packages: numpy, scipy, idna, sniffio, exceptiongroup, anyio, typing-extensions, threadpoolctl, joblib, scikit-learn, sqlparse, absl-py, pyyaml, async-timeout, attrs, frozenlist, aiosignal, multidict, yarl, aiohttp, certifi, urllib3, charset-normalizer, requests, fsspec, pytimeparse, zipp, importlib-resources, xgboost, cloudpickle, pycparser, cffi, cryptography, pyOpenSSL, pytz, sortedcontainers, platformdirs, asn1crypto, pyjwt, packaging, filelock, tomlkit, snowflake-connector-python, cachetools, aioitertools, jmespath, six, python-dateutil, botocore, wrapt, aiobotocore, s3fs, wheel, setuptools, snowflake-snowpark-python, pandas, snowflake-ml-python\n",
      "Successfully installed absl-py-1.4.0 aiobotocore-2.8.0 aiohttp-3.9.1 aioitertools-0.11.0 aiosignal-1.3.1 anyio-3.7.1 asn1crypto-1.5.1 async-timeout-4.0.3 attrs-23.1.0 botocore-1.33.1 cachetools-4.2.4 certifi-2023.11.17 cffi-1.16.0 charset-normalizer-3.3.2 cloudpickle-3.0.0 cryptography-41.0.7 exceptiongroup-1.2.0 filelock-3.13.1 frozenlist-1.4.0 fsspec-2023.12.1 idna-3.6 importlib-resources-5.13.0 jmespath-1.0.1 joblib-1.3.2 multidict-6.0.4 numpy-1.24.4 packaging-23.2 pandas-1.5.3 platformdirs-3.11.0 pyOpenSSL-23.3.0 pycparser-2.21 pyjwt-2.8.0 python-dateutil-2.8.2 pytimeparse-1.1.8 pytz-2023.3.post1 pyyaml-6.0.1 requests-2.31.0 s3fs-2023.12.1 scikit-learn-1.3.2 scipy-1.10.1 setuptools-69.0.2 six-1.16.0 sniffio-1.3.0 snowflake-connector-python-3.6.0 snowflake-ml-python-1.1.1 snowflake-snowpark-python-1.11.1 sortedcontainers-2.4.0 sqlparse-0.4.4 threadpoolctl-3.2.0 tomlkit-0.12.3 typing-extensions-4.8.0 urllib3-1.26.18 wheel-0.42.0 wrapt-1.16.0 xgboost-1.7.6 yarl-1.9.4 zipp-3.17.0\n",
      "\u001b[33mWARNING: Target directory /tmp/pip_packages/aiohttp already exists. Specify --upgrade to force replacement.\u001b[0m\n",
      "\u001b[33mWARNING: Target directory /tmp/pip_packages/wheel-0.42.0.dist-info already exists. Specify --upgrade to force replacement.\u001b[0m\n",
      "\u001b[33mWARNING: Target directory /tmp/pip_packages/platformdirs already exists. Specify --upgrade to force replacement.\u001b[0m\n",
      "\u001b[33mWARNING: Target directory /tmp/pip_packages/dateutil already exists. Specify --upgrade to force replacement.\u001b[0m\n",
      "\u001b[33mWARNING: Target directory /tmp/pip_packages/yarl already exists. Specify --upgrade to force replacement.\u001b[0m\n",
      "\u001b[33mWARNING: Target directory /tmp/pip_packages/setuptools already exists. Specify --upgrade to force replacement.\u001b[0m\n",
      "\u001b[33mWARNING: Target directory /tmp/pip_packages/asn1crypto-1.5.1.dist-info already exists. Specify --upgrade to force replacement.\u001b[0m\n",
      "\u001b[33mWARNING: Target directory /tmp/pip_packages/xgboost.libs already exists. Specify --upgrade to force replacement.\u001b[0m\n",
      "\u001b[33mWARNING: Target directory /tmp/pip_packages/__pycache__ already exists. Specify --upgrade to force replacement.\u001b[0m\n",
      "\u001b[33mWARNING: Target directory /tmp/pip_packages/requests-2.31.0.dist-info already exists. Specify --upgrade to force replacement.\u001b[0m\n",
      "\u001b[33mWARNING: Target directory /tmp/pip_packages/yarl-1.9.4.dist-info already exists. Specify --upgrade to force replacement.\u001b[0m\n",
      "\u001b[33mWARNING: Target directory /tmp/pip_packages/typing_extensions.py already exists. Specify --upgrade to force replacement.\u001b[0m\n",
      "\u001b[33mWARNING: Target directory /tmp/pip_packages/distutils-precedence.pth already exists. Specify --upgrade to force replacement.\u001b[0m\n",
      "\u001b[33mWARNING: Target directory /tmp/pip_packages/joblib already exists. Specify --upgrade to force replacement.\u001b[0m\n",
      "\u001b[33mWARNING: Target directory /tmp/pip_packages/sqlparse already exists. Specify --upgrade to force replacement.\u001b[0m\n",
      "\u001b[33mWARNING: Target directory /tmp/pip_packages/numpy already exists. Specify --upgrade to force replacement.\u001b[0m\n",
      "\u001b[33mWARNING: Target directory /tmp/pip_packages/attrs already exists. Specify --upgrade to force replacement.\u001b[0m\n",
      "\u001b[33mWARNING: Target directory /tmp/pip_packages/_cffi_backend.cpython-38-x86_64-linux-gnu.so already exists. Specify --upgrade to force replacement.\u001b[0m\n",
      "\u001b[33mWARNING: Target directory /tmp/pip_packages/pkg_resources already exists. Specify --upgrade to force replacement.\u001b[0m\n",
      "\u001b[33mWARNING: Target directory /tmp/pip_packages/multidict-6.0.4.dist-info already exists. Specify --upgrade to force replacement.\u001b[0m\n",
      "\u001b[33mWARNING: Target directory /tmp/pip_packages/urllib3 already exists. Specify --upgrade to force replacement.\u001b[0m\n",
      "\u001b[33mWARNING: Target directory /tmp/pip_packages/PyYAML-6.0.1.dist-info already exists. Specify --upgrade to force replacement.\u001b[0m\n",
      "\u001b[33mWARNING: Target directory /tmp/pip_packages/frozenlist-1.4.0.dist-info already exists. Specify --upgrade to force replacement.\u001b[0m\n",
      "\u001b[33mWARNING: Target directory /tmp/pip_packages/multidict already exists. Specify --upgrade to force replacement.\u001b[0m\n",
      "\u001b[33mWARNING: Target directory /tmp/pip_packages/cffi already exists. Specify --upgrade to force replacement.\u001b[0m\n",
      "\u001b[33mWARNING: Target directory /tmp/pip_packages/snowflake already exists. Specify --upgrade to force replacement.\u001b[0m\n",
      "\u001b[33mWARNING: Target directory /tmp/pip_packages/pyOpenSSL-23.3.0.dist-info already exists. Specify --upgrade to force replacement.\u001b[0m\n",
      "\u001b[33mWARNING: Target directory /tmp/pip_packages/scikit_learn.libs already exists. Specify --upgrade to force replacement.\u001b[0m\n",
      "\u001b[33mWARNING: Target directory /tmp/pip_packages/scipy already exists. Specify --upgrade to force replacement.\u001b[0m\n",
      "\u001b[33mWARNING: Target directory /tmp/pip_packages/aiohttp-3.9.1.dist-info already exists. Specify --upgrade to force replacement.\u001b[0m\n",
      "\u001b[33mWARNING: Target directory /tmp/pip_packages/numpy.libs already exists. Specify --upgrade to force replacement.\u001b[0m\n",
      "\u001b[33mWARNING: Target directory /tmp/pip_packages/_yaml already exists. Specify --upgrade to force replacement.\u001b[0m\n",
      "\u001b[33mWARNING: Target directory /tmp/pip_packages/setuptools-69.0.2.dist-info already exists. Specify --upgrade to force replacement.\u001b[0m\n",
      "\u001b[33mWARNING: Target directory /tmp/pip_packages/absl_py-1.4.0.dist-info already exists. Specify --upgrade to force replacement.\u001b[0m\n",
      "\u001b[33mWARNING: Target directory /tmp/pip_packages/async_timeout-4.0.3.dist-info already exists. Specify --upgrade to force replacement.\u001b[0m\n",
      "\u001b[33mWARNING: Target directory /tmp/pip_packages/absl already exists. Specify --upgrade to force replacement.\u001b[0m\n",
      "\u001b[33mWARNING: Target directory /tmp/pip_packages/xgboost already exists. Specify --upgrade to force replacement.\u001b[0m\n",
      "\u001b[33mWARNING: Target directory /tmp/pip_packages/urllib3-1.26.18.dist-info already exists. Specify --upgrade to force replacement.\u001b[0m\n",
      "\u001b[33mWARNING: Target directory /tmp/pip_packages/six-1.16.0.dist-info already exists. Specify --upgrade to force replacement.\u001b[0m\n",
      "\u001b[33mWARNING: Target directory /tmp/pip_packages/pycparser already exists. Specify --upgrade to force replacement.\u001b[0m\n",
      "\u001b[33mWARNING: Target directory /tmp/pip_packages/aiosignal already exists. Specify --upgrade to force replacement.\u001b[0m\n",
      "\u001b[33mWARNING: Target directory /tmp/pip_packages/cryptography already exists. Specify --upgrade to force replacement.\u001b[0m\n",
      "\u001b[33mWARNING: Target directory /tmp/pip_packages/scipy-1.10.1.dist-info already exists. Specify --upgrade to force replacement.\u001b[0m\n",
      "\u001b[33mWARNING: Target directory /tmp/pip_packages/cffi-1.16.0.dist-info already exists. Specify --upgrade to force replacement.\u001b[0m\n",
      "\u001b[33mWARNING: Target directory /tmp/pip_packages/pycparser-2.21.dist-info already exists. Specify --upgrade to force replacement.\u001b[0m\n",
      "\u001b[33mWARNING: Target directory /tmp/pip_packages/cryptography-41.0.7.dist-info already exists. Specify --upgrade to force replacement.\u001b[0m\n",
      "\u001b[33mWARNING: Target directory /tmp/pip_packages/sqlparse-0.4.4.dist-info already exists. Specify --upgrade to force replacement.\u001b[0m\n",
      "\u001b[33mWARNING: Target directory /tmp/pip_packages/pandas already exists. Specify --upgrade to force replacement.\u001b[0m\n",
      "\u001b[33mWARNING: Target directory /tmp/pip_packages/six.py already exists. Specify --upgrade to force replacement.\u001b[0m\n",
      "\u001b[33mWARNING: Target directory /tmp/pip_packages/certifi already exists. Specify --upgrade to force replacement.\u001b[0m\n",
      "\u001b[33mWARNING: Target directory /tmp/pip_packages/aiosignal-1.3.1.dist-info already exists. Specify --upgrade to force replacement.\u001b[0m\n",
      "\u001b[33mWARNING: Target directory /tmp/pip_packages/frozenlist already exists. Specify --upgrade to force replacement.\u001b[0m\n",
      "\u001b[33mWARNING: Target directory /tmp/pip_packages/filelock-3.13.1.dist-info already exists. Specify --upgrade to force replacement.\u001b[0m\n",
      "\u001b[33mWARNING: Target directory /tmp/pip_packages/wheel already exists. Specify --upgrade to force replacement.\u001b[0m\n",
      "\u001b[33mWARNING: Target directory /tmp/pip_packages/packaging-23.2.dist-info already exists. Specify --upgrade to force replacement.\u001b[0m\n",
      "\u001b[33mWARNING: Target directory /tmp/pip_packages/OpenSSL already exists. Specify --upgrade to force replacement.\u001b[0m\n",
      "\u001b[33mWARNING: Target directory /tmp/pip_packages/filelock already exists. Specify --upgrade to force replacement.\u001b[0m\n",
      "\u001b[33mWARNING: Target directory /tmp/pip_packages/attrs-23.1.0.dist-info already exists. Specify --upgrade to force replacement.\u001b[0m\n",
      "\u001b[33mWARNING: Target directory /tmp/pip_packages/joblib-1.3.2.dist-info already exists. Specify --upgrade to force replacement.\u001b[0m\n",
      "\u001b[33mWARNING: Target directory /tmp/pip_packages/tomlkit already exists. Specify --upgrade to force replacement.\u001b[0m\n",
      "\u001b[33mWARNING: Target directory /tmp/pip_packages/yaml already exists. Specify --upgrade to force replacement.\u001b[0m\n",
      "\u001b[33mWARNING: Target directory /tmp/pip_packages/attr already exists. Specify --upgrade to force replacement.\u001b[0m\n",
      "\u001b[33mWARNING: Target directory /tmp/pip_packages/typing_extensions-4.8.0.dist-info already exists. Specify --upgrade to force replacement.\u001b[0m\n",
      "\u001b[33mWARNING: Target directory /tmp/pip_packages/asn1crypto already exists. Specify --upgrade to force replacement.\u001b[0m\n",
      "\u001b[33mWARNING: Target directory /tmp/pip_packages/packaging already exists. Specify --upgrade to force replacement.\u001b[0m\n",
      "\u001b[33mWARNING: Target directory /tmp/pip_packages/sortedcontainers-2.4.0.dist-info already exists. Specify --upgrade to force replacement.\u001b[0m\n",
      "\u001b[33mWARNING: Target directory /tmp/pip_packages/async_timeout already exists. Specify --upgrade to force replacement.\u001b[0m\n",
      "\u001b[33mWARNING: Target directory /tmp/pip_packages/tomlkit-0.12.3.dist-info already exists. Specify --upgrade to force replacement.\u001b[0m\n",
      "\u001b[33mWARNING: Target directory /tmp/pip_packages/idna-3.6.dist-info already exists. Specify --upgrade to force replacement.\u001b[0m\n",
      "\u001b[33mWARNING: Target directory /tmp/pip_packages/pytz-2023.3.post1.dist-info already exists. Specify --upgrade to force replacement.\u001b[0m\n",
      "\u001b[33mWARNING: Target directory /tmp/pip_packages/python_dateutil-2.8.2.dist-info already exists. Specify --upgrade to force replacement.\u001b[0m\n",
      "\u001b[33mWARNING: Target directory /tmp/pip_packages/idna already exists. Specify --upgrade to force replacement.\u001b[0m\n",
      "\u001b[33mWARNING: Target directory /tmp/pip_packages/scipy.libs already exists. Specify --upgrade to force replacement.\u001b[0m\n",
      "\u001b[33mWARNING: Target directory /tmp/pip_packages/sklearn already exists. Specify --upgrade to force replacement.\u001b[0m\n",
      "\u001b[33mWARNING: Target directory /tmp/pip_packages/cloudpickle already exists. Specify --upgrade to force replacement.\u001b[0m\n",
      "\u001b[33mWARNING: Target directory /tmp/pip_packages/charset_normalizer-3.3.2.dist-info already exists. Specify --upgrade to force replacement.\u001b[0m\n",
      "\u001b[33mWARNING: Target directory /tmp/pip_packages/sortedcontainers already exists. Specify --upgrade to force replacement.\u001b[0m\n",
      "\u001b[33mWARNING: Target directory /tmp/pip_packages/_distutils_hack already exists. Specify --upgrade to force replacement.\u001b[0m\n",
      "\u001b[33mWARNING: Target directory /tmp/pip_packages/certifi-2023.11.17.dist-info already exists. Specify --upgrade to force replacement.\u001b[0m\n",
      "\u001b[33mWARNING: Target directory /tmp/pip_packages/PyJWT-2.8.0.dist-info already exists. Specify --upgrade to force replacement.\u001b[0m\n",
      "\u001b[33mWARNING: Target directory /tmp/pip_packages/jwt already exists. Specify --upgrade to force replacement.\u001b[0m\n",
      "\u001b[33mWARNING: Target directory /tmp/pip_packages/requests already exists. Specify --upgrade to force replacement.\u001b[0m\n",
      "\u001b[33mWARNING: Target directory /tmp/pip_packages/charset_normalizer already exists. Specify --upgrade to force replacement.\u001b[0m\n",
      "\u001b[33mWARNING: Target directory /tmp/pip_packages/threadpoolctl-3.2.0.dist-info already exists. Specify --upgrade to force replacement.\u001b[0m\n",
      "\u001b[33mWARNING: Target directory /tmp/pip_packages/fsspec already exists. Specify --upgrade to force replacement.\u001b[0m\n",
      "\u001b[33mWARNING: Target directory /tmp/pip_packages/pytz already exists. Specify --upgrade to force replacement.\u001b[0m\n",
      "\u001b[33mWARNING: Target directory /tmp/pip_packages/platformdirs-3.11.0.dist-info already exists. Specify --upgrade to force replacement.\u001b[0m\n",
      "\u001b[33mWARNING: Target directory /tmp/pip_packages/threadpoolctl.py already exists. Specify --upgrade to force replacement.\u001b[0m\n",
      "\u001b[33mWARNING: Target directory /tmp/pip_packages/snowflake_connector_python-3.6.0.dist-info already exists. Specify --upgrade to force replacement.\u001b[0m\n",
      "\u001b[33mWARNING: Target directory /tmp/pip_packages/bin already exists. Specify --upgrade to force replacement.\u001b[0m\n"
     ]
    },
    {
     "name": "stdout",
     "output_type": "stream",
     "text": [
      "\u001b[33mWARNING: You are using pip version 19.3.1; however, version 23.3.1 is available.\r\n",
      "You should consider upgrading via the 'pip install --upgrade pip' command.\u001b[0m\r\n"
     ]
    }
   ],
   "source": [
    "!pip install snowflake-ml-python snowflake-connector-python"
   ]
  },
  {
   "cell_type": "code",
   "execution_count": null,
   "id": "0e4a8a19",
   "metadata": {},
   "outputs": [],
   "source": []
  }
 ],
 "metadata": {
  "kernelspec": {
   "display_name": "Python 3",
   "language": "python",
   "name": "python3"
  },
  "language_info": {
   "codemirror_mode": {
    "name": "ipython",
    "version": 3
   },
   "file_extension": ".py",
   "mimetype": "text/x-python",
   "name": "python",
   "nbconvert_exporter": "python",
   "pygments_lexer": "ipython3",
   "version": "3.8.16"
  }
 },
 "nbformat": 4,
 "nbformat_minor": 5
}
