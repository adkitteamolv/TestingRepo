{
 "cells": [
  {
   "cell_type": "markdown",
   "id": "8ea99753",
   "metadata": {},
   "source": [
    "# Random Forest Regressor Model"
   ]
  },
  {
   "cell_type": "code",
   "execution_count": 1,
   "id": "926e50d4",
   "metadata": {},
   "outputs": [],
   "source": [
    "from sklearn.ensemble import RandomForestRegressor"
   ]
  },
  {
   "cell_type": "markdown",
   "id": "39c59d54",
   "metadata": {},
   "source": [
    "# Defining random forest regressor model object"
   ]
  },
  {
   "cell_type": "code",
   "execution_count": 2,
   "id": "b58f335a",
   "metadata": {},
   "outputs": [],
   "source": [
    "rf_model = RandomForestRegressor(n_estimators=100, random_state=42)"
   ]
  },
  {
   "cell_type": "code",
   "execution_count": 3,
   "id": "5291263b",
   "metadata": {},
   "outputs": [],
   "source": [
    "import numpy as np \n",
    "import pandas as pd \n",
    "from sklearn.model_selection import train_test_split"
   ]
  },
  {
   "cell_type": "markdown",
   "id": "ca1aad9c",
   "metadata": {},
   "source": [
    "# Reading the dataset"
   ]
  },
  {
   "cell_type": "code",
   "execution_count": 4,
   "id": "98e87851",
   "metadata": {},
   "outputs": [],
   "source": [
    "rf_df = pd.read_csv('/data/insurance_data50k.csv')"
   ]
  },
  {
   "cell_type": "code",
   "execution_count": 5,
   "id": "fa7668d4",
   "metadata": {},
   "outputs": [
    {
     "name": "stdout",
     "output_type": "stream",
     "text": [
      "       Age  Gender    Region  PolicyYears  PolicyType  PastClaimsCount  \\\n",
      "0       63    Male  Suburban            2        Home                0   \n",
      "1       41    Male  Suburban            2      Health                1   \n",
      "2       25    Male     Urban            5        Life                2   \n",
      "3       44  Female     Urban            9        Auto                2   \n",
      "4       48    Male  Suburban            4        Auto                2   \n",
      "...    ...     ...       ...          ...         ...              ...   \n",
      "49995   45  Female     Urban            5        Life                0   \n",
      "49996   26  Female     Urban           12        Home                1   \n",
      "49997   48    Male     Urban            3  Disability                1   \n",
      "49998   49  Female     Urban           13        Life                1   \n",
      "49999   19  Female  Suburban            7        Life                4   \n",
      "\n",
      "       PastClaimsAmount  \n",
      "0          99010.167897  \n",
      "1          86606.465354  \n",
      "2           3329.873640  \n",
      "3          57949.240454  \n",
      "4          38063.927539  \n",
      "...                 ...  \n",
      "49995      98082.076838  \n",
      "49996       6733.855153  \n",
      "49997      10247.940052  \n",
      "49998       1449.332090  \n",
      "49999      72225.362945  \n",
      "\n",
      "[50000 rows x 7 columns]\n"
     ]
    }
   ],
   "source": [
    "print(rf_df)"
   ]
  },
  {
   "cell_type": "code",
   "execution_count": 6,
   "id": "52541195",
   "metadata": {},
   "outputs": [],
   "source": [
    "#Correcting outliers\n",
    "columns_to_filter = ['Age', 'PolicyYears', 'PastClaimsCount', 'PastClaimsAmount']"
   ]
  },
  {
   "cell_type": "markdown",
   "id": "e50ca54a",
   "metadata": {},
   "source": [
    "#  Applying ordinal encoding on categorical columns"
   ]
  },
  {
   "cell_type": "code",
   "execution_count": 7,
   "id": "25d209a9",
   "metadata": {},
   "outputs": [],
   "source": [
    "#Applying ordinalw encoding on gender, region and policy type columns\n",
    "gen = {'Gender' :['Male', 'Female']}\n",
    "reg = {'Region' :['Urban', 'Suburban']}\n",
    "pol_type = {'PolicyType' :['Health', 'Life', 'Auto', 'Home', 'Disability']}\n",
    "df_ordinal_gender=pd.DataFrame(gen,columns=[\"Gender\"])\n",
    "df_ordinal_region=pd.DataFrame(reg,columns=[\"Region\"])\n",
    "df_ordinal_pol_type=pd.DataFrame(pol_type,columns=[\"PolicyType\"])\n",
    "gen_dict = {'Male': 1,'Female': 2}\n",
    "reg_dict = {'Urban': 1,'Suburban': 2}\n",
    "pol_type_dict = {'Health': 1,'Life': 2, 'Auto': 3, 'Home': 4, 'Disability': 5}\n",
    "rf_df[\"gender_ordinal\"]=rf_df.Gender.map(gen_dict)\n",
    "rf_df[\"region_ordinal\"]=rf_df.Region.map(reg_dict)\n",
    "rf_df[\"pol_type_ordinal\"]=rf_df.PolicyType.map(pol_type_dict)"
   ]
  },
  {
   "cell_type": "code",
   "execution_count": 8,
   "id": "a9b1cb55",
   "metadata": {},
   "outputs": [
    {
     "name": "stdout",
     "output_type": "stream",
     "text": [
      "       Age  Gender    Region  PolicyYears  PolicyType  PastClaimsCount  \\\n",
      "0       63    Male  Suburban            2        Home                0   \n",
      "1       41    Male  Suburban            2      Health                1   \n",
      "2       25    Male     Urban            5        Life                2   \n",
      "3       44  Female     Urban            9        Auto                2   \n",
      "4       48    Male  Suburban            4        Auto                2   \n",
      "...    ...     ...       ...          ...         ...              ...   \n",
      "49995   45  Female     Urban            5        Life                0   \n",
      "49996   26  Female     Urban           12        Home                1   \n",
      "49997   48    Male     Urban            3  Disability                1   \n",
      "49998   49  Female     Urban           13        Life                1   \n",
      "49999   19  Female  Suburban            7        Life                4   \n",
      "\n",
      "       PastClaimsAmount  gender_ordinal  region_ordinal  pol_type_ordinal  \n",
      "0          99010.167897               1               2                 4  \n",
      "1          86606.465354               1               2                 1  \n",
      "2           3329.873640               1               1                 2  \n",
      "3          57949.240454               2               1                 3  \n",
      "4          38063.927539               1               2                 3  \n",
      "...                 ...             ...             ...               ...  \n",
      "49995      98082.076838               2               1                 2  \n",
      "49996       6733.855153               2               1                 4  \n",
      "49997      10247.940052               1               1                 5  \n",
      "49998       1449.332090               2               1                 2  \n",
      "49999      72225.362945               2               2                 2  \n",
      "\n",
      "[50000 rows x 10 columns]\n"
     ]
    }
   ],
   "source": [
    "#Printing dataframe after ordinal encoding on gender, region and policy type columns and dumping it in csv for further use\n",
    "print(rf_df)\n",
    "rf_df.to_csv(\"/data/insurance_data_encoded1L.csv\")"
   ]
  },
  {
   "cell_type": "markdown",
   "id": "b4b77794",
   "metadata": {},
   "source": [
    "# Defining train test data split function"
   ]
  },
  {
   "cell_type": "code",
   "execution_count": 9,
   "id": "b8aa9804",
   "metadata": {},
   "outputs": [],
   "source": [
    "X= rf_df[['Age','gender_ordinal','region_ordinal','PolicyYears','pol_type_ordinal','PastClaimsCount']] \n",
    "y= rf_df['PastClaimsAmount']"
   ]
  },
  {
   "cell_type": "code",
   "execution_count": 10,
   "id": "9c6cc84a",
   "metadata": {},
   "outputs": [],
   "source": [
    "# using the train test split function \n",
    "X_train, X_test, y_train, y_test = train_test_split(X,y , \n",
    "                                   random_state=42,  \n",
    "                                   test_size=0.2,  \n",
    "                                   shuffle=True)"
   ]
  },
  {
   "cell_type": "markdown",
   "id": "b9271e9a",
   "metadata": {},
   "source": [
    "# Model training"
   ]
  },
  {
   "cell_type": "code",
   "execution_count": null,
   "id": "357a02ed",
   "metadata": {},
   "outputs": [],
   "source": [
    "#Model training\n",
    "rf_model.fit(X_train, y_train)"
   ]
  },
  {
   "cell_type": "markdown",
   "id": "87545180",
   "metadata": {},
   "source": [
    "# Calculating model metrics like MAE, MSE, R2"
   ]
  },
  {
   "cell_type": "code",
   "execution_count": 13,
   "id": "d7f582d4",
   "metadata": {},
   "outputs": [],
   "source": [
    "rf_predictions = rf_model.predict(X_test)"
   ]
  },
  {
   "cell_type": "code",
   "execution_count": 14,
   "id": "5d6445ea",
   "metadata": {},
   "outputs": [],
   "source": [
    "#Calculating model metrics\n",
    "from sklearn.metrics import mean_absolute_error, mean_squared_error, r2_score\n",
    "y_pred = rf_model.predict(X_test)\n",
    "rf_mae = mean_absolute_error(y_test, rf_predictions)\n",
    "rf_mse = mean_squared_error(y_test, y_pred, squared=False)\n",
    "rf_rmse = np.sqrt(rf_mse)\n",
    "rf_r2 = r2_score(y_test, y_pred)"
   ]
  },
  {
   "cell_type": "code",
   "execution_count": 15,
   "id": "24d65fbb",
   "metadata": {},
   "outputs": [
    {
     "name": "stdout",
     "output_type": "stream",
     "text": [
      "RandomForest MAE: 53384.065330367324\n",
      "RandomForest MSE: 63264.39460915747\n",
      "RandomForest RMSE: 251.52414319336717\n",
      "RandomForest R2: -0.1979742262766515\n"
     ]
    }
   ],
   "source": [
    "print(f\"RandomForest MAE: {rf_mae}\")\n",
    "print(f\"RandomForest MSE: {rf_mse}\")\n",
    "print(f\"RandomForest RMSE: {rf_rmse}\")\n",
    "print(f\"RandomForest R2: {rf_r2}\")"
   ]
  },
  {
   "cell_type": "markdown",
   "id": "04f5e5b4",
   "metadata": {},
   "source": [
    "# Hyperparameter tuning to reduce MAE, MSE value using grid search technique"
   ]
  },
  {
   "cell_type": "code",
   "execution_count": 16,
   "id": "33913f55",
   "metadata": {},
   "outputs": [],
   "source": [
    "#Fine tuning hyper parameters with GridSearch\n",
    "from sklearn.model_selection import GridSearchCV"
   ]
  },
  {
   "cell_type": "code",
   "execution_count": 17,
   "id": "8909dd13",
   "metadata": {},
   "outputs": [],
   "source": [
    "# Define the parameter grid to search\n",
    "param_grid = {\n",
    "    'n_estimators': [1000, 2000, 3000, 4000, 5000],\n",
    "    'max_depth': [10, 15, 20],\n",
    "    'min_samples_leaf': [1000, 2000, 3000, 4000, 5000]\n",
    "}"
   ]
  },
  {
   "cell_type": "code",
   "execution_count": 18,
   "id": "46da89d6",
   "metadata": {},
   "outputs": [],
   "source": [
    "# Initialize GridSearchCV\n",
    "grid_search = GridSearchCV(estimator=rf_model, param_grid=param_grid, cv=5, scoring='neg_mean_squared_error', n_jobs=-1)"
   ]
  },
  {
   "cell_type": "code",
   "execution_count": 19,
   "id": "3badb318",
   "metadata": {},
   "outputs": [
    {
     "data": {
      "text/html": [
       "<style>#sk-container-id-2 {color: black;background-color: white;}#sk-container-id-2 pre{padding: 0;}#sk-container-id-2 div.sk-toggleable {background-color: white;}#sk-container-id-2 label.sk-toggleable__label {cursor: pointer;display: block;width: 100%;margin-bottom: 0;padding: 0.3em;box-sizing: border-box;text-align: center;}#sk-container-id-2 label.sk-toggleable__label-arrow:before {content: \"▸\";float: left;margin-right: 0.25em;color: #696969;}#sk-container-id-2 label.sk-toggleable__label-arrow:hover:before {color: black;}#sk-container-id-2 div.sk-estimator:hover label.sk-toggleable__label-arrow:before {color: black;}#sk-container-id-2 div.sk-toggleable__content {max-height: 0;max-width: 0;overflow: hidden;text-align: left;background-color: #f0f8ff;}#sk-container-id-2 div.sk-toggleable__content pre {margin: 0.2em;color: black;border-radius: 0.25em;background-color: #f0f8ff;}#sk-container-id-2 input.sk-toggleable__control:checked~div.sk-toggleable__content {max-height: 200px;max-width: 100%;overflow: auto;}#sk-container-id-2 input.sk-toggleable__control:checked~label.sk-toggleable__label-arrow:before {content: \"▾\";}#sk-container-id-2 div.sk-estimator input.sk-toggleable__control:checked~label.sk-toggleable__label {background-color: #d4ebff;}#sk-container-id-2 div.sk-label input.sk-toggleable__control:checked~label.sk-toggleable__label {background-color: #d4ebff;}#sk-container-id-2 input.sk-hidden--visually {border: 0;clip: rect(1px 1px 1px 1px);clip: rect(1px, 1px, 1px, 1px);height: 1px;margin: -1px;overflow: hidden;padding: 0;position: absolute;width: 1px;}#sk-container-id-2 div.sk-estimator {font-family: monospace;background-color: #f0f8ff;border: 1px dotted black;border-radius: 0.25em;box-sizing: border-box;margin-bottom: 0.5em;}#sk-container-id-2 div.sk-estimator:hover {background-color: #d4ebff;}#sk-container-id-2 div.sk-parallel-item::after {content: \"\";width: 100%;border-bottom: 1px solid gray;flex-grow: 1;}#sk-container-id-2 div.sk-label:hover label.sk-toggleable__label {background-color: #d4ebff;}#sk-container-id-2 div.sk-serial::before {content: \"\";position: absolute;border-left: 1px solid gray;box-sizing: border-box;top: 0;bottom: 0;left: 50%;z-index: 0;}#sk-container-id-2 div.sk-serial {display: flex;flex-direction: column;align-items: center;background-color: white;padding-right: 0.2em;padding-left: 0.2em;position: relative;}#sk-container-id-2 div.sk-item {position: relative;z-index: 1;}#sk-container-id-2 div.sk-parallel {display: flex;align-items: stretch;justify-content: center;background-color: white;position: relative;}#sk-container-id-2 div.sk-item::before, #sk-container-id-2 div.sk-parallel-item::before {content: \"\";position: absolute;border-left: 1px solid gray;box-sizing: border-box;top: 0;bottom: 0;left: 50%;z-index: -1;}#sk-container-id-2 div.sk-parallel-item {display: flex;flex-direction: column;z-index: 1;position: relative;background-color: white;}#sk-container-id-2 div.sk-parallel-item:first-child::after {align-self: flex-end;width: 50%;}#sk-container-id-2 div.sk-parallel-item:last-child::after {align-self: flex-start;width: 50%;}#sk-container-id-2 div.sk-parallel-item:only-child::after {width: 0;}#sk-container-id-2 div.sk-dashed-wrapped {border: 1px dashed gray;margin: 0 0.4em 0.5em 0.4em;box-sizing: border-box;padding-bottom: 0.4em;background-color: white;}#sk-container-id-2 div.sk-label label {font-family: monospace;font-weight: bold;display: inline-block;line-height: 1.2em;}#sk-container-id-2 div.sk-label-container {text-align: center;}#sk-container-id-2 div.sk-container {/* jupyter's `normalize.less` sets `[hidden] { display: none; }` but bootstrap.min.css set `[hidden] { display: none !important; }` so we also need the `!important` here to be able to override the default hidden behavior on the sphinx rendered scikit-learn.org. See: https://github.com/scikit-learn/scikit-learn/issues/21755 */display: inline-block !important;position: relative;}#sk-container-id-2 div.sk-text-repr-fallback {display: none;}</style><div id=\"sk-container-id-2\" class=\"sk-top-container\"><div class=\"sk-text-repr-fallback\"><pre>GridSearchCV(cv=5, estimator=RandomForestRegressor(random_state=42), n_jobs=-1,\n",
       "             param_grid={&#x27;max_depth&#x27;: [10, 15, 20],\n",
       "                         &#x27;min_samples_leaf&#x27;: [1000, 2000, 3000, 4000, 5000],\n",
       "                         &#x27;n_estimators&#x27;: [1000, 2000, 3000, 4000, 5000]},\n",
       "             scoring=&#x27;neg_mean_squared_error&#x27;)</pre><b>In a Jupyter environment, please rerun this cell to show the HTML representation or trust the notebook. <br />On GitHub, the HTML representation is unable to render, please try loading this page with nbviewer.org.</b></div><div class=\"sk-container\" hidden><div class=\"sk-item sk-dashed-wrapped\"><div class=\"sk-label-container\"><div class=\"sk-label sk-toggleable\"><input class=\"sk-toggleable__control sk-hidden--visually\" id=\"sk-estimator-id-2\" type=\"checkbox\" ><label for=\"sk-estimator-id-2\" class=\"sk-toggleable__label sk-toggleable__label-arrow\">GridSearchCV</label><div class=\"sk-toggleable__content\"><pre>GridSearchCV(cv=5, estimator=RandomForestRegressor(random_state=42), n_jobs=-1,\n",
       "             param_grid={&#x27;max_depth&#x27;: [10, 15, 20],\n",
       "                         &#x27;min_samples_leaf&#x27;: [1000, 2000, 3000, 4000, 5000],\n",
       "                         &#x27;n_estimators&#x27;: [1000, 2000, 3000, 4000, 5000]},\n",
       "             scoring=&#x27;neg_mean_squared_error&#x27;)</pre></div></div></div><div class=\"sk-parallel\"><div class=\"sk-parallel-item\"><div class=\"sk-item\"><div class=\"sk-label-container\"><div class=\"sk-label sk-toggleable\"><input class=\"sk-toggleable__control sk-hidden--visually\" id=\"sk-estimator-id-3\" type=\"checkbox\" ><label for=\"sk-estimator-id-3\" class=\"sk-toggleable__label sk-toggleable__label-arrow\">estimator: RandomForestRegressor</label><div class=\"sk-toggleable__content\"><pre>RandomForestRegressor(random_state=42)</pre></div></div></div><div class=\"sk-serial\"><div class=\"sk-item\"><div class=\"sk-estimator sk-toggleable\"><input class=\"sk-toggleable__control sk-hidden--visually\" id=\"sk-estimator-id-4\" type=\"checkbox\" ><label for=\"sk-estimator-id-4\" class=\"sk-toggleable__label sk-toggleable__label-arrow\">RandomForestRegressor</label><div class=\"sk-toggleable__content\"><pre>RandomForestRegressor(random_state=42)</pre></div></div></div></div></div></div></div></div></div></div>"
      ],
      "text/plain": [
       "GridSearchCV(cv=5, estimator=RandomForestRegressor(random_state=42), n_jobs=-1,\n",
       "             param_grid={'max_depth': [10, 15, 20],\n",
       "                         'min_samples_leaf': [1000, 2000, 3000, 4000, 5000],\n",
       "                         'n_estimators': [1000, 2000, 3000, 4000, 5000]},\n",
       "             scoring='neg_mean_squared_error')"
      ]
     },
     "execution_count": 19,
     "metadata": {},
     "output_type": "execute_result"
    }
   ],
   "source": [
    "# Perform the grid search\n",
    "grid_search.fit(X, y)"
   ]
  },
  {
   "cell_type": "code",
   "execution_count": 20,
   "id": "2babc691",
   "metadata": {},
   "outputs": [],
   "source": [
    "# Get the best model\n",
    "best_rf = grid_search.best_estimator_"
   ]
  },
  {
   "cell_type": "code",
   "execution_count": 21,
   "id": "e6675176",
   "metadata": {},
   "outputs": [],
   "source": [
    "# Evaluate the best model\n",
    "y_pred = best_rf.predict(X_test)\n",
    "rf_mae = mean_absolute_error(y_test, rf_predictions)\n",
    "rf_mse = mean_squared_error(y_test, y_pred, squared=False)\n",
    "rf_rmse = np.sqrt(rf_mse)\n",
    "rf_r2 = r2_score(y_test, y_pred)"
   ]
  },
  {
   "cell_type": "code",
   "execution_count": 22,
   "id": "6286473f",
   "metadata": {},
   "outputs": [
    {
     "name": "stdout",
     "output_type": "stream",
     "text": [
      "RandomForest Best Parameters: {'max_depth': 10, 'min_samples_leaf': 5000, 'n_estimators': 1000}\n",
      "RandomForest MAE: 53384.065330367324\n",
      "RandomForest MSE: 57789.048789742956\n",
      "RandomForest RMSE: 240.3935290097114\n",
      "RandomForest R2: 0.000414716571723317\n"
     ]
    }
   ],
   "source": [
    "#Printing new RMSE and R2 values\n",
    "print(\"RandomForest Best Parameters:\", grid_search.best_params_)\n",
    "print(f\"RandomForest MAE: {rf_mae}\")\n",
    "print(f\"RandomForest MSE: {rf_mse}\")\n",
    "print(f\"RandomForest RMSE: {rf_rmse}\")\n",
    "print(f\"RandomForest R2: {rf_r2}\")"
   ]
  },
  {
   "cell_type": "markdown",
   "id": "aa8fe26b",
   "metadata": {},
   "source": [
    "# Gradient Boosting Regressor Model"
   ]
  },
  {
   "cell_type": "code",
   "execution_count": 23,
   "id": "466cdaf0",
   "metadata": {},
   "outputs": [],
   "source": [
    "from sklearn.ensemble import GradientBoostingRegressor"
   ]
  },
  {
   "cell_type": "markdown",
   "id": "b70aed1e",
   "metadata": {},
   "source": [
    "# Defining gradient boosting regressor model"
   ]
  },
  {
   "cell_type": "code",
   "execution_count": 24,
   "id": "276cfcd6",
   "metadata": {},
   "outputs": [],
   "source": [
    "gb_model = GradientBoostingRegressor(random_state=42)"
   ]
  },
  {
   "cell_type": "markdown",
   "id": "b135200d",
   "metadata": {},
   "source": [
    "# Reading the dataset "
   ]
  },
  {
   "cell_type": "code",
   "execution_count": 25,
   "id": "c46f919c",
   "metadata": {},
   "outputs": [],
   "source": [
    "gb_df = pd.read_csv(\"/data/insurance_data_encoded1L.csv\")"
   ]
  },
  {
   "cell_type": "code",
   "execution_count": 26,
   "id": "de4ffad1",
   "metadata": {},
   "outputs": [
    {
     "name": "stdout",
     "output_type": "stream",
     "text": [
      "       Unnamed: 0  Age  Gender    Region  PolicyYears  PolicyType  \\\n",
      "0               0   74  Female  Suburban            3  Disability   \n",
      "1               1   57    Male     Urban            5        Auto   \n",
      "2               2   50  Female     Urban            7        Home   \n",
      "3               3   41    Male  Suburban            5  Disability   \n",
      "4               4   30  Female     Urban           12        Home   \n",
      "...           ...  ...     ...       ...          ...         ...   \n",
      "99995       99995   37    Male  Suburban            4      Health   \n",
      "99996       99996   76  Female     Urban           15        Life   \n",
      "99997       99997   72  Female  Suburban            3  Disability   \n",
      "99998       99998   56  Female     Urban            1      Health   \n",
      "99999       99999   42    Male  Suburban            3        Home   \n",
      "\n",
      "       PastClaimsCount  PastClaimsAmount  gender_ordinal  region_ordinal  \\\n",
      "0                    6     190278.786408               2               2   \n",
      "1                    8      22898.691890               1               1   \n",
      "2                    6      97428.022348               2               1   \n",
      "3                    8     157788.150754               1               2   \n",
      "4                    7      50387.853559               2               1   \n",
      "...                ...               ...             ...             ...   \n",
      "99995                8      20217.518345               1               2   \n",
      "99996                7     108615.103478               2               1   \n",
      "99997               10       3629.550165               2               2   \n",
      "99998                1      52124.003754               2               1   \n",
      "99999                9      81440.027078               1               2   \n",
      "\n",
      "       pol_type_ordinal  \n",
      "0                     5  \n",
      "1                     3  \n",
      "2                     4  \n",
      "3                     5  \n",
      "4                     4  \n",
      "...                 ...  \n",
      "99995                 1  \n",
      "99996                 2  \n",
      "99997                 5  \n",
      "99998                 1  \n",
      "99999                 4  \n",
      "\n",
      "[100000 rows x 11 columns]\n"
     ]
    }
   ],
   "source": [
    "print(gb_df)"
   ]
  },
  {
   "cell_type": "markdown",
   "id": "8c84bb7b",
   "metadata": {},
   "source": [
    "# Defining train test data split function"
   ]
  },
  {
   "cell_type": "code",
   "execution_count": 27,
   "id": "c87417b0",
   "metadata": {},
   "outputs": [],
   "source": [
    "X= gb_df[['Age','gender_ordinal','region_ordinal','PolicyYears','pol_type_ordinal','PastClaimsCount']] \n",
    "y= gb_df['PastClaimsAmount']"
   ]
  },
  {
   "cell_type": "code",
   "execution_count": 28,
   "id": "7e0027d1",
   "metadata": {},
   "outputs": [],
   "source": [
    "# using the train test split function \n",
    "X_train, X_test, y_train, y_test = train_test_split(X,y , \n",
    "                                   random_state=42,  \n",
    "                                   test_size=0.2,  \n",
    "                                   shuffle=True)"
   ]
  },
  {
   "cell_type": "markdown",
   "id": "043d3ca4",
   "metadata": {},
   "source": [
    "# Model training"
   ]
  },
  {
   "cell_type": "code",
   "execution_count": 29,
   "id": "47c7458b",
   "metadata": {},
   "outputs": [
    {
     "data": {
      "text/html": [
       "<style>#sk-container-id-3 {color: black;background-color: white;}#sk-container-id-3 pre{padding: 0;}#sk-container-id-3 div.sk-toggleable {background-color: white;}#sk-container-id-3 label.sk-toggleable__label {cursor: pointer;display: block;width: 100%;margin-bottom: 0;padding: 0.3em;box-sizing: border-box;text-align: center;}#sk-container-id-3 label.sk-toggleable__label-arrow:before {content: \"▸\";float: left;margin-right: 0.25em;color: #696969;}#sk-container-id-3 label.sk-toggleable__label-arrow:hover:before {color: black;}#sk-container-id-3 div.sk-estimator:hover label.sk-toggleable__label-arrow:before {color: black;}#sk-container-id-3 div.sk-toggleable__content {max-height: 0;max-width: 0;overflow: hidden;text-align: left;background-color: #f0f8ff;}#sk-container-id-3 div.sk-toggleable__content pre {margin: 0.2em;color: black;border-radius: 0.25em;background-color: #f0f8ff;}#sk-container-id-3 input.sk-toggleable__control:checked~div.sk-toggleable__content {max-height: 200px;max-width: 100%;overflow: auto;}#sk-container-id-3 input.sk-toggleable__control:checked~label.sk-toggleable__label-arrow:before {content: \"▾\";}#sk-container-id-3 div.sk-estimator input.sk-toggleable__control:checked~label.sk-toggleable__label {background-color: #d4ebff;}#sk-container-id-3 div.sk-label input.sk-toggleable__control:checked~label.sk-toggleable__label {background-color: #d4ebff;}#sk-container-id-3 input.sk-hidden--visually {border: 0;clip: rect(1px 1px 1px 1px);clip: rect(1px, 1px, 1px, 1px);height: 1px;margin: -1px;overflow: hidden;padding: 0;position: absolute;width: 1px;}#sk-container-id-3 div.sk-estimator {font-family: monospace;background-color: #f0f8ff;border: 1px dotted black;border-radius: 0.25em;box-sizing: border-box;margin-bottom: 0.5em;}#sk-container-id-3 div.sk-estimator:hover {background-color: #d4ebff;}#sk-container-id-3 div.sk-parallel-item::after {content: \"\";width: 100%;border-bottom: 1px solid gray;flex-grow: 1;}#sk-container-id-3 div.sk-label:hover label.sk-toggleable__label {background-color: #d4ebff;}#sk-container-id-3 div.sk-serial::before {content: \"\";position: absolute;border-left: 1px solid gray;box-sizing: border-box;top: 0;bottom: 0;left: 50%;z-index: 0;}#sk-container-id-3 div.sk-serial {display: flex;flex-direction: column;align-items: center;background-color: white;padding-right: 0.2em;padding-left: 0.2em;position: relative;}#sk-container-id-3 div.sk-item {position: relative;z-index: 1;}#sk-container-id-3 div.sk-parallel {display: flex;align-items: stretch;justify-content: center;background-color: white;position: relative;}#sk-container-id-3 div.sk-item::before, #sk-container-id-3 div.sk-parallel-item::before {content: \"\";position: absolute;border-left: 1px solid gray;box-sizing: border-box;top: 0;bottom: 0;left: 50%;z-index: -1;}#sk-container-id-3 div.sk-parallel-item {display: flex;flex-direction: column;z-index: 1;position: relative;background-color: white;}#sk-container-id-3 div.sk-parallel-item:first-child::after {align-self: flex-end;width: 50%;}#sk-container-id-3 div.sk-parallel-item:last-child::after {align-self: flex-start;width: 50%;}#sk-container-id-3 div.sk-parallel-item:only-child::after {width: 0;}#sk-container-id-3 div.sk-dashed-wrapped {border: 1px dashed gray;margin: 0 0.4em 0.5em 0.4em;box-sizing: border-box;padding-bottom: 0.4em;background-color: white;}#sk-container-id-3 div.sk-label label {font-family: monospace;font-weight: bold;display: inline-block;line-height: 1.2em;}#sk-container-id-3 div.sk-label-container {text-align: center;}#sk-container-id-3 div.sk-container {/* jupyter's `normalize.less` sets `[hidden] { display: none; }` but bootstrap.min.css set `[hidden] { display: none !important; }` so we also need the `!important` here to be able to override the default hidden behavior on the sphinx rendered scikit-learn.org. See: https://github.com/scikit-learn/scikit-learn/issues/21755 */display: inline-block !important;position: relative;}#sk-container-id-3 div.sk-text-repr-fallback {display: none;}</style><div id=\"sk-container-id-3\" class=\"sk-top-container\"><div class=\"sk-text-repr-fallback\"><pre>GradientBoostingRegressor(random_state=42)</pre><b>In a Jupyter environment, please rerun this cell to show the HTML representation or trust the notebook. <br />On GitHub, the HTML representation is unable to render, please try loading this page with nbviewer.org.</b></div><div class=\"sk-container\" hidden><div class=\"sk-item\"><div class=\"sk-estimator sk-toggleable\"><input class=\"sk-toggleable__control sk-hidden--visually\" id=\"sk-estimator-id-5\" type=\"checkbox\" checked><label for=\"sk-estimator-id-5\" class=\"sk-toggleable__label sk-toggleable__label-arrow\">GradientBoostingRegressor</label><div class=\"sk-toggleable__content\"><pre>GradientBoostingRegressor(random_state=42)</pre></div></div></div></div></div>"
      ],
      "text/plain": [
       "GradientBoostingRegressor(random_state=42)"
      ]
     },
     "execution_count": 29,
     "metadata": {},
     "output_type": "execute_result"
    }
   ],
   "source": [
    "#Model training\n",
    "gb_model.fit(X_train, y_train)"
   ]
  },
  {
   "cell_type": "markdown",
   "id": "1e0afea6",
   "metadata": {},
   "source": [
    "# Evaluating Gradient boosting regressor model"
   ]
  },
  {
   "cell_type": "code",
   "execution_count": 30,
   "id": "c67b4efd",
   "metadata": {},
   "outputs": [],
   "source": [
    "gb_predictions = gb_model.predict(X_test)"
   ]
  },
  {
   "cell_type": "code",
   "execution_count": 31,
   "id": "751e6c76",
   "metadata": {},
   "outputs": [],
   "source": [
    "# Evaluation metrics\n",
    "from sklearn.metrics import mean_absolute_error, mean_squared_error, r2_score\n",
    "y_pred = gb_model.predict(X_test)\n",
    "gb_mae = mean_absolute_error(y_test, gb_predictions)\n",
    "gb_mse = mean_squared_error(y_test, y_pred, squared=False)\n",
    "gb_rmse = np.sqrt(gb_mse)\n",
    "gb_r2 = r2_score(y_test, y_pred)"
   ]
  },
  {
   "cell_type": "code",
   "execution_count": 32,
   "id": "f3cbbd60",
   "metadata": {},
   "outputs": [
    {
     "name": "stdout",
     "output_type": "stream",
     "text": [
      "GradientBoosting MAE: 50063.021964497515\n",
      "GradientBoosting MSE: 57815.4312109695\n",
      "GradientBoosting RMSE: 240.44839614971337\n",
      "GradientBoosting R2: -0.0004981726429131861\n"
     ]
    }
   ],
   "source": [
    "print(f\"GradientBoosting MAE: {gb_mae}\")\n",
    "print(f\"GradientBoosting MSE: {gb_mse}\")\n",
    "print(f\"GradientBoosting RMSE: {gb_rmse}\")\n",
    "print(f\"GradientBoosting R2: {gb_r2}\")"
   ]
  },
  {
   "cell_type": "markdown",
   "id": "14c64182",
   "metadata": {},
   "source": [
    "# Hyperparameter tuning using grid search technique"
   ]
  },
  {
   "cell_type": "code",
   "execution_count": 33,
   "id": "b76efc41",
   "metadata": {},
   "outputs": [],
   "source": [
    "#Fine tuning hyper parameters with GridSearch\n",
    "from sklearn.model_selection import GridSearchCV\n",
    "\n",
    "# Define the parameter grid to search\n",
    "param_grid = {\n",
    "    'n_estimators': [1000, 2000, 3000, 4000, 5000],\n",
    "    'max_depth': [10, 15, 20],\n",
    "    'min_samples_leaf': [1000, 2000, 3000, 4000, 5000]\n",
    "}\n",
    "\n",
    "# Initialize GridSearchCV\n",
    "grid_search = GridSearchCV(estimator=gb_model, param_grid=param_grid, cv=5, scoring='neg_mean_squared_error', n_jobs=-1)"
   ]
  },
  {
   "cell_type": "code",
   "execution_count": null,
   "id": "f5b1d8c3",
   "metadata": {},
   "outputs": [],
   "source": [
    "# Perform the grid search\n",
    "grid_search.fit(X, y)"
   ]
  },
  {
   "cell_type": "code",
   "execution_count": null,
   "id": "1117e35b",
   "metadata": {},
   "outputs": [],
   "source": [
    "# Get the best model\n",
    "best_gb = grid_search.best_estimator_\n",
    "\n",
    "# Evaluate the best model\n",
    "y_pred = best_gb.predict(X_test)\n",
    "gb_mae = mean_absolute_error(y_test, gb_predictions)\n",
    "gb_mse = mean_squared_error(y_test, y_pred, squared=False)\n",
    "gb_rmse = np.sqrt(gb_mse)\n",
    "gb_r2 = r2_score(y_test, y_pred)\n",
    "\n",
    "#Printing new RMSE and R2 values\n",
    "print(\"GradientBoosting Best Parameters:\", grid_search.best_params_)\n",
    "print(f\"GradientBoosting MAE: {gb_mae}\")\n",
    "print(f\"GradientBoosting MSE: {gb_mse}\")\n",
    "print(f\"GradientBoosting RMSE: {gb_rmse}\")\n",
    "print(f\"GradientBoosting R2: {gb_r2}\")"
   ]
  },
  {
   "cell_type": "code",
   "execution_count": null,
   "id": "e330c1f6",
   "metadata": {},
   "outputs": [],
   "source": [
    "# def rf_cv(n_estimators, max_depth):\n",
    "#     # Convert hyperparameters to integers\n",
    "#     n_estimators = int(n_estimators)\n",
    "#     max_depth = int(max_depth)\n",
    "    \n",
    "#     # Define the Gradient Boosting Regressor model with hyperparameters\n",
    "#     best_model = GradientBoostingRegressor(n_estimators=n_estimators, max_depth=max_depth)\n",
    "    \n",
    "#     # Use cross-validation to evaluate the model\n",
    "#     cv_score = cross_val_score(model, X, y, cv=5, scoring='neg_mean_squared_error').mean()\n",
    "    \n",
    "#     return cv_score"
   ]
  },
  {
   "cell_type": "code",
   "execution_count": null,
   "id": "5cb63be0",
   "metadata": {},
   "outputs": [],
   "source": [
    "# # Define the parameter space for Bayesian Optimization\n",
    "# pbounds = {'n_estimators': (10, 1000), 'max_depth': (1, 100)}\n",
    "\n",
    "# # Initialize BayesianOptimization\n",
    "# optimizer = BayesianOptimization(f=rf_cv, pbounds=pbounds, random_state=1)\n",
    "\n",
    "# # Perform the optimization\n",
    "# optimizer.maximize(init_points=5, n_iter=10)\n",
    "\n",
    "# # Print the best hyperparameters found\n",
    "# print(optimizer.max)"
   ]
  },
  {
   "cell_type": "code",
   "execution_count": null,
   "id": "ad0a385f",
   "metadata": {},
   "outputs": [],
   "source": [
    "# # Evaluate the byesian optimized model\n",
    "# bayesian_opt_model = GradientBoostingRegressor(n_estimators=n_estimators, max_depth=max_depth)\n",
    "# bayesian_opt_model.fit(X_train, y_train)"
   ]
  },
  {
   "cell_type": "code",
   "execution_count": null,
   "id": "97721b30",
   "metadata": {},
   "outputs": [],
   "source": [
    "# bayesian_opt_predictions = bayesian_opt_model.predict(X_test)\n",
    "# y_pred = bayesian_opt_model.predict(X_test)\n",
    "# bo_gb_mae = mean_absolute_error(y_test, bayesian_opt_predictions)\n",
    "# bo_gb_mse = mean_squared_error(y_test, y_pred, squared=False)\n",
    "# bo_gb_rmse = np.sqrt(bo_gb_mse)\n",
    "# bo_gb_r2 = r2_score(y_test, y_pred)\n",
    "\n",
    "# #Printing new RMSE and R2 values\n",
    "# print(f\"GradientBoosting MAE: {bo_gb_mae}\")\n",
    "# print(f\"GradientBoosting MSE: {bo_gb_mse}\")\n",
    "# print(f\"GradientBoosting RMSE: {bo_gb_rmse}\")\n",
    "# print(f\"GradientBoosting R2: {bo_gb_r2}\")"
   ]
  },
  {
   "cell_type": "markdown",
   "id": "cac4642b",
   "metadata": {},
   "source": [
    "# Gradient Boosting Regressor Model"
   ]
  },
  {
   "cell_type": "code",
   "execution_count": null,
   "id": "05d66e83",
   "metadata": {},
   "outputs": [],
   "source": [
    "from xgboost import XGBRegressor"
   ]
  },
  {
   "cell_type": "markdown",
   "id": "fd1716fb",
   "metadata": {},
   "source": [
    "# Defining XGBoost regressor model"
   ]
  },
  {
   "cell_type": "code",
   "execution_count": null,
   "id": "c56da403",
   "metadata": {},
   "outputs": [],
   "source": [
    "xgb_model = XGBRegressor(random_state=42)"
   ]
  },
  {
   "cell_type": "markdown",
   "id": "8360fab4",
   "metadata": {},
   "source": [
    "# Reading the dataset"
   ]
  },
  {
   "cell_type": "code",
   "execution_count": null,
   "id": "be3e43df",
   "metadata": {},
   "outputs": [],
   "source": [
    "xgb_df = pd.read_csv(\"/data/insurance_data_encoded.csv\")"
   ]
  },
  {
   "cell_type": "code",
   "execution_count": null,
   "id": "30560887",
   "metadata": {},
   "outputs": [],
   "source": [
    "print(xgb_df)"
   ]
  },
  {
   "cell_type": "markdown",
   "id": "373df36c",
   "metadata": {},
   "source": [
    "# Defining train test data split function"
   ]
  },
  {
   "cell_type": "code",
   "execution_count": null,
   "id": "e2126a53",
   "metadata": {},
   "outputs": [],
   "source": [
    "X= xgb_df[['Age','gender_ordinal','region_ordinal','PolicyYears','pol_type_ordinal','PastClaimsCount']] \n",
    "y= xgb_df['PastClaimsAmount']"
   ]
  },
  {
   "cell_type": "code",
   "execution_count": null,
   "id": "70c89fee",
   "metadata": {},
   "outputs": [],
   "source": [
    "# using the train test split function \n",
    "X_train, X_test, y_train, y_test = train_test_split(X,y , \n",
    "                                   random_state=20,  \n",
    "                                   test_size=0.3,  \n",
    "                                   shuffle=True)"
   ]
  },
  {
   "cell_type": "markdown",
   "id": "0230f9b7",
   "metadata": {},
   "source": [
    "# Model training"
   ]
  },
  {
   "cell_type": "code",
   "execution_count": null,
   "id": "e476a549",
   "metadata": {},
   "outputs": [],
   "source": [
    "#Model training\n",
    "xgb_model.fit(X_train, y_train)"
   ]
  },
  {
   "cell_type": "markdown",
   "id": "d946d833",
   "metadata": {},
   "source": [
    "# Evaluating XGBoost regressor model"
   ]
  },
  {
   "cell_type": "code",
   "execution_count": null,
   "id": "e28333e6",
   "metadata": {},
   "outputs": [],
   "source": [
    "xgb_predictions = xgb_model.predict(X_test)"
   ]
  },
  {
   "cell_type": "code",
   "execution_count": null,
   "id": "24e2a3a1",
   "metadata": {},
   "outputs": [],
   "source": [
    "# Evaluation metrics\n",
    "from sklearn.metrics import mean_absolute_error, mean_squared_error, r2_score\n",
    "y_pred = xgb_model.predict(X_test)\n",
    "xgb_mae = mean_absolute_error(y_test, xgb_predictions)\n",
    "xgb_mse = mean_squared_error(y_test, y_pred, squared=False)\n",
    "xgb_rmse = np.sqrt(xgb_mse)\n",
    "xgb_r2 = r2_score(y_test, y_pred)"
   ]
  },
  {
   "cell_type": "code",
   "execution_count": null,
   "id": "aff3917f",
   "metadata": {},
   "outputs": [],
   "source": [
    "print(f\"XGBoost MAE: {xgb_mae}\")\n",
    "print(f\"XGBoost MSE: {xgb_mse}\")\n",
    "print(f\"XGBoost RMSE: {xgb_rmse}\")\n",
    "print(f\"XGBoost R2: {xgb_r2}\")"
   ]
  },
  {
   "cell_type": "markdown",
   "id": "2196ea5a",
   "metadata": {},
   "source": [
    "# Hyperparameter tuning using grid search technique"
   ]
  },
  {
   "cell_type": "code",
   "execution_count": null,
   "id": "c1997733",
   "metadata": {},
   "outputs": [],
   "source": [
    "#Fine tuning hyper parameters with GridSearch\n",
    "from sklearn.model_selection import GridSearchCV\n",
    "\n",
    "# Define the parameter grid to search\n",
    "param_grid = {\n",
    "    'n_estimators': [500, 700, 1000],\n",
    "    'max_depth': [10, 15, 20],\n",
    "    'min_samples_leaf': [1, 2, 5]\n",
    "}\n",
    "\n",
    "# Initialize GridSearchCV\n",
    "grid_search = GridSearchCV(estimator=xgb_model, param_grid=param_grid, cv=5, scoring='neg_mean_squared_error', n_jobs=-1)"
   ]
  },
  {
   "cell_type": "code",
   "execution_count": null,
   "id": "004c65b5",
   "metadata": {},
   "outputs": [],
   "source": [
    "# Perform the grid search\n",
    "grid_search.fit(X, y)"
   ]
  },
  {
   "cell_type": "code",
   "execution_count": null,
   "id": "a391cbef",
   "metadata": {},
   "outputs": [],
   "source": [
    "# Get the best model\n",
    "best_xgb = grid_search.best_estimator_\n",
    "\n",
    "# Evaluate the best model\n",
    "y_pred = best_xgb.predict(X_test)\n",
    "xgb_mae = mean_absolute_error(y_test, xgb_predictions)\n",
    "xgb_mse = mean_squared_error(y_test, y_pred, squared=False)\n",
    "xgb_rmse = np.sqrt(xgb_mse)\n",
    "xgb_r2 = r2_score(y_test, y_pred)\n",
    "\n",
    "#Printing new RMSE and R2 values\n",
    "print(\"XGBoost Best Parameters:\", grid_search.best_params_)\n",
    "print(f\"XGBoost MAE: {xgb_mae}\")\n",
    "print(f\"XGBoost MSE: {xgb_mse}\")\n",
    "print(f\"XGBoost RMSE: {xgb_rmse}\")\n",
    "print(f\"XGBoost R2: {xgb_r2}\")"
   ]
  },
  {
   "cell_type": "code",
   "execution_count": null,
   "id": "4d8f0903",
   "metadata": {},
   "outputs": [],
   "source": [
    "# xgb_tuned = XGBRegressor(\n",
    "#     max_depth= 15, \n",
    "#     min_samples_leaf= 2, \n",
    "#     n_estimators= 1000,\n",
    "#     learning_rate=0.1,\n",
    "#     subsample=0.8,\n",
    "#     colsample_bytree=0.8,\n",
    "#     random_state=42\n",
    "# )"
   ]
  },
  {
   "cell_type": "code",
   "execution_count": null,
   "id": "53d34000",
   "metadata": {},
   "outputs": [],
   "source": [
    "# xgb_tuned.fit(X_train, y_train)"
   ]
  },
  {
   "cell_type": "code",
   "execution_count": null,
   "id": "a179e4e1",
   "metadata": {},
   "outputs": [],
   "source": [
    "# # Evaluate the tuned model\n",
    "# y_pred = best_xgb.predict(X_test)\n",
    "# xgb_mae = mean_absolute_error(y_test, xgb_predictions)\n",
    "# xgb_mse = mean_squared_error(y_test, y_pred, squared=False)\n",
    "# xgb_rmse = np.sqrt(xgb_mse)\n",
    "# xgb_r2 = r2_score(y_test, y_pred)\n",
    "\n",
    "# #Printing new RMSE and R2 values\n",
    "# print(f\"XGBoost MAE: {xgb_mae}\")\n",
    "# print(f\"XGBoost MSE: {xgb_mse}\")\n",
    "# print(f\"XGBoost RMSE: {xgb_rmse}\")\n",
    "# print(f\"XGBoost R2: {xgb_r2}\")"
   ]
  },
  {
   "cell_type": "markdown",
   "id": "d978f62a",
   "metadata": {},
   "source": [
    "# Export best model and create final predictions csv"
   ]
  },
  {
   "cell_type": "code",
   "execution_count": null,
   "id": "66816fc1",
   "metadata": {},
   "outputs": [],
   "source": [
    "import joblib"
   ]
  },
  {
   "cell_type": "code",
   "execution_count": null,
   "id": "51cf482b",
   "metadata": {},
   "outputs": [],
   "source": [
    "# As per the parameter comparison, Gradient boosting model is best performing model\n",
    "joblib.dump(gb_model, '/data/best_model.joblib')"
   ]
  },
  {
   "cell_type": "code",
   "execution_count": null,
   "id": "b4524951",
   "metadata": {},
   "outputs": [],
   "source": [
    "final_predictions_df = X_test.copy()  # Start with the test features\n",
    "final_predictions_df['Actual'] = y_test  # Add the actual target values\n",
    "final_predictions_df['Predicted'] = gb_model.predict(X_test)  # Add the model's predictions"
   ]
  },
  {
   "cell_type": "code",
   "execution_count": null,
   "id": "e4882996",
   "metadata": {},
   "outputs": [],
   "source": [
    "final_predictions_df.to_csv('/data/final_predictions5k.csv', index=False)"
   ]
  },
  {
   "cell_type": "code",
   "execution_count": null,
   "id": "f486a1c0",
   "metadata": {},
   "outputs": [],
   "source": []
  }
 ],
 "metadata": {
  "kernelspec": {
   "display_name": "Python 3",
   "language": "python",
   "name": "python3"
  },
  "language_info": {
   "codemirror_mode": {
    "name": "ipython",
    "version": 3
   },
   "file_extension": ".py",
   "mimetype": "text/x-python",
   "name": "python",
   "nbconvert_exporter": "python",
   "pygments_lexer": "ipython3",
   "version": "3.8.18"
  }
 },
 "nbformat": 4,
 "nbformat_minor": 5
}
