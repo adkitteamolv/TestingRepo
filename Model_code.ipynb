{
 "cells": [
  {
   "cell_type": "code",
   "execution_count": 4,
   "id": "c56eef5a",
   "metadata": {},
   "outputs": [
    {
     "name": "stdout",
     "output_type": "stream",
     "text": [
      "aiohttp==3.9.1\r\n",
      "aiosignal==1.3.1\r\n",
      "alembic==1.13.1\r\n",
      "anyio==4.2.0\r\n",
      "argon2-cffi==23.1.0\r\n",
      "argon2-cffi-bindings==21.2.0\r\n",
      "asn1crypto==1.5.1\r\n",
      "asttokens==2.4.1\r\n",
      "async-generator==1.10\r\n",
      "async-timeout==4.0.3\r\n",
      "attrs==23.2.0\r\n",
      "Babel==2.9.1\r\n",
      "backcall==0.2.0\r\n",
      "beautifulsoup4==4.12.2\r\n",
      "bleach==4.1.0\r\n",
      "blinker==1.7.0\r\n",
      "bqplot==0.12.42\r\n",
      "Brotli==1.0.9\r\n",
      "certifi==2024.2.2\r\n",
      "certipy==0.1.3\r\n",
      "cffi==1.16.0\r\n",
      "charset-normalizer==3.3.2\r\n",
      "click==8.1.7\r\n",
      "cloudpickle==2.2.1\r\n",
      "comm==0.2.1\r\n",
      "conda==4.11.0\r\n",
      "conda-package-handling==2.2.0\r\n",
      "conda-package-streaming==0.9.0\r\n",
      "contourpy==1.1.1\r\n",
      "cryptography==41.0.7\r\n",
      "cycler==0.12.1\r\n",
      "databricks-cli==0.18.0\r\n",
      "deap==1.4.1\r\n",
      "decorator==5.1.1\r\n",
      "defusedxml==0.7.1\r\n",
      "docker==6.1.3\r\n",
      "entrypoints==0.4\r\n",
      "exceptiongroup==1.2.0\r\n",
      "executing==2.0.1\r\n",
      "fastjsonschema==2.19.1\r\n",
      "filelock==3.13.1\r\n",
      "flask==2.3.3\r\n",
      "fonttools==4.49.0\r\n",
      "frozenlist==1.4.1\r\n",
      "gitdb==4.0.11\r\n",
      "GitPython==3.1.42\r\n",
      "greenlet==3.0.3\r\n",
      "gunicorn==21.2.0\r\n",
      "idna==3.6\r\n",
      "importlib-metadata==6.11.0\r\n",
      "importlib-resources==6.1.2\r\n",
      "ipykernel==5.5.5\r\n",
      "ipython==8.12.3\r\n",
      "ipython-genutils==0.2.0\r\n",
      "ipywidgets==8.1.1\r\n",
      "itsdangerous==2.1.2\r\n",
      "jedi==0.19.1\r\n",
      "Jinja2==3.1.3\r\n",
      "joblib==1.3.2\r\n",
      "json5==0.9.14\r\n",
      "jsonschema==4.19.0\r\n",
      "jsonschema-specifications==2023.12.1\r\n",
      "jupyter-client==8.6.0\r\n",
      "jupyter-core==5.7.1\r\n",
      "jupyter-events==0.9.0\r\n",
      "jupyter-lsp==2.2.1\r\n",
      "jupyter-server==2.7.3\r\n",
      "jupyter-server-proxy==4.1.0\r\n",
      "jupyter-server-terminals==0.5.1\r\n",
      "jupyter-telemetry==0.1.0\r\n",
      "jupyterhub==1.5.0\r\n",
      "jupyterlab==3.2.4\r\n",
      "jupyterlab-pygments==0.3.0\r\n",
      "jupyterlab-server==2.25.2\r\n",
      "jupyterlab-widgets==3.0.9\r\n",
      "kiwisolver==1.4.5\r\n",
      "Mako==1.3.2\r\n",
      "Markdown==3.5.2\r\n",
      "MarkupSafe==2.1.5\r\n",
      "matplotlib==3.7.5\r\n",
      "matplotlib-inline==0.1.6\r\n",
      "mistune==3.0.2\r\n",
      "mlflow==2.6.0\r\n",
      "multidict==6.0.4\r\n",
      "nbclassic==0.5.6\r\n",
      "nbclient==0.5.4\r\n",
      "nbconvert==7.14.0\r\n",
      "nbformat==5.9.2\r\n",
      "nest-asyncio==1.5.8\r\n",
      "notebook==6.4.10\r\n",
      "notebook-shim==0.2.3\r\n",
      "numpy==1.24.4\r\n",
      "oauthlib==3.2.2\r\n",
      "overrides==7.4.0\r\n",
      "packaging==23.2\r\n",
      "pamela==1.1.0\r\n",
      "pandas==2.0.3\r\n",
      "pandocfilters==1.5.0\r\n",
      "parso==0.8.3\r\n",
      "pexpect==4.9.0\r\n",
      "pickleshare==0.7.5\r\n",
      "pillow==10.2.0\r\n",
      "pkgutil-resolve-name==1.3.10\r\n",
      "platformdirs==3.11.0\r\n",
      "prometheus-client==0.19.0\r\n",
      "prompt-toolkit==3.0.43\r\n",
      "protobuf==4.25.3\r\n",
      "ptyprocess==0.7.0\r\n",
      "pure-eval==0.2.2\r\n",
      "pyarrow==15.0.0\r\n",
      "pycosat==0.6.6\r\n",
      "pycparser==2.21\r\n",
      "pygments==2.17.2\r\n",
      "PyJWT==2.8.0\r\n",
      "pyOpenSSL==23.3.0\r\n",
      "pyparsing==3.1.2\r\n",
      "PySocks==1.7.1\r\n",
      "python-dateutil==2.9.0.post0\r\n",
      "python-json-logger==2.0.7\r\n",
      "pytz==2024.1\r\n",
      "PyYAML==6.0.1\r\n",
      "pyzmq==25.1.2\r\n",
      "querystring-parser==1.2.4\r\n",
      "referencing==0.32.1\r\n",
      "refract-mlflow-plugin==1.0.2\r\n",
      "refractio==2.1.5.2\r\n",
      "requests==2.31.0\r\n",
      "rfc3339-validator==0.1.4\r\n",
      "rfc3986-validator==0.1.1\r\n",
      "rpds-py==0.16.2\r\n",
      "ruamel-yaml-conda==0.15.100\r\n",
      "ruamel.yaml==0.16.9\r\n",
      "ruamel.yaml.clib==0.2.8\r\n",
      "scikit-learn==1.3.2\r\n",
      "scipy==1.10.1\r\n",
      "seaborn==0.13.2\r\n",
      "Send2Trash==1.8.2\r\n",
      "simpervisor==1.0.0\r\n",
      "six==1.16.0\r\n",
      "smmap==5.0.1\r\n",
      "sniffio==1.3.0\r\n",
      "snowflake-connector-python==3.6.0\r\n",
      "sortedcontainers==2.4.0\r\n",
      "soupsieve==2.5\r\n",
      "SQLAlchemy==2.0.28\r\n",
      "sqlparse==0.4.4\r\n",
      "stack-data==0.6.3\r\n",
      "stopit==1.1.2\r\n",
      "tabulate==0.9.0\r\n",
      "terminado==0.18.0\r\n",
      "threadpoolctl==3.3.0\r\n",
      "tinycss2==1.2.1\r\n",
      "tomlkit==0.12.4\r\n",
      "tornado==6.4\r\n",
      "TPOT==0.12.1\r\n",
      "tqdm==4.66.2\r\n",
      "traitlets==5.9.0\r\n",
      "traittypes==0.2.1\r\n",
      "typing-extensions==4.10.0\r\n",
      "tzdata==2024.1\r\n",
      "update-checker==0.18.0\r\n",
      "urllib3==2.2.1\r\n",
      "wcwidth==0.2.13\r\n",
      "webencodings==0.5.1\r\n",
      "websocket-client==1.7.0\r\n",
      "werkzeug==3.0.1\r\n",
      "widgetsnbextension==4.0.9\r\n",
      "xgboost==2.0.3\r\n",
      "yarl==1.9.4\r\n",
      "zipp==3.17.0\r\n",
      "zstandard==0.19.0\r\n"
     ]
    }
   ],
   "source": [
    "# !pip install matplotlib\n",
    "# !pip install seaborn\n",
    "!pip freeze"
   ]
  },
  {
   "cell_type": "code",
   "execution_count": 3,
   "id": "071c50c6",
   "metadata": {},
   "outputs": [],
   "source": [
    "import numpy as np # linear algebra\n",
    "import pandas as pd # data processing, CSV file I/O (e.g. pd.read_csv)\n",
    "import matplotlib.pyplot as plt\n",
    "import seaborn as sns\n",
    "import warnings\n",
    "from sklearn.model_selection import train_test_split\n",
    "from sklearn.tree import DecisionTreeClassifier\n",
    "from sklearn.metrics import precision_score\n",
    "from sklearn.tree import export_graphviz\n",
    "from sklearn.metrics import recall_score\n",
    "import os"
   ]
  },
  {
   "cell_type": "code",
   "execution_count": 4,
   "id": "2ad99b81",
   "metadata": {},
   "outputs": [
    {
     "data": {
      "text/html": [
       "<div>\n",
       "<style scoped>\n",
       "    .dataframe tbody tr th:only-of-type {\n",
       "        vertical-align: middle;\n",
       "    }\n",
       "\n",
       "    .dataframe tbody tr th {\n",
       "        vertical-align: top;\n",
       "    }\n",
       "\n",
       "    .dataframe thead th {\n",
       "        text-align: right;\n",
       "    }\n",
       "</style>\n",
       "<table border=\"1\" class=\"dataframe\">\n",
       "  <thead>\n",
       "    <tr style=\"text-align: right;\">\n",
       "      <th></th>\n",
       "      <th>satisfaction_level</th>\n",
       "      <th>last_evaluation</th>\n",
       "      <th>number_project</th>\n",
       "      <th>average_montly_hours</th>\n",
       "      <th>time_spend_company</th>\n",
       "      <th>Work_accident</th>\n",
       "      <th>left</th>\n",
       "      <th>promotion_last_5years</th>\n",
       "      <th>Department</th>\n",
       "      <th>salary</th>\n",
       "    </tr>\n",
       "  </thead>\n",
       "  <tbody>\n",
       "    <tr>\n",
       "      <th>0</th>\n",
       "      <td>0.38</td>\n",
       "      <td>0.53</td>\n",
       "      <td>2</td>\n",
       "      <td>157</td>\n",
       "      <td>3</td>\n",
       "      <td>0</td>\n",
       "      <td>1</td>\n",
       "      <td>0</td>\n",
       "      <td>sales</td>\n",
       "      <td>low</td>\n",
       "    </tr>\n",
       "    <tr>\n",
       "      <th>1</th>\n",
       "      <td>0.80</td>\n",
       "      <td>0.86</td>\n",
       "      <td>5</td>\n",
       "      <td>262</td>\n",
       "      <td>6</td>\n",
       "      <td>0</td>\n",
       "      <td>1</td>\n",
       "      <td>0</td>\n",
       "      <td>sales</td>\n",
       "      <td>medium</td>\n",
       "    </tr>\n",
       "    <tr>\n",
       "      <th>2</th>\n",
       "      <td>0.11</td>\n",
       "      <td>0.88</td>\n",
       "      <td>7</td>\n",
       "      <td>272</td>\n",
       "      <td>4</td>\n",
       "      <td>0</td>\n",
       "      <td>1</td>\n",
       "      <td>0</td>\n",
       "      <td>sales</td>\n",
       "      <td>medium</td>\n",
       "    </tr>\n",
       "    <tr>\n",
       "      <th>3</th>\n",
       "      <td>0.72</td>\n",
       "      <td>0.87</td>\n",
       "      <td>5</td>\n",
       "      <td>223</td>\n",
       "      <td>5</td>\n",
       "      <td>0</td>\n",
       "      <td>1</td>\n",
       "      <td>0</td>\n",
       "      <td>sales</td>\n",
       "      <td>low</td>\n",
       "    </tr>\n",
       "    <tr>\n",
       "      <th>4</th>\n",
       "      <td>0.37</td>\n",
       "      <td>0.52</td>\n",
       "      <td>2</td>\n",
       "      <td>159</td>\n",
       "      <td>3</td>\n",
       "      <td>0</td>\n",
       "      <td>1</td>\n",
       "      <td>0</td>\n",
       "      <td>sales</td>\n",
       "      <td>low</td>\n",
       "    </tr>\n",
       "  </tbody>\n",
       "</table>\n",
       "</div>"
      ],
      "text/plain": [
       "   satisfaction_level  last_evaluation  number_project  average_montly_hours  \\\n",
       "0                0.38             0.53               2                   157   \n",
       "1                0.80             0.86               5                   262   \n",
       "2                0.11             0.88               7                   272   \n",
       "3                0.72             0.87               5                   223   \n",
       "4                0.37             0.52               2                   159   \n",
       "\n",
       "   time_spend_company  Work_accident  left  promotion_last_5years Department  \\\n",
       "0                   3              0     1                      0      sales   \n",
       "1                   6              0     1                      0      sales   \n",
       "2                   4              0     1                      0      sales   \n",
       "3                   5              0     1                      0      sales   \n",
       "4                   3              0     1                      0      sales   \n",
       "\n",
       "   salary  \n",
       "0     low  \n",
       "1  medium  \n",
       "2  medium  \n",
       "3     low  \n",
       "4     low  "
      ]
     },
     "execution_count": 4,
     "metadata": {},
     "output_type": "execute_result"
    }
   ],
   "source": [
    "df=pd.read_csv(\"/data/HR_comma_sep.csv\")\n",
    "df.head(5)"
   ]
  },
  {
   "cell_type": "code",
   "execution_count": 5,
   "id": "102f2b50",
   "metadata": {},
   "outputs": [
    {
     "name": "stdout",
     "output_type": "stream",
     "text": [
      "<class 'pandas.core.frame.DataFrame'>\n",
      "RangeIndex: 14999 entries, 0 to 14998\n",
      "Data columns (total 10 columns):\n",
      " #   Column                 Non-Null Count  Dtype  \n",
      "---  ------                 --------------  -----  \n",
      " 0   satisfaction_level     14999 non-null  float64\n",
      " 1   last_evaluation        14999 non-null  float64\n",
      " 2   number_project         14999 non-null  int64  \n",
      " 3   average_montly_hours   14999 non-null  int64  \n",
      " 4   time_spend_company     14999 non-null  int64  \n",
      " 5   Work_accident          14999 non-null  int64  \n",
      " 6   left                   14999 non-null  int64  \n",
      " 7   promotion_last_5years  14999 non-null  int64  \n",
      " 8   Department             14999 non-null  object \n",
      " 9   salary                 14999 non-null  object \n",
      "dtypes: float64(2), int64(6), object(2)\n",
      "memory usage: 1.1+ MB\n"
     ]
    }
   ],
   "source": [
    "df.info()"
   ]
  },
  {
   "cell_type": "code",
   "execution_count": 6,
   "id": "fc41e7bb",
   "metadata": {},
   "outputs": [
    {
     "data": {
      "text/plain": [
       "satisfaction_level       False\n",
       "last_evaluation          False\n",
       "number_project           False\n",
       "average_montly_hours     False\n",
       "time_spend_company       False\n",
       "Work_accident            False\n",
       "left                     False\n",
       "promotion_last_5years    False\n",
       "Department               False\n",
       "salary                   False\n",
       "dtype: bool"
      ]
     },
     "metadata": {},
     "output_type": "display_data"
    }
   ],
   "source": [
    "display(df.isnull().any())"
   ]
  },
  {
   "cell_type": "code",
   "execution_count": 7,
   "id": "9b067715",
   "metadata": {},
   "outputs": [
    {
     "data": {
      "text/plain": [
       "array(['sales', 'accounting', 'hr', 'technical', 'support', 'management',\n",
       "       'IT', 'product_mng', 'marketing', 'RandD'], dtype=object)"
      ]
     },
     "execution_count": 7,
     "metadata": {},
     "output_type": "execute_result"
    }
   ],
   "source": [
    "df.Department.unique()"
   ]
  },
  {
   "cell_type": "code",
   "execution_count": 8,
   "id": "e5083e03",
   "metadata": {},
   "outputs": [
    {
     "data": {
      "text/plain": [
       "array(['low', 'medium', 'high'], dtype=object)"
      ]
     },
     "execution_count": 8,
     "metadata": {},
     "output_type": "execute_result"
    }
   ],
   "source": [
    "df.salary.unique()"
   ]
  },
  {
   "cell_type": "code",
   "execution_count": 9,
   "id": "9da0231e",
   "metadata": {},
   "outputs": [
    {
     "data": {
      "image/png": "[encoded data removed]",
      "text/plain": [
       "<Figure size 720x720 with 6 Axes>"
      ]
     },
     "metadata": {
      "needs_background": "light"
     },
     "output_type": "display_data"
    }
   ],
   "source": [
    "fig,ax = plt.subplots(2,3, figsize=(10,10))               # 'ax' has references to all the four axes\n",
    "sns.histplot(df['satisfaction_level'], ax = ax[0,0]) \n",
    "sns.histplot(df['last_evaluation'], ax = ax[0,1]) \n",
    "sns.histplot(df['number_project'], ax = ax[0,2]) \n",
    "sns.histplot(df['average_montly_hours'], ax = ax[1,0]) \n",
    "sns.histplot(df['time_spend_company'], ax = ax[1,1]) \n",
    "sns.histplot(df['promotion_last_5years'], ax = ax[1,2])\n",
    "plt.show()"
   ]
  },
  {
   "cell_type": "code",
   "execution_count": 10,
   "id": "52df0e33",
   "metadata": {},
   "outputs": [
    {
     "data": {
      "image/png": "[encoded data removed]",
      "text/plain": [
       "<Figure size 1080x504 with 1 Axes>"
      ]
     },
     "metadata": {
      "needs_background": "light"
     },
     "output_type": "display_data"
    }
   ],
   "source": [
    "fig = plt.figure(figsize=(15,7))\n",
    "sns.countplot(x='left',data=df)\n",
    "plt.show()"
   ]
  },
  {
   "cell_type": "code",
   "execution_count": 11,
   "id": "57721a49",
   "metadata": {},
   "outputs": [
    {
     "data": {
      "image/png": "[encoded data removed]",
      "text/plain": [
       "<Figure size 1080x504 with 1 Axes>"
      ]
     },
     "metadata": {
      "needs_background": "light"
     },
     "output_type": "display_data"
    }
   ],
   "source": [
    "fig = plt.figure(figsize=(15,7))\n",
    "sns.countplot(x='Department',data=df)\n",
    "plt.show()"
   ]
  },
  {
   "cell_type": "code",
   "execution_count": 12,
   "id": "bc856f36",
   "metadata": {},
   "outputs": [
    {
     "data": {
      "image/png": "[encoded data removed]",
      "text/plain": [
       "<Figure size 1080x504 with 1 Axes>"
      ]
     },
     "metadata": {
      "needs_background": "light"
     },
     "output_type": "display_data"
    }
   ],
   "source": [
    "fig = plt.figure(figsize=(15,7))\n",
    "sns.barplot(x='Department',y='left',data=df)\n",
    "plt.show()"
   ]
  },
  {
   "cell_type": "code",
   "execution_count": 13,
   "id": "72db9441",
   "metadata": {},
   "outputs": [
    {
     "name": "stdout",
     "output_type": "stream",
     "text": [
      "      IT  RandD  accounting     hr  management  marketing  product_mng  sales  \\\n",
      "0  False  False       False  False       False      False        False   True   \n",
      "1  False  False       False  False       False      False        False   True   \n",
      "2  False  False       False  False       False      False        False   True   \n",
      "3  False  False       False  False       False      False        False   True   \n",
      "4  False  False       False  False       False      False        False   True   \n",
      "\n",
      "   support  technical  \n",
      "0    False      False  \n",
      "1    False      False  \n",
      "2    False      False  \n",
      "3    False      False  \n",
      "4    False      False  \n"
     ]
    }
   ],
   "source": [
    "df.salary=df.salary.astype('category')\n",
    "df.salary=df.salary.cat.reorder_categories([\"low\", \"medium\", \"high\"])\n",
    "df.salary=df.salary.cat.codes\n",
    "\n",
    "# Get dummies and save them inside a new DataFrame\n",
    "departments = pd.get_dummies(df.Department)\n",
    "# Take a quick look to the first 5 rows of the new DataFrame called departments\n",
    "print(departments.head(5))"
   ]
  },
  {
   "cell_type": "code",
   "execution_count": 14,
   "id": "b55b74df",
   "metadata": {},
   "outputs": [
    {
     "data": {
      "text/html": [
       "<div>\n",
       "<style scoped>\n",
       "    .dataframe tbody tr th:only-of-type {\n",
       "        vertical-align: middle;\n",
       "    }\n",
       "\n",
       "    .dataframe tbody tr th {\n",
       "        vertical-align: top;\n",
       "    }\n",
       "\n",
       "    .dataframe thead th {\n",
       "        text-align: right;\n",
       "    }\n",
       "</style>\n",
       "<table border=\"1\" class=\"dataframe\">\n",
       "  <thead>\n",
       "    <tr style=\"text-align: right;\">\n",
       "      <th></th>\n",
       "      <th>satisfaction_level</th>\n",
       "      <th>last_evaluation</th>\n",
       "      <th>number_project</th>\n",
       "      <th>average_montly_hours</th>\n",
       "      <th>time_spend_company</th>\n",
       "      <th>Work_accident</th>\n",
       "      <th>left</th>\n",
       "      <th>promotion_last_5years</th>\n",
       "      <th>salary</th>\n",
       "      <th>IT</th>\n",
       "      <th>RandD</th>\n",
       "      <th>hr</th>\n",
       "      <th>management</th>\n",
       "      <th>marketing</th>\n",
       "      <th>product_mng</th>\n",
       "      <th>sales</th>\n",
       "      <th>support</th>\n",
       "      <th>technical</th>\n",
       "    </tr>\n",
       "  </thead>\n",
       "  <tbody>\n",
       "    <tr>\n",
       "      <th>0</th>\n",
       "      <td>0.38</td>\n",
       "      <td>0.53</td>\n",
       "      <td>2</td>\n",
       "      <td>157</td>\n",
       "      <td>3</td>\n",
       "      <td>0</td>\n",
       "      <td>1</td>\n",
       "      <td>0</td>\n",
       "      <td>0</td>\n",
       "      <td>False</td>\n",
       "      <td>False</td>\n",
       "      <td>False</td>\n",
       "      <td>False</td>\n",
       "      <td>False</td>\n",
       "      <td>False</td>\n",
       "      <td>True</td>\n",
       "      <td>False</td>\n",
       "      <td>False</td>\n",
       "    </tr>\n",
       "    <tr>\n",
       "      <th>1</th>\n",
       "      <td>0.80</td>\n",
       "      <td>0.86</td>\n",
       "      <td>5</td>\n",
       "      <td>262</td>\n",
       "      <td>6</td>\n",
       "      <td>0</td>\n",
       "      <td>1</td>\n",
       "      <td>0</td>\n",
       "      <td>1</td>\n",
       "      <td>False</td>\n",
       "      <td>False</td>\n",
       "      <td>False</td>\n",
       "      <td>False</td>\n",
       "      <td>False</td>\n",
       "      <td>False</td>\n",
       "      <td>True</td>\n",
       "      <td>False</td>\n",
       "      <td>False</td>\n",
       "    </tr>\n",
       "    <tr>\n",
       "      <th>2</th>\n",
       "      <td>0.11</td>\n",
       "      <td>0.88</td>\n",
       "      <td>7</td>\n",
       "      <td>272</td>\n",
       "      <td>4</td>\n",
       "      <td>0</td>\n",
       "      <td>1</td>\n",
       "      <td>0</td>\n",
       "      <td>1</td>\n",
       "      <td>False</td>\n",
       "      <td>False</td>\n",
       "      <td>False</td>\n",
       "      <td>False</td>\n",
       "      <td>False</td>\n",
       "      <td>False</td>\n",
       "      <td>True</td>\n",
       "      <td>False</td>\n",
       "      <td>False</td>\n",
       "    </tr>\n",
       "    <tr>\n",
       "      <th>3</th>\n",
       "      <td>0.72</td>\n",
       "      <td>0.87</td>\n",
       "      <td>5</td>\n",
       "      <td>223</td>\n",
       "      <td>5</td>\n",
       "      <td>0</td>\n",
       "      <td>1</td>\n",
       "      <td>0</td>\n",
       "      <td>0</td>\n",
       "      <td>False</td>\n",
       "      <td>False</td>\n",
       "      <td>False</td>\n",
       "      <td>False</td>\n",
       "      <td>False</td>\n",
       "      <td>False</td>\n",
       "      <td>True</td>\n",
       "      <td>False</td>\n",
       "      <td>False</td>\n",
       "    </tr>\n",
       "    <tr>\n",
       "      <th>4</th>\n",
       "      <td>0.37</td>\n",
       "      <td>0.52</td>\n",
       "      <td>2</td>\n",
       "      <td>159</td>\n",
       "      <td>3</td>\n",
       "      <td>0</td>\n",
       "      <td>1</td>\n",
       "      <td>0</td>\n",
       "      <td>0</td>\n",
       "      <td>False</td>\n",
       "      <td>False</td>\n",
       "      <td>False</td>\n",
       "      <td>False</td>\n",
       "      <td>False</td>\n",
       "      <td>False</td>\n",
       "      <td>True</td>\n",
       "      <td>False</td>\n",
       "      <td>False</td>\n",
       "    </tr>\n",
       "  </tbody>\n",
       "</table>\n",
       "</div>"
      ],
      "text/plain": [
       "   satisfaction_level  last_evaluation  number_project  average_montly_hours  \\\n",
       "0                0.38             0.53               2                   157   \n",
       "1                0.80             0.86               5                   262   \n",
       "2                0.11             0.88               7                   272   \n",
       "3                0.72             0.87               5                   223   \n",
       "4                0.37             0.52               2                   159   \n",
       "\n",
       "   time_spend_company  Work_accident  left  promotion_last_5years  salary  \\\n",
       "0                   3              0     1                      0       0   \n",
       "1                   6              0     1                      0       1   \n",
       "2                   4              0     1                      0       1   \n",
       "3                   5              0     1                      0       0   \n",
       "4                   3              0     1                      0       0   \n",
       "\n",
       "      IT  RandD     hr  management  marketing  product_mng  sales  support  \\\n",
       "0  False  False  False       False      False        False   True    False   \n",
       "1  False  False  False       False      False        False   True    False   \n",
       "2  False  False  False       False      False        False   True    False   \n",
       "3  False  False  False       False      False        False   True    False   \n",
       "4  False  False  False       False      False        False   True    False   \n",
       "\n",
       "   technical  \n",
       "0      False  \n",
       "1      False  \n",
       "2      False  \n",
       "3      False  \n",
       "4      False  "
      ]
     },
     "execution_count": 14,
     "metadata": {},
     "output_type": "execute_result"
    }
   ],
   "source": [
    "departments = departments.drop(\"accounting\", axis=1)\n",
    "df = df.drop(\"Department\", axis=1)\n",
    "df = df.join(departments)\n",
    "df.head(5)"
   ]
  },
  {
   "cell_type": "code",
   "execution_count": 15,
   "id": "28723487",
   "metadata": {},
   "outputs": [
    {
     "name": "stdout",
     "output_type": "stream",
     "text": [
      "left\n",
      "0    11428\n",
      "1     3571\n",
      "Name: count, dtype: int64\n",
      "left\n",
      "0    76.191746\n",
      "1    23.808254\n",
      "Name: count, dtype: float64\n"
     ]
    }
   ],
   "source": [
    "n_employees = len(df)\n",
    "\n",
    "# Print the number of employees who left/stayed\n",
    "print(df.left.value_counts())\n",
    "\n",
    "# Print the percentage of employees who left/stayed\n",
    "print(df.left.value_counts()/n_employees*100)"
   ]
  },
  {
   "cell_type": "code",
   "execution_count": 16,
   "id": "a9e167c5",
   "metadata": {},
   "outputs": [
    {
     "data": {
      "image/png": "[encoded data removed]",
      "text/plain": [
       "<Figure size 1080x504 with 2 Axes>"
      ]
     },
     "metadata": {
      "needs_background": "light"
     },
     "output_type": "display_data"
    }
   ],
   "source": [
    "fig = plt.figure(figsize=(15,7))\n",
    "cor_mat=df.corr()\n",
    "sns.heatmap(cor_mat)\n",
    "plt.show()"
   ]
  },
  {
   "cell_type": "code",
   "execution_count": 17,
   "id": "473fb7a9",
   "metadata": {},
   "outputs": [
    {
     "data": {
      "text/plain": [
       "97.22666666666666"
      ]
     },
     "execution_count": 17,
     "metadata": {},
     "output_type": "execute_result"
    }
   ],
   "source": [
    "target=df.left\n",
    "features=df.drop('left',axis=1)\n",
    "\n",
    "\n",
    "target_train, target_test, features_train, features_test = train_test_split(target,features,test_size=0.25,random_state=42)\n",
    "model = DecisionTreeClassifier(random_state=42)\n",
    "model.fit(features_train, target_train)\n",
    "model.score(features_train,target_train)*100\n",
    "model.score(features_test,target_test)*100"
   ]
  },
  {
   "cell_type": "code",
   "execution_count": 18,
   "id": "4611aff4",
   "metadata": {},
   "outputs": [],
   "source": [
    "first_rec = features_train.iloc[0]\n",
    "fd = first_rec.to_json()\n",
    "import json\n",
    "\n",
    "df = pd.json_normalize(json.loads(fd)) \n",
    "# print(pd.read_json(df, orient='index'))\n",
    "# #model.predict(fd)\n",
    "\n",
    "prediction = model.predict(df)"
   ]
  },
  {
   "cell_type": "code",
   "execution_count": 17,
   "id": "59409c0d",
   "metadata": {},
   "outputs": [
    {
     "name": "stdout",
     "output_type": "stream",
     "text": [
      "Collecting refractml\n",
      "  Using cached https://files.pythonhosted.org/packages/f9/0d/023d845cf453feb632b08435c91f7e5d050c0df73c5be66bdbbca2f6ba87/refractml-1.0.3-py2.py3-none-any.whl\n",
      "Collecting PyYAML==6.0\n",
      "  Using cached https://files.pythonhosted.org/packages/d7/42/7ad4b6d67a16229496d4f6e74201bdbebcf4bc1e87d5a70c9297d4961bd2/PyYAML-6.0-cp38-cp38-manylinux_2_5_x86_64.manylinux1_x86_64.manylinux_2_12_x86_64.manylinux2010_x86_64.whl\n",
      "Collecting requests-toolbelt==0.9.1\n",
      "  Using cached https://files.pythonhosted.org/packages/60/ef/7681134338fc097acef8d9b2f8abe0458e4d87559c689a8c306d0957ece5/requests_toolbelt-0.9.1-py2.py3-none-any.whl\n",
      "Collecting urllib3==1.26.15\n",
      "  Using cached https://files.pythonhosted.org/packages/7b/f5/890a0baca17a61c1f92f72b81d3c31523c99bec609e60c292ea55b387ae8/urllib3-1.26.15-py2.py3-none-any.whl\n",
      "Processing /home/mosaic-ai/.cache/pip/wheels/ab/d0/0e/613976a1b51b5654859e2a82ade64329859bce431e280f2a39/shutils-0.1.0-cp38-none-any.whl\n",
      "Collecting cloudpickle==1.6.0\n",
      "  Using cached https://files.pythonhosted.org/packages/e7/e3/898487e5dbeb612054cf2e0c188463acb358167fef749c53c8bb8918cea1/cloudpickle-1.6.0-py3-none-any.whl\n",
      "Collecting mosaic-utils\n",
      "  Using cached https://files.pythonhosted.org/packages/09/d7/8424b1dcaa5b1a2f824fc440aa1c4ef45e0bf6593d11b37962311614f365/mosaic_utils-1.0.2-py2.py3-none-any.whl\n",
      "Collecting requests<3.0.0,>=2.0.1\n",
      "  Using cached https://files.pythonhosted.org/packages/70/8e/0e2d847013cb52cd35b38c009bb167a1a26b2ce6cd6965bf26b47bc0bf44/requests-2.31.0-py3-none-any.whl\n",
      "Collecting configparser\n",
      "  Using cached https://files.pythonhosted.org/packages/bf/c1/c9d33f208bf25164ec315a571a9c0a6b71a5d38f364426db987cec12a152/configparser-6.0.1-py3-none-any.whl\n",
      "Collecting pymysql\n",
      "  Using cached https://files.pythonhosted.org/packages/e5/30/20467e39523d0cfc2b6227902d3687a16364307260c75e6a1cb4422b0c62/PyMySQL-1.1.0-py3-none-any.whl\n",
      "Collecting scikit-learn==1.2.1; python_version >= \"3.8\"\n",
      "  Using cached https://files.pythonhosted.org/packages/f0/95/0ea0a2412e33080a47ec02802210c008a7a540471581c95145f030d304b4/scikit_learn-1.2.1-cp38-cp38-manylinux_2_17_x86_64.manylinux2014_x86_64.whl\n",
      "Collecting certifi>=2017.4.17\n",
      "  Using cached https://files.pythonhosted.org/packages/ba/06/a07f096c664aeb9f01624f858c3add0a4e913d6c96257acb4fce61e7de14/certifi-2024.2.2-py3-none-any.whl\n",
      "Collecting idna<4,>=2.5\n",
      "  Using cached https://files.pythonhosted.org/packages/c2/e7/a82b05cf63a603df6e68d59ae6a68bf5064484a0718ea5033660af4b54a9/idna-3.6-py3-none-any.whl\n",
      "Collecting charset-normalizer<4,>=2\n",
      "  Using cached https://files.pythonhosted.org/packages/3d/09/d82fe4a34c5f0585f9ea1df090e2a71eb9bb1e469723053e1ee9f57c16f3/charset_normalizer-3.3.2-cp38-cp38-manylinux_2_17_x86_64.manylinux2014_x86_64.whl\n",
      "Collecting joblib>=1.1.1\n",
      "  Using cached https://files.pythonhosted.org/packages/10/40/d551139c85db202f1f384ba8bcf96aca2f329440a844f924c8a0040b6d02/joblib-1.3.2-py3-none-any.whl\n",
      "Collecting scipy>=1.3.2\n",
      "  Using cached https://files.pythonhosted.org/packages/69/f0/fb07a9548e48b687b8bf2fa81d71aba9cfc548d365046ca1c791e24db99d/scipy-1.10.1-cp38-cp38-manylinux_2_17_x86_64.manylinux2014_x86_64.whl\n",
      "Collecting threadpoolctl>=2.0.0\n",
      "  Using cached https://files.pythonhosted.org/packages/1e/84/ccd9b08653022b7785b6e3ee070ffb2825841e0dc119be22f0840b2b35cb/threadpoolctl-3.4.0-py3-none-any.whl\n",
      "Collecting numpy>=1.17.3\n",
      "  Using cached https://files.pythonhosted.org/packages/98/5d/5738903efe0ecb73e51eb44feafba32bdba2081263d40c5043568ff60faf/numpy-1.24.4-cp38-cp38-manylinux_2_17_x86_64.manylinux2014_x86_64.whl\n",
      "\u001b[31mERROR: jupyterlab-server 2.25.2 has requirement babel>=2.10, but you'll have babel 2.9.1 which is incompatible.\u001b[0m\n",
      "Installing collected packages: PyYAML, certifi, idna, urllib3, charset-normalizer, requests, requests-toolbelt, configparser, pymysql, shutils, cloudpickle, joblib, numpy, scipy, threadpoolctl, scikit-learn, mosaic-utils, refractml\n",
      "Successfully installed PyYAML-6.0 certifi-2024.2.2 charset-normalizer-3.3.2 cloudpickle-1.6.0 configparser-6.0.1 idna-3.6 joblib-1.3.2 mosaic-utils-1.0.2 numpy-1.24.4 pymysql-1.1.0 refractml-1.0.3 requests-2.31.0 requests-toolbelt-0.9.1 scikit-learn-1.2.1 scipy-1.10.1 shutils-0.1.0 threadpoolctl-3.4.0 urllib3-1.26.15\n",
      "\u001b[33mWARNING: You are using pip version 19.3.1; however, version 24.0 is available.\n",
      "You should consider upgrading via the 'pip install --upgrade pip' command.\u001b[0m\n",
      "Note: you may need to restart the kernel to use updated packages.\n"
     ]
    }
   ],
   "source": [
    "pip install refractml"
   ]
  },
  {
   "cell_type": "code",
   "execution_count": 19,
   "id": "a51634bd",
   "metadata": {},
   "outputs": [],
   "source": [
    "from refractml import *\n",
    "\n",
    "@scoring_func\n",
    "def score(model, request):\n",
    "    return model.predict(pd.json_normalize(request.json['payload']))[0]"
   ]
  },
  {
   "cell_type": "code",
   "execution_count": 20,
   "id": "b9470078",
   "metadata": {},
   "outputs": [
    {
     "name": "stdout",
     "output_type": "stream",
     "text": [
      "{'payload': {'satisfaction_level': 0.38, 'last_evaluation': 0.86, 'number_project': 6, 'average_montly_hours': 139, 'time_spend_company': 6, 'Work_accident': 0, 'promotion_last_5years': 0, 'salary': 1, 'IT': False, 'RandD': False, 'hr': False, 'management': False, 'marketing': False, 'product_mng': False, 'sales': False, 'support': False, 'technical': True}}\n"
     ]
    },
    {
     "data": {
      "text/plain": [
       "1"
      ]
     },
     "execution_count": 20,
     "metadata": {},
     "output_type": "execute_result"
    }
   ],
   "source": [
    "import requests\n",
    "req = requests.Request()\n",
    "req.json = {\"payload\":json.loads(fd)}\n",
    "print(req.json)\n",
    "score(model,req)"
   ]
  },
  {
   "cell_type": "code",
   "execution_count": 21,
   "id": "afe780b9",
   "metadata": {},
   "outputs": [],
   "source": [
    "from refractml.constants import MLModelFlavours\n",
    "y_true= target_test\n",
    "y_pred = model.predict(features_test)\n",
    "prob = model.predict_proba(features_test)"
   ]
  },
  {
   "cell_type": "code",
   "execution_count": 22,
   "id": "ddedd30a",
   "metadata": {},
   "outputs": [],
   "source": [
    "%%capture myout\n",
    "register_model(\n",
    "    model,\n",
    "    score,\n",
    "    \"employee_churn_model\",\n",
    "    \"This model is used to predict the salary category of the empolyee\",\n",
    "    MLModelFlavours.sklearn,\n",
    "    init_script=\"mkdir abc \\\\n cd abc \\\\n touch abc.txt\",\n",
    "    y_true=target_test,\n",
    "    y_pred=model.predict(features_test),\n",
    "    prob=prob,\n",
    "    input_type=\"json\",\n",
    "    model_type = \"classification\",\n",
    "    x_train=features_train, \n",
    "    y_train=target_train, \n",
    "    x_test=features_test, \n",
    "    y_test=target_test)"
   ]
  },
  {
   "cell_type": "code",
   "execution_count": null,
   "id": "84b885aa",
   "metadata": {},
   "outputs": [],
   "source": []
  }
 ],
 "metadata": {
  "kernelspec": {
   "display_name": "Python 3",
   "language": "python",
   "name": "python3"
  },
  "language_info": {
   "codemirror_mode": {
    "name": "ipython",
    "version": 3
   },
   "file_extension": ".py",
   "mimetype": "text/x-python",
   "name": "python",
   "nbconvert_exporter": "python",
   "pygments_lexer": "ipython3",
   "version": "3.8.18"
  }
 },
 "nbformat": 4,
 "nbformat_minor": 5
}
