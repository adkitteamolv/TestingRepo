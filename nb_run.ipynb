{
 "cells": [
  {
   "cell_type": "code",
   "execution_count": null,
   "id": "9903c8d2",
   "metadata": {},
   "outputs": [],
   "source": [
    "import time\n",
    "\n",
    "print(\"Starting Run\")\n",
    "\n",
    "time.sleep(10)\n",
    "\n",
    "print(\"Ending Run\")"
   ]
  },
  {
   "cell_type": "code",
   "execution_count": null,
   "id": "62bfda12",
   "metadata": {},
   "outputs": [],
   "source": []
  }
 ],
 "metadata": {
  "kernelspec": {
   "display_name": "Python 3",
   "language": "python",
   "name": "python3"
  }
 },
 "nbformat": 4,
 "nbformat_minor": 5
}
