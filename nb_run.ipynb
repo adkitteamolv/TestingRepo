{
 "cells": [
  {
   "cell_type": "code",
   "execution_count": 1,
   "id": "9903c8d2",
   "metadata": {},
   "outputs": [
    {
     "name": "stdout",
     "output_type": "stream",
     "text": [
      "Starting Run\n",
      "Ending Run\n"
     ]
    }
   ],
   "source": [
    "import time\n",
    "\n",
    "print(\"Starting Run\")\n",
    "\n",
    "time.sleep(10)\n",
    "\n",
    "print(\"Ending Run\")"
   ]
  },
  {
   "cell_type": "code",
   "execution_count": 1,
   "id": "62bfda12",
   "metadata": {},
   "outputs": [
    {
     "name": "stdout",
     "output_type": "stream",
     "text": [
      "Hello\n"
     ]
    }
   ],
   "source": [
    "print(\"Hello\")"
   ]
  },
  {
   "cell_type": "code",
   "execution_count": null,
   "id": "11408ecd-37ba-46d6-84bd-42193de6b60e",
   "metadata": {},
   "outputs": [],
   "source": []
  }
 ],
 "metadata": {
  "kernelspec": {
   "display_name": "Python 3",
   "language": "python",
   "name": "python3"
  },
  "language_info": {
   "codemirror_mode": {
    "name": "ipython",
    "version": 3
   },
   "file_extension": ".py",
   "mimetype": "text/x-python",
   "name": "python",
   "nbconvert_exporter": "python",
   "pygments_lexer": "ipython3",
   "version": "3.8.18"
  }
 },
 "nbformat": 4,
 "nbformat_minor": 5
}
