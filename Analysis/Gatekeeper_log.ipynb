{
 "cells": [
  {
   "cell_type": "code",
   "execution_count": 1,
   "id": "31be45b1-e277-4cb5-ba26-78c3aa6e038f",
   "metadata": {},
   "outputs": [
    {
     "name": "stdout",
     "output_type": "stream",
     "text": [
      "Collecting opensearch-py\n",
      "\u001b[?25l  Downloading https://files.pythonhosted.org/packages/1f/5e/e1a19eb99313da69e92095858bf828ea849242e3562de6ccf6b88866c378/opensearch_py-2.5.0-py2.py3-none-any.whl (266kB)\n",
      "\u001b[K     |████████████████████████████████| 266kB 22.7MB/s eta 0:00:01\n",
      "\u001b[?25hCollecting six\n",
      "  Downloading https://files.pythonhosted.org/packages/d9/5a/e7c31adbe875f2abbb91bd84cf2dc52d792b5a01506781dbcf25c91daf11/six-1.16.0-py2.py3-none-any.whl\n",
      "Collecting certifi>=2022.12.07\n",
      "\u001b[?25l  Downloading https://files.pythonhosted.org/packages/ba/06/a07f096c664aeb9f01624f858c3add0a4e913d6c96257acb4fce61e7de14/certifi-2024.2.2-py3-none-any.whl (163kB)\n",
      "\u001b[K     |████████████████████████████████| 163kB 85.5MB/s eta 0:00:01\n",
      "\u001b[?25hCollecting requests<3.0.0,>=2.4.0\n",
      "\u001b[?25l  Downloading https://files.pythonhosted.org/packages/c3/20/748e38b466e0819491f0ce6e90ebe4184966ee304fe483e2c414b0f4ef07/requests-2.32.2-py3-none-any.whl (63kB)\n",
      "\u001b[K     |████████████████████████████████| 71kB 24.6MB/s eta 0:00:01\n",
      "\u001b[?25hCollecting urllib3<2,>=1.26.18\n",
      "\u001b[?25l  Downloading https://files.pythonhosted.org/packages/b0/53/aa91e163dcfd1e5b82d8a890ecf13314e3e149c05270cc644581f77f17fd/urllib3-1.26.18-py2.py3-none-any.whl (143kB)\n",
      "\u001b[K     |████████████████████████████████| 153kB 59.4MB/s eta 0:00:01\n",
      "\u001b[?25hCollecting python-dateutil\n",
      "\u001b[?25l  Downloading https://files.pythonhosted.org/packages/ec/57/56b9bcc3c9c6a792fcbaf139543cee77261f3651ca9da0c93f5c1221264b/python_dateutil-2.9.0.post0-py2.py3-none-any.whl (229kB)\n",
      "\u001b[K     |████████████████████████████████| 235kB 74.8MB/s eta 0:00:01\n",
      "\u001b[?25hCollecting charset-normalizer<4,>=2\n",
      "\u001b[?25l  Downloading https://files.pythonhosted.org/packages/98/69/5d8751b4b670d623aa7a47bef061d69c279e9f922f6705147983aa76c3ce/charset_normalizer-3.3.2-cp39-cp39-manylinux_2_17_x86_64.manylinux2014_x86_64.whl (142kB)\n",
      "\u001b[K     |████████████████████████████████| 143kB 68.9MB/s eta 0:00:01\n",
      "\u001b[?25hCollecting idna<4,>=2.5\n",
      "\u001b[?25l  Downloading https://files.pythonhosted.org/packages/e5/3e/741d8c82801c347547f8a2a06aa57dbb1992be9e948df2ea0eda2c8b79e8/idna-3.7-py3-none-any.whl (66kB)\n",
      "\u001b[K     |████████████████████████████████| 71kB 23.8MB/s eta 0:00:01\n",
      "\u001b[31mERROR: openapi-schema-validator 0.6.2 has requirement jsonschema<5.0.0,>=4.19.1, but you'll have jsonschema 4.19.0 which is incompatible.\u001b[0m\n",
      "\u001b[31mERROR: mosaic-ai-client 1.0.0 has requirement matplotlib==3.1.1, but you'll have matplotlib 3.6.0 which is incompatible.\u001b[0m\n",
      "\u001b[31mERROR: jsonschema-path 0.3.2 has requirement referencing<0.32.0,>=0.28.0, but you'll have referencing 0.33.0 which is incompatible.\u001b[0m\n",
      "\u001b[?25hInstalling collected packages: six, certifi, charset-normalizer, urllib3, idna, requests, python-dateutil, opensearch-py\n",
      "Successfully installed certifi-2024.2.2 charset-normalizer-3.3.2 idna-3.7 opensearch-py-2.5.0 python-dateutil-2.9.0.post0 requests-2.32.2 six-1.16.0 urllib3-1.26.18\n",
      "\u001b[33mWARNING: You are using pip version 19.3.1; however, version 24.0 is available.\n",
      "You should consider upgrading via the 'pip install --upgrade pip' command.\u001b[0m\n"
     ]
    }
   ],
   "source": [
    "!pip install opensearch-py"
   ]
  },
  {
   "cell_type": "code",
   "execution_count": 2,
   "id": "e671d267-4212-482f-9b84-c9cc7a59857e",
   "metadata": {},
   "outputs": [],
   "source": [
    "from opensearchpy import OpenSearch\n",
    "host = 'vpc-aw-fdc-opensearch-qa-01-klbmt4ru7oksvsemnnmjpohfw4.us-east-1.es.amazonaws.com'\n",
    "port = 443\n",
    "auth = ('qa-developer', 'wF5341W8=~') # For testing only. Don't store credentials in code.\n",
    "#ca_certs_path = '/full/path/to/root-ca.pem' # Provide a CA bundle if you use intermediate CAs with your root CA.\n",
    "\n",
    "# Create the client with SSL/TLS enabled, but hostname verification disabled.\n",
    "client = OpenSearch(\n",
    "    hosts = [{'host': host, 'port': port}],\n",
    "    http_compress = True, # enables gzip compression for request bodies\n",
    "    http_auth = auth,\n",
    "    use_ssl = True,\n",
    "    verify_certs = True,\n",
    "    ssl_assert_hostname = False,\n",
    "    ssl_show_warn = False\n",
    ")"
   ]
  },
  {
   "cell_type": "code",
   "execution_count": 17,
   "id": "0bef0b05-d162-467d-94a5-6e2363491b05",
   "metadata": {},
   "outputs": [],
   "source": [
    "query = {\n",
    "  \"size\" : 1000,\n",
    "  \"sort\" : [\n",
    "        { \"@timestamp\" : {\"order\" : \"desc\"}}\n",
    "  ],\n",
    "  \"query\": {\n",
    "    \"bool\": {\n",
    "        \"must\": [\n",
    "            {\"match_phrase\" : {\"kubernetes.labels.app\": \"fosfor-gatekeeper\"}},\n",
    "            {\"regexp\": {\"message\": \"[0-9]{1,3}.[0-9]{1,3}.[0-9]{1,3}.[0-9]{1,3}\"}}\n",
    "        ],\n",
    "        \"filter\" : { \"bool\" :   {   \n",
    "            \"must_not\": [{\"regexp\" : {\"message\": \"elb\"}}]\n",
    "            }\n",
    "        }\n",
    "      }\n",
    "    }\n",
    "}\n",
    "    \n",
    "response = client.search(\n",
    "    body = query,\n",
    "    index = 'filebeat-qa-*'\n",
    ")\n",
    "\n",
    "#response"
   ]
  },
  {
   "cell_type": "code",
   "execution_count": 35,
   "id": "539e6ab1-1b64-4856-af21-2cb91bcee044",
   "metadata": {},
   "outputs": [
    {
     "name": "stdout",
     "output_type": "stream",
     "text": [
      "['10.229.14.228', '-', '-', '[23/May/2024:12:19:23', '+0000]', '\"GET', '/analytics-config/v1/dataset/datasetId_Not%20Found/kpi?sort=_modified_date+desc&version=draft&status=enabled%2Cdisabled%2Cissue%2Cdraft', 'HTTP/1.1\"', '500', '56', '\"-\"', '\"Mozilla/5.0', '(Windows', 'NT', '10.0;', 'Win64;', 'x64)', 'AppleWebKit/537.36', '(KHTML,', 'like', 'Gecko)', 'Chrome/124.0.0.0', 'Safari/537.36\"', '\"52.205.198.241\"']\n"
     ]
    },
    {
     "ename": "AttributeError",
     "evalue": "'list' object has no attribute 'length'",
     "output_type": "error",
     "traceback": [
      "\u001b[0;31m---------------------------------------------------------------------------\u001b[0m",
      "\u001b[0;31mAttributeError\u001b[0m                            Traceback (most recent call last)",
      "Cell \u001b[0;32mIn[35], line 8\u001b[0m\n\u001b[1;32m      6\u001b[0m \u001b[38;5;28mstr\u001b[39m \u001b[38;5;241m=\u001b[39m hit[\u001b[38;5;124m\"\u001b[39m\u001b[38;5;124m_source\u001b[39m\u001b[38;5;124m\"\u001b[39m][\u001b[38;5;124m\"\u001b[39m\u001b[38;5;124mmessage\u001b[39m\u001b[38;5;124m\"\u001b[39m]\u001b[38;5;241m.\u001b[39msplit()\n\u001b[1;32m      7\u001b[0m \u001b[38;5;28mprint\u001b[39m(\u001b[38;5;28mstr\u001b[39m)\n\u001b[0;32m----> 8\u001b[0m \u001b[38;5;28;01mif\u001b[39;00m \u001b[38;5;28;43mstr\u001b[39;49m\u001b[38;5;241;43m.\u001b[39;49m\u001b[43mlength\u001b[49m() \u001b[38;5;241m>\u001b[39m \u001b[38;5;241m9\u001b[39m:\n\u001b[1;32m      9\u001b[0m     s_arr\u001b[38;5;241m.\u001b[39mappend(\u001b[38;5;28mstr\u001b[39m[\u001b[38;5;241m6\u001b[39m])\n\u001b[1;32m     10\u001b[0m     s_arr\u001b[38;5;241m.\u001b[39mappend(\u001b[38;5;28mstr\u001b[39m[\u001b[38;5;241m8\u001b[39m])\n",
      "\u001b[0;31mAttributeError\u001b[0m: 'list' object has no attribute 'length'"
     ]
    }
   ],
   "source": [
    "import sys\n",
    "\n",
    "l_arr = []\n",
    "for hit in response['hits']['hits']:\n",
    "    s_arr = []\n",
    "    str = hit[\"_source\"][\"message\"].split()\n",
    "    print(str)\n",
    "    if str.length() > 9:\n",
    "        s_arr.append(str[6])\n",
    "        s_arr.append(str[8])\n",
    "        s_arr.append(str[9])\n",
    "        l_arr.append(s_arr)\n"
   ]
  },
  {
   "cell_type": "code",
   "execution_count": null,
   "id": "d652cf9a-287d-4cbd-9549-99453dbc596a",
   "metadata": {},
   "outputs": [],
   "source": []
  }
 ],
 "metadata": {
  "kernelspec": {
   "display_name": "Python 3",
   "language": "python",
   "name": "python3"
  },
  "language_info": {
   "codemirror_mode": {
    "name": "ipython",
    "version": 3
   },
   "file_extension": ".py",
   "mimetype": "text/x-python",
   "name": "python",
   "nbconvert_exporter": "python",
   "pygments_lexer": "ipython3",
   "version": "3.9.18"
  }
 },
 "nbformat": 4,
 "nbformat_minor": 5
}
