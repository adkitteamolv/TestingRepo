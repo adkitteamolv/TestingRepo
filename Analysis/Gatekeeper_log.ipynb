{
 "cells": [
  {
   "cell_type": "code",
   "execution_count": 1,
   "id": "31be45b1-e277-4cb5-ba26-78c3aa6e038f",
   "metadata": {},
   "outputs": [
    {
     "name": "stdout",
     "output_type": "stream",
     "text": [
      "Collecting opensearch-py\n",
      "\u001b[?25l  Downloading https://files.pythonhosted.org/packages/1f/5e/e1a19eb99313da69e92095858bf828ea849242e3562de6ccf6b88866c378/opensearch_py-2.5.0-py2.py3-none-any.whl (266kB)\n",
      "\u001b[K     |████████████████████████████████| 266kB 22.7MB/s eta 0:00:01\n",
      "\u001b[?25hCollecting six\n",
      "  Downloading https://files.pythonhosted.org/packages/d9/5a/e7c31adbe875f2abbb91bd84cf2dc52d792b5a01506781dbcf25c91daf11/six-1.16.0-py2.py3-none-any.whl\n",
      "Collecting certifi>=2022.12.07\n",
      "\u001b[?25l  Downloading https://files.pythonhosted.org/packages/ba/06/a07f096c664aeb9f01624f858c3add0a4e913d6c96257acb4fce61e7de14/certifi-2024.2.2-py3-none-any.whl (163kB)\n",
      "\u001b[K     |████████████████████████████████| 163kB 85.5MB/s eta 0:00:01\n",
      "\u001b[?25hCollecting requests<3.0.0,>=2.4.0\n",
      "\u001b[?25l  Downloading https://files.pythonhosted.org/packages/c3/20/748e38b466e0819491f0ce6e90ebe4184966ee304fe483e2c414b0f4ef07/requests-2.32.2-py3-none-any.whl (63kB)\n",
      "\u001b[K     |████████████████████████████████| 71kB 24.6MB/s eta 0:00:01\n",
      "\u001b[?25hCollecting urllib3<2,>=1.26.18\n",
      "\u001b[?25l  Downloading https://files.pythonhosted.org/packages/b0/53/aa91e163dcfd1e5b82d8a890ecf13314e3e149c05270cc644581f77f17fd/urllib3-1.26.18-py2.py3-none-any.whl (143kB)\n",
      "\u001b[K     |████████████████████████████████| 153kB 59.4MB/s eta 0:00:01\n",
      "\u001b[?25hCollecting python-dateutil\n",
      "\u001b[?25l  Downloading https://files.pythonhosted.org/packages/ec/57/56b9bcc3c9c6a792fcbaf139543cee77261f3651ca9da0c93f5c1221264b/python_dateutil-2.9.0.post0-py2.py3-none-any.whl (229kB)\n",
      "\u001b[K     |████████████████████████████████| 235kB 74.8MB/s eta 0:00:01\n",
      "\u001b[?25hCollecting charset-normalizer<4,>=2\n",
      "\u001b[?25l  Downloading https://files.pythonhosted.org/packages/98/69/5d8751b4b670d623aa7a47bef061d69c279e9f922f6705147983aa76c3ce/charset_normalizer-3.3.2-cp39-cp39-manylinux_2_17_x86_64.manylinux2014_x86_64.whl (142kB)\n",
      "\u001b[K     |████████████████████████████████| 143kB 68.9MB/s eta 0:00:01\n",
      "\u001b[?25hCollecting idna<4,>=2.5\n",
      "\u001b[?25l  Downloading https://files.pythonhosted.org/packages/e5/3e/741d8c82801c347547f8a2a06aa57dbb1992be9e948df2ea0eda2c8b79e8/idna-3.7-py3-none-any.whl (66kB)\n",
      "\u001b[K     |████████████████████████████████| 71kB 23.8MB/s eta 0:00:01\n",
      "\u001b[31mERROR: openapi-schema-validator 0.6.2 has requirement jsonschema<5.0.0,>=4.19.1, but you'll have jsonschema 4.19.0 which is incompatible.\u001b[0m\n",
      "\u001b[31mERROR: mosaic-ai-client 1.0.0 has requirement matplotlib==3.1.1, but you'll have matplotlib 3.6.0 which is incompatible.\u001b[0m\n",
      "\u001b[31mERROR: jsonschema-path 0.3.2 has requirement referencing<0.32.0,>=0.28.0, but you'll have referencing 0.33.0 which is incompatible.\u001b[0m\n",
      "\u001b[?25hInstalling collected packages: six, certifi, charset-normalizer, urllib3, idna, requests, python-dateutil, opensearch-py\n",
      "Successfully installed certifi-2024.2.2 charset-normalizer-3.3.2 idna-3.7 opensearch-py-2.5.0 python-dateutil-2.9.0.post0 requests-2.32.2 six-1.16.0 urllib3-1.26.18\n",
      "\u001b[33mWARNING: You are using pip version 19.3.1; however, version 24.0 is available.\n",
      "You should consider upgrading via the 'pip install --upgrade pip' command.\u001b[0m\n"
     ]
    }
   ],
   "source": [
    "!pip install opensearch-py"
   ]
  },
  {
   "cell_type": "code",
   "execution_count": 2,
   "id": "e671d267-4212-482f-9b84-c9cc7a59857e",
   "metadata": {},
   "outputs": [],
   "source": [
    "from opensearchpy import OpenSearch\n",
    "host = 'vpc-aw-fdc-opensearch-qa-01-klbmt4ru7oksvsemnnmjpohfw4.us-east-1.es.amazonaws.com'\n",
    "port = 443\n",
    "auth = ('qa-developer', 'wF5341W8=~') # For testing only. Don't store credentials in code.\n",
    "#ca_certs_path = '/full/path/to/root-ca.pem' # Provide a CA bundle if you use intermediate CAs with your root CA.\n",
    "\n",
    "# Create the client with SSL/TLS enabled, but hostname verification disabled.\n",
    "client = OpenSearch(\n",
    "    hosts = [{'host': host, 'port': port}],\n",
    "    http_compress = True, # enables gzip compression for request bodies\n",
    "    http_auth = auth,\n",
    "    use_ssl = True,\n",
    "    verify_certs = True,\n",
    "    ssl_assert_hostname = False,\n",
    "    ssl_show_warn = False\n",
    ")"
   ]
  },
  {
   "cell_type": "code",
   "execution_count": 17,
   "id": "0bef0b05-d162-467d-94a5-6e2363491b05",
   "metadata": {},
   "outputs": [],
   "source": [
    "query = {\n",
    "  \"size\" : 1000,\n",
    "  \"sort\" : [\n",
    "        { \"@timestamp\" : {\"order\" : \"desc\"}}\n",
    "  ],\n",
    "  \"query\": {\n",
    "    \"bool\": {\n",
    "        \"must\": [\n",
    "            {\"match_phrase\" : {\"kubernetes.labels.app\": \"fosfor-gatekeeper\"}},\n",
    "            {\"regexp\": {\"message\": \"[0-9]{1,3}.[0-9]{1,3}.[0-9]{1,3}.[0-9]{1,3}\"}}\n",
    "        ],\n",
    "        \"filter\" : { \"bool\" :   {   \n",
    "            \"must_not\": [{\"regexp\" : {\"message\": \"elb\"}}]\n",
    "            }\n",
    "        }\n",
    "      }\n",
    "    }\n",
    "}\n",
    "    \n",
    "response = client.search(\n",
    "    body = query,\n",
    "    index = 'filebeat-qa-*'\n",
    ")\n",
    "\n",
    "#response"
   ]
  },
  {
   "cell_type": "code",
   "execution_count": 37,
   "id": "539e6ab1-1b64-4856-af21-2cb91bcee044",
   "metadata": {},
   "outputs": [],
   "source": [
    "import sys\n",
    "\n",
    "l_arr = []\n",
    "for hit in response['hits']['hits']:\n",
    "    s_arr = []\n",
    "    str = hit[\"_source\"][\"message\"].split()\n",
    "    if len(str) > 9:\n",
    "        s_arr.append(str[6])\n",
    "        s_arr.append(str[8])\n",
    "        s_arr.append(str[9])\n",
    "        l_arr.append(s_arr)\n"
   ]
  },
  {
   "cell_type": "code",
   "execution_count": 38,
   "id": "d652cf9a-287d-4cbd-9549-99453dbc596a",
   "metadata": {},
   "outputs": [
    {
     "data": {
      "text/plain": [
       "['/analytics-config/v1/dataset/datasetId_Not%20Found/kpi?sort=_modified_date+desc&version=draft&status=enabled%2Cdisabled%2Cissue%2Cdraft',\n",
       " '500',\n",
       " '56']"
      ]
     },
     "execution_count": 38,
     "metadata": {},
     "output_type": "execute_result"
    }
   ],
   "source": [
    "l_arr[0]"
   ]
  },
  {
   "cell_type": "code",
   "execution_count": 41,
   "id": "eed2b8cb-d179-49b8-87ae-66171d45bdd1",
   "metadata": {},
   "outputs": [],
   "source": [
    "import pandas as pd\n",
    "df = pd.DataFrame(l_arr, columns=['URL', 'CODE', 'TIME'])"
   ]
  },
  {
   "cell_type": "code",
   "execution_count": 43,
   "id": "630279c9-fb1c-42f2-8ad7-6901063485bb",
   "metadata": {},
   "outputs": [
    {
     "data": {
      "text/plain": [
       "URL     998\n",
       "CODE    998\n",
       "TIME    998\n",
       "dtype: int64"
      ]
     },
     "execution_count": 43,
     "metadata": {},
     "output_type": "execute_result"
    }
   ],
   "source": [
    "df.count()"
   ]
  },
  {
   "cell_type": "code",
   "execution_count": 45,
   "id": "1be73743-8428-490a-9cc4-8ba36bd834a0",
   "metadata": {},
   "outputs": [],
   "source": [
    "df2 = df.groupby(['URL', 'CODE']).agg({'TIME': ['sum']})"
   ]
  },
  {
   "cell_type": "code",
   "execution_count": 49,
   "id": "0680a44e-a8e6-4739-8a5a-3d75b834b5d1",
   "metadata": {},
   "outputs": [
    {
     "ename": "AttributeError",
     "evalue": "'DataFrame' object has no attribute 'sort'",
     "output_type": "error",
     "traceback": [
      "\u001b[0;31m---------------------------------------------------------------------------\u001b[0m",
      "\u001b[0;31mAttributeError\u001b[0m                            Traceback (most recent call last)",
      "\u001b[0;32m<ipython-input-49-aa739ec797f7>\u001b[0m in \u001b[0;36m?\u001b[0;34m()\u001b[0m\n\u001b[0;32m----> 1\u001b[0;31m \u001b[0mdf\u001b[0m\u001b[0;34m.\u001b[0m\u001b[0msort\u001b[0m\u001b[0;34m(\u001b[0m\u001b[0;34m\"TIME\"\u001b[0m\u001b[0;34m)\u001b[0m\u001b[0;34m\u001b[0m\u001b[0;34m\u001b[0m\u001b[0m\n\u001b[0m",
      "\u001b[0;32m/opt/conda/lib/python3.9/site-packages/pandas/core/generic.py\u001b[0m in \u001b[0;36m?\u001b[0;34m(self, name)\u001b[0m\n\u001b[1;32m   6289\u001b[0m             \u001b[0;32mand\u001b[0m \u001b[0mname\u001b[0m \u001b[0;32mnot\u001b[0m \u001b[0;32min\u001b[0m \u001b[0mself\u001b[0m\u001b[0;34m.\u001b[0m\u001b[0m_accessors\u001b[0m\u001b[0;34m\u001b[0m\u001b[0;34m\u001b[0m\u001b[0m\n\u001b[1;32m   6290\u001b[0m             \u001b[0;32mand\u001b[0m \u001b[0mself\u001b[0m\u001b[0;34m.\u001b[0m\u001b[0m_info_axis\u001b[0m\u001b[0;34m.\u001b[0m\u001b[0m_can_hold_identifiers_and_holds_name\u001b[0m\u001b[0;34m(\u001b[0m\u001b[0mname\u001b[0m\u001b[0;34m)\u001b[0m\u001b[0;34m\u001b[0m\u001b[0;34m\u001b[0m\u001b[0m\n\u001b[1;32m   6291\u001b[0m         ):\n\u001b[1;32m   6292\u001b[0m             \u001b[0;32mreturn\u001b[0m \u001b[0mself\u001b[0m\u001b[0;34m[\u001b[0m\u001b[0mname\u001b[0m\u001b[0;34m]\u001b[0m\u001b[0;34m\u001b[0m\u001b[0;34m\u001b[0m\u001b[0m\n\u001b[0;32m-> 6293\u001b[0;31m         \u001b[0;32mreturn\u001b[0m \u001b[0mobject\u001b[0m\u001b[0;34m.\u001b[0m\u001b[0m__getattribute__\u001b[0m\u001b[0;34m(\u001b[0m\u001b[0mself\u001b[0m\u001b[0;34m,\u001b[0m \u001b[0mname\u001b[0m\u001b[0;34m)\u001b[0m\u001b[0;34m\u001b[0m\u001b[0;34m\u001b[0m\u001b[0m\n\u001b[0m",
      "\u001b[0;31mAttributeError\u001b[0m: 'DataFrame' object has no attribute 'sort'"
     ]
    }
   ],
   "source": [
    "df.sort(\"TIME\")"
   ]
  },
  {
   "cell_type": "code",
   "execution_count": 50,
   "id": "bd169de2-5985-489c-bce4-df8d3285590f",
   "metadata": {},
   "outputs": [],
   "source": [
    "df.sort_values(by='TIME', inplace=True, ascending=Tru)"
   ]
  },
  {
   "cell_type": "code",
   "execution_count": 51,
   "id": "e463a5ac-bde9-48b4-8acb-b5cbbfd2e8e3",
   "metadata": {},
   "outputs": [
    {
     "data": {
      "text/html": [
       "<div>\n",
       "<style scoped>\n",
       "    .dataframe tbody tr th:only-of-type {\n",
       "        vertical-align: middle;\n",
       "    }\n",
       "\n",
       "    .dataframe tbody tr th {\n",
       "        vertical-align: top;\n",
       "    }\n",
       "\n",
       "    .dataframe thead th {\n",
       "        text-align: right;\n",
       "    }\n",
       "</style>\n",
       "<table border=\"1\" class=\"dataframe\">\n",
       "  <thead>\n",
       "    <tr style=\"text-align: right;\">\n",
       "      <th></th>\n",
       "      <th>URL</th>\n",
       "      <th>CODE</th>\n",
       "      <th>TIME</th>\n",
       "    </tr>\n",
       "  </thead>\n",
       "  <tbody>\n",
       "    <tr>\n",
       "      <th>543</th>\n",
       "      <td>/fdc/?tenantName=default-realm&amp;userName=perfde...</td>\n",
       "      <td>302</td>\n",
       "      <td>0</td>\n",
       "    </tr>\n",
       "    <tr>\n",
       "      <th>663</th>\n",
       "      <td>/monitor-pipeline/vendors-node_modules_materia...</td>\n",
       "      <td>304</td>\n",
       "      <td>0</td>\n",
       "    </tr>\n",
       "    <tr>\n",
       "      <th>662</th>\n",
       "      <td>/monitor-pipeline/vendors-node_modules_materia...</td>\n",
       "      <td>304</td>\n",
       "      <td>0</td>\n",
       "    </tr>\n",
       "    <tr>\n",
       "      <th>455</th>\n",
       "      <td>/55c4a2173f4a78e0.gif</td>\n",
       "      <td>304</td>\n",
       "      <td>0</td>\n",
       "    </tr>\n",
       "    <tr>\n",
       "      <th>457</th>\n",
       "      <td>/b9de66f797e3f960.png</td>\n",
       "      <td>304</td>\n",
       "      <td>0</td>\n",
       "    </tr>\n",
       "    <tr>\n",
       "      <th>...</th>\n",
       "      <td>...</td>\n",
       "      <td>...</td>\n",
       "      <td>...</td>\n",
       "    </tr>\n",
       "    <tr>\n",
       "      <th>677</th>\n",
       "      <td>c.l.f.c.GatewayConfig</td>\n",
       "      <td>user</td>\n",
       "      <td>id</td>\n",
       "    </tr>\n",
       "    <tr>\n",
       "      <th>242</th>\n",
       "      <td>c.l.f.c.GatewayConfig</td>\n",
       "      <td>user</td>\n",
       "      <td>id</td>\n",
       "    </tr>\n",
       "    <tr>\n",
       "      <th>674</th>\n",
       "      <td>c.l.f.c.GatewayConfig</td>\n",
       "      <td>user</td>\n",
       "      <td>id</td>\n",
       "    </tr>\n",
       "    <tr>\n",
       "      <th>810</th>\n",
       "      <td>c.l.f.c.LogoutController</td>\n",
       "      <td>propagateLogoutToKeycloakPostcall</td>\n",
       "      <td>method</td>\n",
       "    </tr>\n",
       "    <tr>\n",
       "      <th>809</th>\n",
       "      <td>c.l.f.c.LogoutController</td>\n",
       "      <td>propagateLogoutToKeycloakPostcall</td>\n",
       "      <td>method:</td>\n",
       "    </tr>\n",
       "  </tbody>\n",
       "</table>\n",
       "<p>998 rows × 3 columns</p>\n",
       "</div>"
      ],
      "text/plain": [
       "                                                   URL  \\\n",
       "543  /fdc/?tenantName=default-realm&userName=perfde...   \n",
       "663  /monitor-pipeline/vendors-node_modules_materia...   \n",
       "662  /monitor-pipeline/vendors-node_modules_materia...   \n",
       "455                              /55c4a2173f4a78e0.gif   \n",
       "457                              /b9de66f797e3f960.png   \n",
       "..                                                 ...   \n",
       "677                              c.l.f.c.GatewayConfig   \n",
       "242                              c.l.f.c.GatewayConfig   \n",
       "674                              c.l.f.c.GatewayConfig   \n",
       "810                           c.l.f.c.LogoutController   \n",
       "809                           c.l.f.c.LogoutController   \n",
       "\n",
       "                                  CODE     TIME  \n",
       "543                                302        0  \n",
       "663                                304        0  \n",
       "662                                304        0  \n",
       "455                                304        0  \n",
       "457                                304        0  \n",
       "..                                 ...      ...  \n",
       "677                               user       id  \n",
       "242                               user       id  \n",
       "674                               user       id  \n",
       "810  propagateLogoutToKeycloakPostcall   method  \n",
       "809  propagateLogoutToKeycloakPostcall  method:  \n",
       "\n",
       "[998 rows x 3 columns]"
      ]
     },
     "execution_count": 51,
     "metadata": {},
     "output_type": "execute_result"
    }
   ],
   "source": [
    "df"
   ]
  },
  {
   "cell_type": "code",
   "execution_count": null,
   "id": "9ad4c90d-16b8-4989-a750-0b62b9c73e57",
   "metadata": {},
   "outputs": [],
   "source": []
  }
 ],
 "metadata": {
  "kernelspec": {
   "display_name": "Python 3",
   "language": "python",
   "name": "python3"
  },
  "language_info": {
   "codemirror_mode": {
    "name": "ipython",
    "version": 3
   },
   "file_extension": ".py",
   "mimetype": "text/x-python",
   "name": "python",
   "nbconvert_exporter": "python",
   "pygments_lexer": "ipython3",
   "version": "3.9.18"
  }
 },
 "nbformat": 4,
 "nbformat_minor": 5
}
